{
 "cells": [
  {
   "cell_type": "code",
   "execution_count": 1,
   "metadata": {},
   "outputs": [
    {
     "name": "stdout",
     "output_type": "stream",
     "text": [
      "Populating the interactive namespace from numpy and matplotlib\n"
     ]
    }
   ],
   "source": [
    "%pylab inline"
   ]
  },
  {
   "cell_type": "code",
   "execution_count": 2,
   "metadata": {},
   "outputs": [
    {
     "name": "stderr",
     "output_type": "stream",
     "text": [
      "/usr/lib/python2.7/site-packages/h5py/__init__.py:36: FutureWarning: Conversion of the second argument of issubdtype from `float` to `np.floating` is deprecated. In future, it will be treated as `np.float64 == np.dtype(float).type`.\n",
      "  from ._conv import register_converters as _register_converters\n"
     ]
    }
   ],
   "source": [
    "from itertools import product\n",
    "import pandas as pd\n",
    "import h5py"
   ]
  },
  {
   "cell_type": "markdown",
   "metadata": {},
   "source": [
    "## Create fake population\n",
    "\n",
    "With:\n",
    "\n",
    "- hierarchy:\n",
    "    - 5 levels:\n",
    "    - 3 levels are administrative: 10000 people per level 0, 2500 per level 1, 625 per level 2\n",
    "    - last two levels are the community and household: ~180 per level 3 and then level 4 are clusters of ~25 households;\n",
    "\n",
    "- households:\n",
    "    - 1/size probability in size;\n",
    "    - 2 person households are 70% adult couples and 30% single parent with children < 18;\n",
    "    - discard by now single parent with multiple children;\n",
    "    - Adults age flat 18 < age < 100;\n",
    "    - children flat 0, 18;\n",
    "    - 50/50 sex;\n",
    "    - progressive id of household and agents;\n",
    "    - adults 80% with workplace 20% unemplyed;\n",
    "    - children 100% to school;\n",
    "    - adults education: 20% = 0 (elementary); 50% = 1 (secondary); 30% = 2 (university);\n",
    "    - adults income: normal distribution avg 1000 std 200;\n",
    "    \n",
    "- workplaces/schools:\n",
    "    - size sampled from normal avg 60 std 10;\n",
    "    - create as many as necessary and assign them to 3-rd level;\n",
    "    - children goes to infantry (0 <= age < 6, code 0), elementary (6 <= age < 11, code 1) or secondary  (11 <= age < 19, code 2) schools;\n",
    "\n",
    "- demography\n",
    "    - we use the data of the natality/mortality rates in ..."
   ]
  },
  {
   "cell_type": "code",
   "execution_count": 3,
   "metadata": {
    "collapsed": true
   },
   "outputs": [],
   "source": [
    "#################\n",
    "# Configuration #\n",
    "#################\n",
    "\n",
    "numberOfLevels = 5\n",
    "administrativeLevel = 3\n",
    "nCodesPerLevel = 4\n",
    "\n",
    "sizeLevel = [5000, 1250, 320, 80, 20]"
   ]
  },
  {
   "cell_type": "code",
   "execution_count": 29,
   "metadata": {
    "collapsed": true
   },
   "outputs": [],
   "source": [
    "levelCodes = [range(nCodesPerLevel)]*numberOfLevels\n",
    "\n",
    "def generateAdminCodes(args):\n",
    "    return list(product(*args))\n",
    "\n",
    "administrativeCodes = generateAdminCodes(levelCodes[:administrativeLevel])"
   ]
  },
  {
   "cell_type": "markdown",
   "metadata": {},
   "source": [
    "\n",
    "### The fake table of household size CDF\n",
    "\n",
    "In this example we use a $P(s) \\propto 1/s$ household size distribution (with $s\\in [1,8]$) for each geographical area."
   ]
  },
  {
   "cell_type": "code",
   "execution_count": 38,
   "metadata": {
    "collapsed": true
   },
   "outputs": [],
   "source": [
    "maxHouseholdSize = 8\n",
    "\n",
    "singleCDF = np.cumsum(1./np.arange(1, 1+maxHouseholdSize))\n",
    "singleCDF /= singleCDF[-1]\n",
    "hhsizeCDF = {code: singleCDF for code in administrativeCodes}\n",
    "\n",
    "# Function that returns the householdSize for a given geocode...\n",
    "sampleHouseholdSize = lambda geocode: np.argmax(np.random.rand() < hhsizeCDF[geocode]) + 1"
   ]
  },
  {
   "cell_type": "code",
   "execution_count": null,
   "metadata": {
    "collapsed": true
   },
   "outputs": [],
   "source": []
  },
  {
   "cell_type": "code",
   "execution_count": 4,
   "metadata": {
    "collapsed": true
   },
   "outputs": [],
   "source": [
    "#\n",
    "\n",
    "\n",
    "hhsizeCDF = np.cumsum(1./np.arange(1, 8)) # 1/size with 1 < size < 8\n",
    "hhsizeCDF /= hhsizeCDF[-1]\n",
    "\n",
    "# The fraction of household with cou\n",
    "prob2sizedHouseholdCouple = .7\n",
    "\n",
    "ageAdult = lambda: np.random.randint(18, 101)\n",
    "ageChild = lambda: np.random.randint(0, 18)\n",
    "sexAgent = lambda: np.random.randint(2)\n",
    "\n",
    "adultEmployed = lambda: int(np.random.rand() < .8)\n",
    "childGoSchool = lambda: 1.\n",
    "\n",
    "adultEducation = lambda: np.argmax(np.random.rand() < np.array([.2, .7, 1.]))\n",
    "adultIncome = lambda: max(400., np.random.normal(1000, 200))\n",
    "\n",
    "schoolSize    = lambda kind: max(15, int(np.ceil(np.random.normal(50, 10))))\n",
    "workplaceSize = lambda kind: max(2, int(np.ceil(np.random.normal(40, 10))))"
   ]
  },
  {
   "cell_type": "code",
   "execution_count": 5,
   "metadata": {
    "collapsed": true
   },
   "outputs": [],
   "source": [
    "# We also approximate the codes to be squares in a plane\n",
    "# lon = x = number col; lat = y = number row;\n",
    "\n",
    "nCols = 2 # number of level 0 codes per row\n",
    "codesPerSquare = 2\n",
    "stepLon0, stepLon1, stepLon2 = 2., 1., .5\n",
    "stepLat0, stepLat1, stepLat2 = 2., 1., .5\n",
    "\n",
    "codes2lat = lambda (l0, l1, l2): (l0 // nCols) * stepLat0 +\\\n",
    "                                    (l1 // codesPerSquare) * stepLat1 +\\\n",
    "                                        (l2 // codesPerSquare) * stepLat2 + np.random.rand()*stepLat2\n",
    "\n",
    "codes2lon = lambda (l0, l1, l2): (l0 % nCols) * stepLon0 +\\\n",
    "                                    (l1 % codesPerSquare) * stepLon1 +\\\n",
    "                                        (l2 % codesPerSquare) * stepLon2 + np.random.rand()*stepLon2\n",
    "        \n",
    "codes2coord = lambda c: (codes2lon(c), codes2lat(c))"
   ]
  },
  {
   "cell_type": "code",
   "execution_count": 6,
   "metadata": {},
   "outputs": [
    {
     "data": {
      "image/png": "[encoded data removed]",
      "text/plain": [
       "<matplotlib.figure.Figure at 0x7f247c38abd0>"
      ]
     },
     "metadata": {},
     "output_type": "display_data"
    }
   ],
   "source": [
    "for code in administrativeCodes:\n",
    "    npoints = 100\n",
    "    coords = np.array([codes2coord(code) for i in range(npoints)]).reshape(npoints, 2)\n",
    "    plt.plot(coords[:,0], coords[:,1], \".\")"
   ]
  },
  {
   "cell_type": "code",
   "execution_count": 7,
   "metadata": {
    "collapsed": true
   },
   "outputs": [],
   "source": [
    "# We define here an household to kind function to label the kind of each household\n",
    "def components2householdID(components):\n",
    "    '''agent = [agentID, householdID, tmp_age, tmp_sex, tmp_employ, tmp_edu, tmp_income]'''\n",
    "    nPeople = len(components)\n",
    "    nAdults = sum([1 for component in components if component[2] >= 18])\n",
    "    nChildren = nPeople - nAdults\n",
    "    if nPeople == 1:\n",
    "        # Single\n",
    "        return 0\n",
    "    elif nPeople == 2 and nAdults == 2:\n",
    "        # Couple, no children\n",
    "        return 1\n",
    "    elif nPeople > 2 and nAdults == 2:\n",
    "        # Couple children\n",
    "        return 2\n",
    "    elif nPeople >= 2 and nAdults == 1:\n",
    "        # Single parent with children\n",
    "        return 3\n",
    "    else:\n",
    "        raise RuntimeError, \"Unkwown combination of %d people, %d adults and %d children....\" %\\\n",
    "                            (nPeople, nAdults, nChildren)\n",
    "    "
   ]
  },
  {
   "cell_type": "code",
   "execution_count": null,
   "metadata": {
    "collapsed": true
   },
   "outputs": [],
   "source": []
  },
  {
   "cell_type": "code",
   "execution_count": 8,
   "metadata": {},
   "outputs": [
    {
     "name": "stdout",
     "output_type": "stream",
     "text": [
      "CPU times: user 453 ms, sys: 4.43 ms, total: 457 ms\n",
      "Wall time: 457 ms\n"
     ]
    }
   ],
   "source": [
    "%%time\n",
    "\n",
    "agentsTable = []\n",
    "householdsTable = []\n",
    "workplacesTable = []\n",
    "\n",
    "counterPeople = {}\n",
    "\n",
    "householdID = 0\n",
    "agentID = 0\n",
    "workplaceID = 0\n",
    "\n",
    "for l0 in level0codes:\n",
    "    for l1 in level1codes:\n",
    "        for l2 in level2codes:\n",
    "            tmp_adminCode = (l0, l1, l2)\n",
    "            counterPeople[tmp_adminCode] =  {\"children\": 0, \"adults\": 0, \"working\": 0,\\\n",
    "                                      \"kindergarden\": 0, \"elementary\": 0, \"secondary\": 0,}\n",
    "            tmp_agentsTable = []\n",
    "            \n",
    "            size2 = 0\n",
    "            l3 = -1\n",
    "            while size2 < sizeLevel2:\n",
    "                l3 += 1\n",
    "                size3 = 0\n",
    "                \n",
    "                l4 = -1\n",
    "                while size3 < sizeLevel3:\n",
    "                    l4 += 1\n",
    "                    size4 = 0\n",
    "                    while size4 < sizeLevel4:\n",
    "                        tmp_hhsize = hhsize()\n",
    "                        \n",
    "                        tmp_house_kind = []\n",
    "                        tmp_house_kind.append(1) # 1 adult for sure\n",
    "                        \n",
    "                        if tmp_hhsize >= 2:\n",
    "                            if tmp_hhsize == 2:\n",
    "                                if np.random.rand() < prob2sizedHouseholdCouple:\n",
    "                                    tmp_house_kind.append(1)\n",
    "                                else:\n",
    "                                    # Lone parent\n",
    "                                    tmp_house_kind.append(0)\n",
    "                            else:\n",
    "                                tmp_house_kind.append(1)\n",
    "                                tmp_house_kind.extend([0]*(tmp_hhsize-2))\n",
    "                            \n",
    "                        tmp_household = []\n",
    "                        for componentKind in tmp_house_kind:\n",
    "                            if componentKind == 1:\n",
    "                                # Adult\n",
    "                                tmp_age, tmp_sex = ageAdult(), sexAgent()\n",
    "                                tmp_employ, tmp_edu = adultEmployed(), adultEducation()\n",
    "                                tmp_income = 0 if not tmp_employ else adultIncome()\n",
    "                                if tmp_age > 67: tmp_employ = 0 # Retirement\n",
    "                                \n",
    "                                counterPeople[tmp_adminCode][\"adults\"] += 1\n",
    "                                if tmp_employ:\n",
    "                                    counterPeople[tmp_adminCode][\"working\"] += 1\n",
    "                            elif componentKind == 0:\n",
    "                                # Child\n",
    "                                tmp_age, tmp_sex = ageChild(), sexAgent()\n",
    "                                tmp_edu, tmp_income = 0, 0\n",
    "                                \n",
    "                                counterPeople[tmp_adminCode][\"children\"] += 1\n",
    "                                if 0<= tmp_age < 6:\n",
    "                                    counterPeople[tmp_adminCode][\"kindergarden\"] += 1\n",
    "                                    tmp_employ = 5\n",
    "                                elif 6<= tmp_age < 11:\n",
    "                                    counterPeople[tmp_adminCode][\"elementary\"] += 1\n",
    "                                    tmp_employ = 6\n",
    "                                elif 11<= tmp_age < 19:\n",
    "                                    counterPeople[tmp_adminCode][\"secondary\"] += 1\n",
    "                                    tmp_employ = 7\n",
    "                                    tmp_edu = 1\n",
    "                            else:\n",
    "                                raise RuntimeError, \"Unknown component kind %r in household!\" % componentKind\n",
    "                            tmp_agent = [agentID, householdID, tmp_age, tmp_sex, componentKind, tmp_employ, tmp_edu, tmp_income]\n",
    "                            tmp_agentsTable.append(tmp_agent)\n",
    "                            agentID += 1\n",
    "                            \n",
    "                            tmp_household.append(tmp_agent)\n",
    "                            \n",
    "                        tmp_lon, tmp_lat = codes2coord(tmp_adminCode)\n",
    "                        tmp_hhKind = components2householdID(tmp_household)\n",
    "                        \n",
    "                        householdsTable.append((householdID, l0, l1, l2, l3, l4, tmp_hhsize, tmp_hhKind, tmp_lon, tmp_lat))\n",
    "                        householdID += 1\n",
    "                        \n",
    "                        size4 += tmp_hhsize\n",
    "                        size3 += tmp_hhsize\n",
    "                        size2 += tmp_hhsize\n",
    "                          \n",
    "            # Here we have to create the schools and workplaces...\n",
    "            # create schools workplaces and then assign the people to them...\n",
    "            def create_workplace(kind):\n",
    "                global workplaceID\n",
    "                global tmp_adminCode\n",
    "                \n",
    "                if kind < 5:\n",
    "                    tmp_size = workplaceSize(kind)\n",
    "                else:\n",
    "                    tmp_size = schoolSize(kind)\n",
    "                tmp_id = workplaceID\n",
    "                tmp_lon, tmp_lat = codes2coord(tmp_adminCode)\n",
    "                out = [tmp_id]\n",
    "                out.extend([c for c in tmp_adminCode])\n",
    "                out.extend([tmp_size, kind, tmp_lon, tmp_lat])\n",
    "                workplacesTable.append(out)\n",
    "                workplaceID += 1\n",
    "                \n",
    "                return [tmp_id, tmp_size]\n",
    "            \n",
    "            tmp_kindergarden = None\n",
    "            if counterPeople[tmp_adminCode][\"kindergarden\"] > 0: tmp_kindergarden = create_workplace(kind=5)\n",
    "            \n",
    "            tmp_elementary = None\n",
    "            if counterPeople[tmp_adminCode][\"elementary\"] > 0: tmp_elementary = create_workplace(kind=6)\n",
    "                \n",
    "            tmp_secondary = None\n",
    "            if counterPeople[tmp_adminCode][\"secondary\"] > 0: tmp_secondary = create_workplace(kind=7)\n",
    "\n",
    "            tmp_workplace = None\n",
    "            if counterPeople[tmp_adminCode][\"working\"] > 0: tmp_workplace = create_workplace(kind=1)\n",
    "                \n",
    "            for tmp_agent in tmp_agentsTable:\n",
    "                tmp_employ = tmp_agent[4]\n",
    "                if tmp_employ == 0:\n",
    "                    # Unemplyed, negative workplace\n",
    "                    tmp_agent.append(-1)\n",
    "                elif tmp_employ == 1:\n",
    "                    # Employed, put in current workplace and check if a new one is needed.\n",
    "                    tmp_agent.append(tmp_workplace[0])\n",
    "                    tmp_workplace[1] -= 1\n",
    "                    if tmp_workplace[1] == 0: tmp_workplace = create_workplace(kind=tmp_employ)\n",
    "                elif tmp_employ == 5:\n",
    "                    # Kinderg, put in current workplace and check if a new one is needed.\n",
    "                    tmp_agent.append(tmp_kindergarden[0])\n",
    "                    tmp_kindergarden[1] -= 1\n",
    "                    if tmp_kindergarden[1] == 0: tmp_kindergarden = create_workplace(kind=tmp_employ)\n",
    "                elif tmp_employ == 6:\n",
    "                    # elementary, put in current workplace and check if a new one is needed.\n",
    "                    tmp_agent.append(tmp_elementary[0])\n",
    "                    tmp_elementary[1] -= 1\n",
    "                    if tmp_elementary[1] == 0: tmp_elementary = create_workplace(kind=tmp_employ)\n",
    "                elif tmp_employ == 7:\n",
    "                    # Secondary, put in current workplace and check if a new one is needed.\n",
    "                    tmp_agent.append(tmp_secondary[0])\n",
    "                    tmp_secondary[1] -= 1\n",
    "                    if tmp_secondary[1] == 0: tmp_secondary = create_workplace(kind=tmp_employ)\n",
    "                else:\n",
    "                    raise RuntimeError(\"Unknown case in emplyment: %d\" % tmp_employ)\n",
    "            agentsTable.extend(tmp_agentsTable)"
   ]
  },
  {
   "cell_type": "code",
   "execution_count": 9,
   "metadata": {},
   "outputs": [
    {
     "data": {
      "text/plain": [
       "(22012, 8218, 538)"
      ]
     },
     "execution_count": 9,
     "metadata": {},
     "output_type": "execute_result"
    }
   ],
   "source": [
    "len(agentsTable), len(householdsTable), len(workplacesTable)"
   ]
  },
  {
   "cell_type": "code",
   "execution_count": 10,
   "metadata": {},
   "outputs": [
    {
     "data": {
      "text/html": [
       "<div>\n",
       "<style scoped>\n",
       "    .dataframe tbody tr th:only-of-type {\n",
       "        vertical-align: middle;\n",
       "    }\n",
       "\n",
       "    .dataframe tbody tr th {\n",
       "        vertical-align: top;\n",
       "    }\n",
       "\n",
       "    .dataframe thead th {\n",
       "        text-align: right;\n",
       "    }\n",
       "</style>\n",
       "<table border=\"1\" class=\"dataframe\">\n",
       "  <thead>\n",
       "    <tr style=\"text-align: right;\">\n",
       "      <th></th>\n",
       "      <th>id</th>\n",
       "      <th>hh</th>\n",
       "      <th>age</th>\n",
       "      <th>sex</th>\n",
       "      <th>role</th>\n",
       "      <th>empl</th>\n",
       "      <th>edu</th>\n",
       "      <th>income</th>\n",
       "      <th>wp</th>\n",
       "    </tr>\n",
       "  </thead>\n",
       "  <tbody>\n",
       "    <tr>\n",
       "      <th>0</th>\n",
       "      <td>0</td>\n",
       "      <td>0</td>\n",
       "      <td>62</td>\n",
       "      <td>1</td>\n",
       "      <td>1</td>\n",
       "      <td>1</td>\n",
       "      <td>2</td>\n",
       "      <td>1256.404135</td>\n",
       "      <td>3</td>\n",
       "    </tr>\n",
       "    <tr>\n",
       "      <th>1</th>\n",
       "      <td>1</td>\n",
       "      <td>0</td>\n",
       "      <td>97</td>\n",
       "      <td>0</td>\n",
       "      <td>1</td>\n",
       "      <td>0</td>\n",
       "      <td>1</td>\n",
       "      <td>1098.935337</td>\n",
       "      <td>3</td>\n",
       "    </tr>\n",
       "    <tr>\n",
       "      <th>2</th>\n",
       "      <td>2</td>\n",
       "      <td>0</td>\n",
       "      <td>3</td>\n",
       "      <td>0</td>\n",
       "      <td>0</td>\n",
       "      <td>5</td>\n",
       "      <td>0</td>\n",
       "      <td>0.000000</td>\n",
       "      <td>-1</td>\n",
       "    </tr>\n",
       "    <tr>\n",
       "      <th>3</th>\n",
       "      <td>3</td>\n",
       "      <td>0</td>\n",
       "      <td>15</td>\n",
       "      <td>0</td>\n",
       "      <td>0</td>\n",
       "      <td>7</td>\n",
       "      <td>1</td>\n",
       "      <td>0.000000</td>\n",
       "      <td>-1</td>\n",
       "    </tr>\n",
       "    <tr>\n",
       "      <th>4</th>\n",
       "      <td>4</td>\n",
       "      <td>0</td>\n",
       "      <td>17</td>\n",
       "      <td>1</td>\n",
       "      <td>0</td>\n",
       "      <td>7</td>\n",
       "      <td>1</td>\n",
       "      <td>0.000000</td>\n",
       "      <td>-1</td>\n",
       "    </tr>\n",
       "    <tr>\n",
       "      <th>5</th>\n",
       "      <td>5</td>\n",
       "      <td>1</td>\n",
       "      <td>68</td>\n",
       "      <td>0</td>\n",
       "      <td>1</td>\n",
       "      <td>0</td>\n",
       "      <td>1</td>\n",
       "      <td>1433.655105</td>\n",
       "      <td>3</td>\n",
       "    </tr>\n",
       "    <tr>\n",
       "      <th>6</th>\n",
       "      <td>6</td>\n",
       "      <td>2</td>\n",
       "      <td>37</td>\n",
       "      <td>0</td>\n",
       "      <td>1</td>\n",
       "      <td>1</td>\n",
       "      <td>1</td>\n",
       "      <td>1255.974944</td>\n",
       "      <td>3</td>\n",
       "    </tr>\n",
       "    <tr>\n",
       "      <th>7</th>\n",
       "      <td>7</td>\n",
       "      <td>3</td>\n",
       "      <td>36</td>\n",
       "      <td>0</td>\n",
       "      <td>1</td>\n",
       "      <td>1</td>\n",
       "      <td>1</td>\n",
       "      <td>1064.537179</td>\n",
       "      <td>3</td>\n",
       "    </tr>\n",
       "    <tr>\n",
       "      <th>8</th>\n",
       "      <td>8</td>\n",
       "      <td>3</td>\n",
       "      <td>7</td>\n",
       "      <td>0</td>\n",
       "      <td>0</td>\n",
       "      <td>6</td>\n",
       "      <td>0</td>\n",
       "      <td>0.000000</td>\n",
       "      <td>-1</td>\n",
       "    </tr>\n",
       "    <tr>\n",
       "      <th>9</th>\n",
       "      <td>9</td>\n",
       "      <td>4</td>\n",
       "      <td>40</td>\n",
       "      <td>0</td>\n",
       "      <td>1</td>\n",
       "      <td>1</td>\n",
       "      <td>1</td>\n",
       "      <td>1232.602755</td>\n",
       "      <td>3</td>\n",
       "    </tr>\n",
       "  </tbody>\n",
       "</table>\n",
       "</div>"
      ],
      "text/plain": [
       "   id  hh  age  sex  role  empl  edu       income  wp\n",
       "0   0   0   62    1     1     1    2  1256.404135   3\n",
       "1   1   0   97    0     1     0    1  1098.935337   3\n",
       "2   2   0    3    0     0     5    0     0.000000  -1\n",
       "3   3   0   15    0     0     7    1     0.000000  -1\n",
       "4   4   0   17    1     0     7    1     0.000000  -1\n",
       "5   5   1   68    0     1     0    1  1433.655105   3\n",
       "6   6   2   37    0     1     1    1  1255.974944   3\n",
       "7   7   3   36    0     1     1    1  1064.537179   3\n",
       "8   8   3    7    0     0     6    0     0.000000  -1\n",
       "9   9   4   40    0     1     1    1  1232.602755   3"
      ]
     },
     "execution_count": 10,
     "metadata": {},
     "output_type": "execute_result"
    }
   ],
   "source": [
    "agentsDF = pd.DataFrame(agentsTable, columns=[\"id\", \"hh\", \"age\", \"sex\", \"role\", \"empl\", \"edu\", \"income\", \"wp\"])\n",
    "#agentsDF.set_index(\"id\", drop=True, inplace=True)\n",
    "agentsDF.head(10)"
   ]
  },
  {
   "cell_type": "code",
   "execution_count": 11,
   "metadata": {},
   "outputs": [
    {
     "data": {
      "text/html": [
       "<div>\n",
       "<style scoped>\n",
       "    .dataframe tbody tr th:only-of-type {\n",
       "        vertical-align: middle;\n",
       "    }\n",
       "\n",
       "    .dataframe tbody tr th {\n",
       "        vertical-align: top;\n",
       "    }\n",
       "\n",
       "    .dataframe thead th {\n",
       "        text-align: right;\n",
       "    }\n",
       "</style>\n",
       "<table border=\"1\" class=\"dataframe\">\n",
       "  <thead>\n",
       "    <tr style=\"text-align: right;\">\n",
       "      <th></th>\n",
       "      <th>id</th>\n",
       "      <th>l0</th>\n",
       "      <th>l1</th>\n",
       "      <th>l2</th>\n",
       "      <th>l3</th>\n",
       "      <th>l4</th>\n",
       "      <th>size</th>\n",
       "      <th>kind</th>\n",
       "      <th>lon</th>\n",
       "      <th>lat</th>\n",
       "    </tr>\n",
       "  </thead>\n",
       "  <tbody>\n",
       "    <tr>\n",
       "      <th>0</th>\n",
       "      <td>0</td>\n",
       "      <td>0</td>\n",
       "      <td>0</td>\n",
       "      <td>0</td>\n",
       "      <td>0</td>\n",
       "      <td>0</td>\n",
       "      <td>5</td>\n",
       "      <td>2</td>\n",
       "      <td>0.227056</td>\n",
       "      <td>0.318913</td>\n",
       "    </tr>\n",
       "    <tr>\n",
       "      <th>1</th>\n",
       "      <td>1</td>\n",
       "      <td>0</td>\n",
       "      <td>0</td>\n",
       "      <td>0</td>\n",
       "      <td>0</td>\n",
       "      <td>0</td>\n",
       "      <td>1</td>\n",
       "      <td>0</td>\n",
       "      <td>0.414940</td>\n",
       "      <td>0.210292</td>\n",
       "    </tr>\n",
       "    <tr>\n",
       "      <th>2</th>\n",
       "      <td>2</td>\n",
       "      <td>0</td>\n",
       "      <td>0</td>\n",
       "      <td>0</td>\n",
       "      <td>0</td>\n",
       "      <td>0</td>\n",
       "      <td>1</td>\n",
       "      <td>0</td>\n",
       "      <td>0.380359</td>\n",
       "      <td>0.459472</td>\n",
       "    </tr>\n",
       "    <tr>\n",
       "      <th>3</th>\n",
       "      <td>3</td>\n",
       "      <td>0</td>\n",
       "      <td>0</td>\n",
       "      <td>0</td>\n",
       "      <td>0</td>\n",
       "      <td>0</td>\n",
       "      <td>2</td>\n",
       "      <td>3</td>\n",
       "      <td>0.454393</td>\n",
       "      <td>0.296077</td>\n",
       "    </tr>\n",
       "    <tr>\n",
       "      <th>4</th>\n",
       "      <td>4</td>\n",
       "      <td>0</td>\n",
       "      <td>0</td>\n",
       "      <td>0</td>\n",
       "      <td>0</td>\n",
       "      <td>0</td>\n",
       "      <td>3</td>\n",
       "      <td>2</td>\n",
       "      <td>0.366287</td>\n",
       "      <td>0.486031</td>\n",
       "    </tr>\n",
       "  </tbody>\n",
       "</table>\n",
       "</div>"
      ],
      "text/plain": [
       "   id  l0  l1  l2  l3  l4  size  kind       lon       lat\n",
       "0   0   0   0   0   0   0     5     2  0.227056  0.318913\n",
       "1   1   0   0   0   0   0     1     0  0.414940  0.210292\n",
       "2   2   0   0   0   0   0     1     0  0.380359  0.459472\n",
       "3   3   0   0   0   0   0     2     3  0.454393  0.296077\n",
       "4   4   0   0   0   0   0     3     2  0.366287  0.486031"
      ]
     },
     "execution_count": 11,
     "metadata": {},
     "output_type": "execute_result"
    }
   ],
   "source": [
    "householdsDF = pd.DataFrame(householdsTable, columns=[\"id\", \"l0\", \"l1\", \"l2\", \"l3\", \"l4\", \"size\", \"kind\", \"lon\", \"lat\"])\n",
    "#householdsDF.set_index(\"id\", drop=True, inplace=True)\n",
    "householdsDF.head()"
   ]
  },
  {
   "cell_type": "code",
   "execution_count": 12,
   "metadata": {},
   "outputs": [
    {
     "data": {
      "text/html": [
       "<div>\n",
       "<style scoped>\n",
       "    .dataframe tbody tr th:only-of-type {\n",
       "        vertical-align: middle;\n",
       "    }\n",
       "\n",
       "    .dataframe tbody tr th {\n",
       "        vertical-align: top;\n",
       "    }\n",
       "\n",
       "    .dataframe thead th {\n",
       "        text-align: right;\n",
       "    }\n",
       "</style>\n",
       "<table border=\"1\" class=\"dataframe\">\n",
       "  <thead>\n",
       "    <tr style=\"text-align: right;\">\n",
       "      <th></th>\n",
       "      <th>id</th>\n",
       "      <th>l0</th>\n",
       "      <th>l1</th>\n",
       "      <th>l2</th>\n",
       "      <th>size</th>\n",
       "      <th>kind</th>\n",
       "      <th>lon</th>\n",
       "      <th>lat</th>\n",
       "    </tr>\n",
       "  </thead>\n",
       "  <tbody>\n",
       "    <tr>\n",
       "      <th>0</th>\n",
       "      <td>0</td>\n",
       "      <td>0</td>\n",
       "      <td>0</td>\n",
       "      <td>0</td>\n",
       "      <td>32</td>\n",
       "      <td>5</td>\n",
       "      <td>0.431818</td>\n",
       "      <td>0.447053</td>\n",
       "    </tr>\n",
       "    <tr>\n",
       "      <th>1</th>\n",
       "      <td>1</td>\n",
       "      <td>0</td>\n",
       "      <td>0</td>\n",
       "      <td>0</td>\n",
       "      <td>39</td>\n",
       "      <td>6</td>\n",
       "      <td>0.472801</td>\n",
       "      <td>0.235523</td>\n",
       "    </tr>\n",
       "    <tr>\n",
       "      <th>2</th>\n",
       "      <td>2</td>\n",
       "      <td>0</td>\n",
       "      <td>0</td>\n",
       "      <td>0</td>\n",
       "      <td>65</td>\n",
       "      <td>7</td>\n",
       "      <td>0.462352</td>\n",
       "      <td>0.175953</td>\n",
       "    </tr>\n",
       "    <tr>\n",
       "      <th>3</th>\n",
       "      <td>3</td>\n",
       "      <td>0</td>\n",
       "      <td>0</td>\n",
       "      <td>0</td>\n",
       "      <td>46</td>\n",
       "      <td>1</td>\n",
       "      <td>0.193615</td>\n",
       "      <td>0.213841</td>\n",
       "    </tr>\n",
       "    <tr>\n",
       "      <th>4</th>\n",
       "      <td>4</td>\n",
       "      <td>0</td>\n",
       "      <td>0</td>\n",
       "      <td>0</td>\n",
       "      <td>32</td>\n",
       "      <td>1</td>\n",
       "      <td>0.068021</td>\n",
       "      <td>0.032573</td>\n",
       "    </tr>\n",
       "  </tbody>\n",
       "</table>\n",
       "</div>"
      ],
      "text/plain": [
       "   id  l0  l1  l2  size  kind       lon       lat\n",
       "0   0   0   0   0    32     5  0.431818  0.447053\n",
       "1   1   0   0   0    39     6  0.472801  0.235523\n",
       "2   2   0   0   0    65     7  0.462352  0.175953\n",
       "3   3   0   0   0    46     1  0.193615  0.213841\n",
       "4   4   0   0   0    32     1  0.068021  0.032573"
      ]
     },
     "execution_count": 12,
     "metadata": {},
     "output_type": "execute_result"
    }
   ],
   "source": [
    "workplacesDF = pd.DataFrame(workplacesTable, columns=[\"id\", \"l0\", \"l1\", \"l2\", \"size\", \"kind\", \"lon\", \"lat\"])\n",
    "#workplacesDF.set_index(\"id\", drop=True, inplace=True)\n",
    "workplacesDF.head()"
   ]
  },
  {
   "cell_type": "markdown",
   "metadata": {},
   "source": [
    "### Add fake leve 4 and 5 to workplaces\n",
    "This should be done before and in a general way..."
   ]
  },
  {
   "cell_type": "code",
   "execution_count": 13,
   "metadata": {
    "collapsed": true
   },
   "outputs": [],
   "source": [
    "workplacesDF.insert(np.argmax(workplacesDF.columns.get_values() == \"size\"), \"l3\", np.random.randint(householdsDF.l3.max()+1, size=workplacesDF.shape[0]))"
   ]
  },
  {
   "cell_type": "code",
   "execution_count": 14,
   "metadata": {
    "collapsed": true
   },
   "outputs": [],
   "source": [
    "workplacesDF.insert(np.argmax(workplacesDF.columns.get_values() == \"size\"), \"l4\", np.random.randint(householdsDF.l4.max()+1, size=workplacesDF.shape[0]))"
   ]
  },
  {
   "cell_type": "code",
   "execution_count": 15,
   "metadata": {},
   "outputs": [
    {
     "data": {
      "text/html": [
       "<div>\n",
       "<style scoped>\n",
       "    .dataframe tbody tr th:only-of-type {\n",
       "        vertical-align: middle;\n",
       "    }\n",
       "\n",
       "    .dataframe tbody tr th {\n",
       "        vertical-align: top;\n",
       "    }\n",
       "\n",
       "    .dataframe thead th {\n",
       "        text-align: right;\n",
       "    }\n",
       "</style>\n",
       "<table border=\"1\" class=\"dataframe\">\n",
       "  <thead>\n",
       "    <tr style=\"text-align: right;\">\n",
       "      <th></th>\n",
       "      <th>id</th>\n",
       "      <th>l0</th>\n",
       "      <th>l1</th>\n",
       "      <th>l2</th>\n",
       "      <th>l3</th>\n",
       "      <th>l4</th>\n",
       "      <th>size</th>\n",
       "      <th>kind</th>\n",
       "      <th>lon</th>\n",
       "      <th>lat</th>\n",
       "    </tr>\n",
       "  </thead>\n",
       "  <tbody>\n",
       "    <tr>\n",
       "      <th>0</th>\n",
       "      <td>0</td>\n",
       "      <td>0</td>\n",
       "      <td>0</td>\n",
       "      <td>0</td>\n",
       "      <td>3</td>\n",
       "      <td>3</td>\n",
       "      <td>32</td>\n",
       "      <td>5</td>\n",
       "      <td>0.431818</td>\n",
       "      <td>0.447053</td>\n",
       "    </tr>\n",
       "    <tr>\n",
       "      <th>1</th>\n",
       "      <td>1</td>\n",
       "      <td>0</td>\n",
       "      <td>0</td>\n",
       "      <td>0</td>\n",
       "      <td>3</td>\n",
       "      <td>0</td>\n",
       "      <td>39</td>\n",
       "      <td>6</td>\n",
       "      <td>0.472801</td>\n",
       "      <td>0.235523</td>\n",
       "    </tr>\n",
       "    <tr>\n",
       "      <th>2</th>\n",
       "      <td>2</td>\n",
       "      <td>0</td>\n",
       "      <td>0</td>\n",
       "      <td>0</td>\n",
       "      <td>2</td>\n",
       "      <td>0</td>\n",
       "      <td>65</td>\n",
       "      <td>7</td>\n",
       "      <td>0.462352</td>\n",
       "      <td>0.175953</td>\n",
       "    </tr>\n",
       "    <tr>\n",
       "      <th>3</th>\n",
       "      <td>3</td>\n",
       "      <td>0</td>\n",
       "      <td>0</td>\n",
       "      <td>0</td>\n",
       "      <td>3</td>\n",
       "      <td>2</td>\n",
       "      <td>46</td>\n",
       "      <td>1</td>\n",
       "      <td>0.193615</td>\n",
       "      <td>0.213841</td>\n",
       "    </tr>\n",
       "    <tr>\n",
       "      <th>4</th>\n",
       "      <td>4</td>\n",
       "      <td>0</td>\n",
       "      <td>0</td>\n",
       "      <td>0</td>\n",
       "      <td>2</td>\n",
       "      <td>2</td>\n",
       "      <td>32</td>\n",
       "      <td>1</td>\n",
       "      <td>0.068021</td>\n",
       "      <td>0.032573</td>\n",
       "    </tr>\n",
       "  </tbody>\n",
       "</table>\n",
       "</div>"
      ],
      "text/plain": [
       "   id  l0  l1  l2  l3  l4  size  kind       lon       lat\n",
       "0   0   0   0   0   3   3    32     5  0.431818  0.447053\n",
       "1   1   0   0   0   3   0    39     6  0.472801  0.235523\n",
       "2   2   0   0   0   2   0    65     7  0.462352  0.175953\n",
       "3   3   0   0   0   3   2    46     1  0.193615  0.213841\n",
       "4   4   0   0   0   2   2    32     1  0.068021  0.032573"
      ]
     },
     "execution_count": 15,
     "metadata": {},
     "output_type": "execute_result"
    }
   ],
   "source": [
    "workplacesDF.head()"
   ]
  },
  {
   "cell_type": "code",
   "execution_count": 16,
   "metadata": {},
   "outputs": [
    {
     "name": "stdout",
     "output_type": "stream",
     "text": [
      "{'kindergarden': 43, 'adults': 206, 'working': 96, 'elementary': 36, 'children': 135, 'secondary': 56} 341\n"
     ]
    }
   ],
   "source": [
    "print counterPeople[(0,0,0)], counterPeople[(0,0,0)][\"adults\"] + counterPeople[(0,0,0)][\"children\"]"
   ]
  },
  {
   "cell_type": "code",
   "execution_count": null,
   "metadata": {
    "collapsed": true
   },
   "outputs": [],
   "source": []
  },
  {
   "cell_type": "markdown",
   "metadata": {},
   "source": [
    "## Adding some fake commuting for workers / students\n",
    "\n",
    "We start from a random origin-destination matrix $M$ whose entry $m_{i,j}$\n",
    "sets the fraction of workers going from code $i$ to $j$ (so that the matrix\n",
    "is not symmetric, in general). We define $M_W$ to be the origin destination\n",
    "matrix for workplaces and $M_S$ to be the schools one."
   ]
  },
  {
   "cell_type": "code",
   "execution_count": 17,
   "metadata": {
    "collapsed": true
   },
   "outputs": [],
   "source": [
    "numberOfAdminCodes = len(administrativeCodes)\n",
    "\n",
    "def makeCommutingMatrix(ndim, toOriginVolume=.9):\n",
    "    '''\n",
    "    Function that returns a matrix with toOriginVolume in the\n",
    "    diagonal and random values summing to 1-toOriginVolume in the\n",
    "    out-of-diagonal place in a row so that sum_k m_{j,k} = 1.0\n",
    "    '''\n",
    "    tmp_mat = np.random.rand(ndim, ndim)\n",
    "    np.fill_diagonal(tmp_mat, .0)\n",
    "    tmp_mat = np.divide(tmp_mat, tmp_mat.sum(axis=1, keepdims=True)/(1. - toOriginVolume))\n",
    "    np.fill_diagonal(tmp_mat, toOriginVolume)\n",
    "    return tmp_mat\n",
    "\n",
    "# We let the up to the 10% of people to commute for work and 5% for school\n",
    "# Leave the rest to go inside the same administrative level\n",
    "M_S = makeCommutingMatrix(numberOfAdminCodes, toOriginVolume=.9)\n",
    "M_W = makeCommutingMatrix(numberOfAdminCodes, toOriginVolume=.95)"
   ]
  },
  {
   "cell_type": "code",
   "execution_count": null,
   "metadata": {
    "collapsed": true
   },
   "outputs": [],
   "source": []
  },
  {
   "cell_type": "markdown",
   "metadata": {},
   "source": [
    "### Move workers/students\n",
    "\n",
    "Here we apply a naive approach:\n",
    "- for each source and for each worker we draw its destination. If it is in the same admin code we leave the worker in the assigned workspace otherwise we subtract it from the current workplace and add it to a random workplace in the origin admin code.\n",
    "- at the end of the process we update the nuber of people working in each workplace;"
   ]
  },
  {
   "cell_type": "code",
   "execution_count": 18,
   "metadata": {},
   "outputs": [
    {
     "data": {
      "text/html": [
       "<div>\n",
       "<style scoped>\n",
       "    .dataframe tbody tr th:only-of-type {\n",
       "        vertical-align: middle;\n",
       "    }\n",
       "\n",
       "    .dataframe tbody tr th {\n",
       "        vertical-align: top;\n",
       "    }\n",
       "\n",
       "    .dataframe thead th {\n",
       "        text-align: right;\n",
       "    }\n",
       "</style>\n",
       "<table border=\"1\" class=\"dataframe\">\n",
       "  <thead>\n",
       "    <tr style=\"text-align: right;\">\n",
       "      <th></th>\n",
       "      <th>id</th>\n",
       "      <th>hh</th>\n",
       "      <th>age</th>\n",
       "      <th>sex</th>\n",
       "      <th>role</th>\n",
       "      <th>empl</th>\n",
       "      <th>edu</th>\n",
       "      <th>income</th>\n",
       "      <th>wp</th>\n",
       "    </tr>\n",
       "  </thead>\n",
       "  <tbody>\n",
       "    <tr>\n",
       "      <th>0</th>\n",
       "      <td>0</td>\n",
       "      <td>0</td>\n",
       "      <td>62</td>\n",
       "      <td>1</td>\n",
       "      <td>1</td>\n",
       "      <td>1</td>\n",
       "      <td>2</td>\n",
       "      <td>1256.404135</td>\n",
       "      <td>3</td>\n",
       "    </tr>\n",
       "  </tbody>\n",
       "</table>\n",
       "</div>"
      ],
      "text/plain": [
       "   id  hh  age  sex  role  empl  edu       income  wp\n",
       "0   0   0   62    1     1     1    2  1256.404135   3"
      ]
     },
     "execution_count": 18,
     "metadata": {},
     "output_type": "execute_result"
    }
   ],
   "source": [
    "agentsDF.head(1)"
   ]
  },
  {
   "cell_type": "code",
   "execution_count": 19,
   "metadata": {},
   "outputs": [
    {
     "data": {
      "text/html": [
       "<div>\n",
       "<style scoped>\n",
       "    .dataframe tbody tr th:only-of-type {\n",
       "        vertical-align: middle;\n",
       "    }\n",
       "\n",
       "    .dataframe tbody tr th {\n",
       "        vertical-align: top;\n",
       "    }\n",
       "\n",
       "    .dataframe thead th {\n",
       "        text-align: right;\n",
       "    }\n",
       "</style>\n",
       "<table border=\"1\" class=\"dataframe\">\n",
       "  <thead>\n",
       "    <tr style=\"text-align: right;\">\n",
       "      <th></th>\n",
       "      <th>id</th>\n",
       "      <th>l0</th>\n",
       "      <th>l1</th>\n",
       "      <th>l2</th>\n",
       "      <th>l3</th>\n",
       "      <th>l4</th>\n",
       "      <th>size</th>\n",
       "      <th>kind</th>\n",
       "      <th>lon</th>\n",
       "      <th>lat</th>\n",
       "    </tr>\n",
       "  </thead>\n",
       "  <tbody>\n",
       "    <tr>\n",
       "      <th>0</th>\n",
       "      <td>0</td>\n",
       "      <td>0</td>\n",
       "      <td>0</td>\n",
       "      <td>0</td>\n",
       "      <td>0</td>\n",
       "      <td>0</td>\n",
       "      <td>5</td>\n",
       "      <td>2</td>\n",
       "      <td>0.227056</td>\n",
       "      <td>0.318913</td>\n",
       "    </tr>\n",
       "  </tbody>\n",
       "</table>\n",
       "</div>"
      ],
      "text/plain": [
       "   id  l0  l1  l2  l3  l4  size  kind       lon       lat\n",
       "0   0   0   0   0   0   0     5     2  0.227056  0.318913"
      ]
     },
     "execution_count": 19,
     "metadata": {},
     "output_type": "execute_result"
    }
   ],
   "source": [
    "householdsDF.head(1)"
   ]
  },
  {
   "cell_type": "code",
   "execution_count": 20,
   "metadata": {},
   "outputs": [
    {
     "data": {
      "text/html": [
       "<div>\n",
       "<style scoped>\n",
       "    .dataframe tbody tr th:only-of-type {\n",
       "        vertical-align: middle;\n",
       "    }\n",
       "\n",
       "    .dataframe tbody tr th {\n",
       "        vertical-align: top;\n",
       "    }\n",
       "\n",
       "    .dataframe thead th {\n",
       "        text-align: right;\n",
       "    }\n",
       "</style>\n",
       "<table border=\"1\" class=\"dataframe\">\n",
       "  <thead>\n",
       "    <tr style=\"text-align: right;\">\n",
       "      <th></th>\n",
       "      <th>id</th>\n",
       "      <th>l0</th>\n",
       "      <th>l1</th>\n",
       "      <th>l2</th>\n",
       "      <th>l3</th>\n",
       "      <th>l4</th>\n",
       "      <th>size</th>\n",
       "      <th>kind</th>\n",
       "      <th>lon</th>\n",
       "      <th>lat</th>\n",
       "    </tr>\n",
       "  </thead>\n",
       "  <tbody>\n",
       "    <tr>\n",
       "      <th>0</th>\n",
       "      <td>0</td>\n",
       "      <td>0</td>\n",
       "      <td>0</td>\n",
       "      <td>0</td>\n",
       "      <td>3</td>\n",
       "      <td>3</td>\n",
       "      <td>32</td>\n",
       "      <td>5</td>\n",
       "      <td>0.431818</td>\n",
       "      <td>0.447053</td>\n",
       "    </tr>\n",
       "  </tbody>\n",
       "</table>\n",
       "</div>"
      ],
      "text/plain": [
       "   id  l0  l1  l2  l3  l4  size  kind       lon       lat\n",
       "0   0   0   0   0   3   3    32     5  0.431818  0.447053"
      ]
     },
     "execution_count": 20,
     "metadata": {},
     "output_type": "execute_result"
    }
   ],
   "source": [
    "workplacesDF.head(1)"
   ]
  },
  {
   "cell_type": "code",
   "execution_count": 21,
   "metadata": {},
   "outputs": [
    {
     "name": "stdout",
     "output_type": "stream",
     "text": [
      "022012 / 022012 ...   CPU times: user 39.8 s, sys: 6.3 s, total: 46.1 s\n",
      "Wall time: 40.2 s\n"
     ]
    }
   ],
   "source": [
    "%%time\n",
    "\n",
    "for agentIndex, agent in agentsDF.iterrows():\n",
    "    if agent.empl > 0:\n",
    "        # Either worker or student\n",
    "        # Extract the index of the administrative code\n",
    "        tmp_codes = householdsDF[householdsDF.id == agent.hh].iloc[0][[\"l0\", \"l1\", \"l2\"]]\n",
    "        tmp_codes = tuple(tmp_codes.values.astype(int))\n",
    "        origin_index = administrativeCodes.index(tmp_codes)\n",
    "        \n",
    "        if 0 < agent.empl < 5:\n",
    "            # Worker\n",
    "            ref_row = M_W[origin_index,:]\n",
    "        elif 5 <= agent.empl < 10:\n",
    "            # School\n",
    "            ref_row = M_S[origin_index,:]\n",
    "        \n",
    "        destin_index = np.argmin(np.random.rand() > ref_row.cumsum())\n",
    "\n",
    "        if destin_index != origin_index:\n",
    "            # Select another workplace in the destination\n",
    "            # If no workplace of this kind in this destination\n",
    "            # select another destination\n",
    "            # Subtract one to leaving workplace\n",
    "            dest_codes = administrativeCodes[destin_index]\n",
    "            maxTrials = 10\n",
    "            while True:\n",
    "                dest_wp = workplacesDF[\\\n",
    "                                       (workplacesDF[\"l0\"] == dest_codes[0]) &\\\n",
    "                                       (workplacesDF[\"l1\"] == dest_codes[1]) &\\\n",
    "                                       (workplacesDF[\"l2\"] == dest_codes[2]) &\\\n",
    "                                       (workplacesDF[\"kind\"] == agent.empl)\\\n",
    "                                      ]\n",
    "                if len(dest_wp) > 0:\n",
    "                    dest_wp = dest_wp.iloc[np.random.randint(len(dest_wp))]\n",
    "                    #print \"Moving\", agent, \"to\", dest_wp\n",
    "                    agentsDF.at[agentIndex, \"wp\"] = int(dest_wp.id)\n",
    "                    break\n",
    "                    \n",
    "                maxTrials -= 1\n",
    "                if maxTrials == 0:\n",
    "                    break       \n",
    "                else:\n",
    "                    destin_index = origin_index\n",
    "                    while destin_index == origin_index:\n",
    "                        destin_index = np.argmin(np.random.rand() > ref_row.cumsum())\n",
    "    sys.stdout.write(\"\\r%06d / %06d ...   \" % (agentIndex+1, agentsDF.shape[0]))\n",
    "    sys.stdout.flush()"
   ]
  },
  {
   "cell_type": "code",
   "execution_count": 22,
   "metadata": {},
   "outputs": [
    {
     "data": {
      "text/html": [
       "<div>\n",
       "<style scoped>\n",
       "    .dataframe tbody tr th:only-of-type {\n",
       "        vertical-align: middle;\n",
       "    }\n",
       "\n",
       "    .dataframe tbody tr th {\n",
       "        vertical-align: top;\n",
       "    }\n",
       "\n",
       "    .dataframe thead th {\n",
       "        text-align: right;\n",
       "    }\n",
       "</style>\n",
       "<table border=\"1\" class=\"dataframe\">\n",
       "  <thead>\n",
       "    <tr style=\"text-align: right;\">\n",
       "      <th></th>\n",
       "      <th>id</th>\n",
       "      <th>hh</th>\n",
       "      <th>age</th>\n",
       "      <th>sex</th>\n",
       "      <th>role</th>\n",
       "      <th>empl</th>\n",
       "      <th>edu</th>\n",
       "      <th>income</th>\n",
       "      <th>wp</th>\n",
       "    </tr>\n",
       "  </thead>\n",
       "  <tbody>\n",
       "    <tr>\n",
       "      <th>14</th>\n",
       "      <td>14</td>\n",
       "      <td>6</td>\n",
       "      <td>13</td>\n",
       "      <td>0</td>\n",
       "      <td>0</td>\n",
       "      <td>7</td>\n",
       "      <td>1</td>\n",
       "      <td>0.0</td>\n",
       "      <td>-1</td>\n",
       "    </tr>\n",
       "  </tbody>\n",
       "</table>\n",
       "</div>"
      ],
      "text/plain": [
       "    id  hh  age  sex  role  empl  edu  income  wp\n",
       "14  14   6   13    0     0     7    1     0.0  -1"
      ]
     },
     "execution_count": 22,
     "metadata": {},
     "output_type": "execute_result"
    }
   ],
   "source": [
    "agentsDF[agentsDF.id == 14]"
   ]
  },
  {
   "cell_type": "code",
   "execution_count": 23,
   "metadata": {},
   "outputs": [
    {
     "data": {
      "text/html": [
       "<div>\n",
       "<style scoped>\n",
       "    .dataframe tbody tr th:only-of-type {\n",
       "        vertical-align: middle;\n",
       "    }\n",
       "\n",
       "    .dataframe tbody tr th {\n",
       "        vertical-align: top;\n",
       "    }\n",
       "\n",
       "    .dataframe thead th {\n",
       "        text-align: right;\n",
       "    }\n",
       "</style>\n",
       "<table border=\"1\" class=\"dataframe\">\n",
       "  <thead>\n",
       "    <tr style=\"text-align: right;\">\n",
       "      <th></th>\n",
       "      <th>id</th>\n",
       "      <th>l0</th>\n",
       "      <th>l1</th>\n",
       "      <th>l2</th>\n",
       "      <th>l3</th>\n",
       "      <th>l4</th>\n",
       "      <th>size</th>\n",
       "      <th>kind</th>\n",
       "      <th>lon</th>\n",
       "      <th>lat</th>\n",
       "    </tr>\n",
       "  </thead>\n",
       "  <tbody>\n",
       "    <tr>\n",
       "      <th>10</th>\n",
       "      <td>10</td>\n",
       "      <td>0</td>\n",
       "      <td>0</td>\n",
       "      <td>0</td>\n",
       "      <td>0</td>\n",
       "      <td>1</td>\n",
       "      <td>1</td>\n",
       "      <td>0</td>\n",
       "      <td>0.031069</td>\n",
       "      <td>0.326858</td>\n",
       "    </tr>\n",
       "  </tbody>\n",
       "</table>\n",
       "</div>"
      ],
      "text/plain": [
       "    id  l0  l1  l2  l3  l4  size  kind       lon       lat\n",
       "10  10   0   0   0   0   1     1     0  0.031069  0.326858"
      ]
     },
     "execution_count": 23,
     "metadata": {},
     "output_type": "execute_result"
    }
   ],
   "source": [
    "householdsDF[householdsDF.id == 10.]"
   ]
  },
  {
   "cell_type": "code",
   "execution_count": 24,
   "metadata": {},
   "outputs": [
    {
     "data": {
      "text/html": [
       "<div>\n",
       "<style scoped>\n",
       "    .dataframe tbody tr th:only-of-type {\n",
       "        vertical-align: middle;\n",
       "    }\n",
       "\n",
       "    .dataframe tbody tr th {\n",
       "        vertical-align: top;\n",
       "    }\n",
       "\n",
       "    .dataframe thead th {\n",
       "        text-align: right;\n",
       "    }\n",
       "</style>\n",
       "<table border=\"1\" class=\"dataframe\">\n",
       "  <thead>\n",
       "    <tr style=\"text-align: right;\">\n",
       "      <th></th>\n",
       "      <th>id</th>\n",
       "      <th>l0</th>\n",
       "      <th>l1</th>\n",
       "      <th>l2</th>\n",
       "      <th>l3</th>\n",
       "      <th>l4</th>\n",
       "      <th>size</th>\n",
       "      <th>kind</th>\n",
       "      <th>lon</th>\n",
       "      <th>lat</th>\n",
       "    </tr>\n",
       "  </thead>\n",
       "  <tbody>\n",
       "    <tr>\n",
       "      <th>258</th>\n",
       "      <td>258</td>\n",
       "      <td>1</td>\n",
       "      <td>3</td>\n",
       "      <td>2</td>\n",
       "      <td>0</td>\n",
       "      <td>3</td>\n",
       "      <td>56</td>\n",
       "      <td>1</td>\n",
       "      <td>3.01403</td>\n",
       "      <td>1.985513</td>\n",
       "    </tr>\n",
       "  </tbody>\n",
       "</table>\n",
       "</div>"
      ],
      "text/plain": [
       "      id  l0  l1  l2  l3  l4  size  kind      lon       lat\n",
       "258  258   1   3   2   0   3    56     1  3.01403  1.985513"
      ]
     },
     "execution_count": 24,
     "metadata": {},
     "output_type": "execute_result"
    }
   ],
   "source": [
    "workplacesDF[workplacesDF.id == 258]"
   ]
  },
  {
   "cell_type": "code",
   "execution_count": null,
   "metadata": {
    "collapsed": true
   },
   "outputs": [],
   "source": []
  },
  {
   "cell_type": "markdown",
   "metadata": {},
   "source": [
    "### Recompute right number of workers per workplace\n",
    "\n",
    "We use the pandas value counts to see how many people work in each workplace."
   ]
  },
  {
   "cell_type": "code",
   "execution_count": 25,
   "metadata": {
    "collapsed": true
   },
   "outputs": [],
   "source": [
    "for i, c in agentsDF.wp.value_counts().iteritems():\n",
    "    if i >= 0:\n",
    "        wp_index = workplacesDF.loc[workplacesDF.id == i]\n",
    "        workplacesDF.at[wp_index.index, \"size\"] = int(c)"
   ]
  },
  {
   "cell_type": "code",
   "execution_count": 26,
   "metadata": {},
   "outputs": [
    {
     "data": {
      "text/plain": [
       "<matplotlib.axes._subplots.AxesSubplot at 0x7f245279e8d0>"
      ]
     },
     "execution_count": 26,
     "metadata": {},
     "output_type": "execute_result"
    },
    {
     "data": {
      "image/png": "[encoded data removed]",
      "text/plain": [
       "<matplotlib.figure.Figure at 0x7f24545b1d10>"
      ]
     },
     "metadata": {},
     "output_type": "display_data"
    }
   ],
   "source": [
    "workplacesDF[\"size\"].hist(bins=30)"
   ]
  },
  {
   "cell_type": "code",
   "execution_count": null,
   "metadata": {
    "collapsed": true
   },
   "outputs": [],
   "source": []
  },
  {
   "cell_type": "markdown",
   "metadata": {},
   "source": [
    "## Demography\n",
    "\n",
    "We retrieve from the demography tables of the Eurostat the statistics for a number of areas equal to the number of leaves at the third level of the hierarchy.\n",
    "\n",
    "We limit ourselves to the years since 2000 because of lack of data in the previous years."
   ]
  },
  {
   "cell_type": "code",
   "execution_count": 113,
   "metadata": {
    "collapsed": true
   },
   "outputs": [],
   "source": [
    "natality_df = pd.read_pickle(\"../../../../maps_and_rasters/resources/Europe/population/demography/birthRates_1990-2015_age_nuts2_PANDAS.pkl\")\n",
    "mortality_df = pd.read_pickle(\"../../../../maps_and_rasters/resources/Europe/population/demography/deathRates_1990-2015_sexAge_nuts2_PANDAS.pkl\")"
   ]
  },
  {
   "cell_type": "code",
   "execution_count": 114,
   "metadata": {},
   "outputs": [
    {
     "data": {
      "text/html": [
       "<div>\n",
       "<style scoped>\n",
       "    .dataframe tbody tr th:only-of-type {\n",
       "        vertical-align: middle;\n",
       "    }\n",
       "\n",
       "    .dataframe tbody tr th {\n",
       "        vertical-align: top;\n",
       "    }\n",
       "\n",
       "    .dataframe thead tr th {\n",
       "        text-align: left;\n",
       "    }\n",
       "\n",
       "    .dataframe thead tr:last-of-type th {\n",
       "        text-align: right;\n",
       "    }\n",
       "</style>\n",
       "<table border=\"1\" class=\"dataframe\">\n",
       "  <thead>\n",
       "    <tr>\n",
       "      <th></th>\n",
       "      <th colspan=\"10\" halign=\"left\">1990</th>\n",
       "      <th>...</th>\n",
       "      <th colspan=\"10\" halign=\"left\">2015</th>\n",
       "    </tr>\n",
       "    <tr>\n",
       "      <th>sex</th>\n",
       "      <th colspan=\"10\" halign=\"left\">0</th>\n",
       "      <th>...</th>\n",
       "      <th colspan=\"10\" halign=\"left\">1</th>\n",
       "    </tr>\n",
       "    <tr>\n",
       "      <th>age</th>\n",
       "      <th>1</th>\n",
       "      <th>2</th>\n",
       "      <th>3</th>\n",
       "      <th>4</th>\n",
       "      <th>5</th>\n",
       "      <th>6</th>\n",
       "      <th>7</th>\n",
       "      <th>8</th>\n",
       "      <th>9</th>\n",
       "      <th>10</th>\n",
       "      <th>...</th>\n",
       "      <th>91</th>\n",
       "      <th>92</th>\n",
       "      <th>93</th>\n",
       "      <th>94</th>\n",
       "      <th>95</th>\n",
       "      <th>96</th>\n",
       "      <th>97</th>\n",
       "      <th>98</th>\n",
       "      <th>99</th>\n",
       "      <th>100</th>\n",
       "    </tr>\n",
       "    <tr>\n",
       "      <th>nuts</th>\n",
       "      <th></th>\n",
       "      <th></th>\n",
       "      <th></th>\n",
       "      <th></th>\n",
       "      <th></th>\n",
       "      <th></th>\n",
       "      <th></th>\n",
       "      <th></th>\n",
       "      <th></th>\n",
       "      <th></th>\n",
       "      <th></th>\n",
       "      <th></th>\n",
       "      <th></th>\n",
       "      <th></th>\n",
       "      <th></th>\n",
       "      <th></th>\n",
       "      <th></th>\n",
       "      <th></th>\n",
       "      <th></th>\n",
       "      <th></th>\n",
       "      <th></th>\n",
       "    </tr>\n",
       "  </thead>\n",
       "  <tbody>\n",
       "    <tr>\n",
       "      <th>AL</th>\n",
       "      <td>0</td>\n",
       "      <td>0</td>\n",
       "      <td>0</td>\n",
       "      <td>0</td>\n",
       "      <td>0</td>\n",
       "      <td>0</td>\n",
       "      <td>0</td>\n",
       "      <td>0</td>\n",
       "      <td>0</td>\n",
       "      <td>0</td>\n",
       "      <td>...</td>\n",
       "      <td>0</td>\n",
       "      <td>0</td>\n",
       "      <td>0</td>\n",
       "      <td>0</td>\n",
       "      <td>0</td>\n",
       "      <td>0</td>\n",
       "      <td>0</td>\n",
       "      <td>0</td>\n",
       "      <td>0</td>\n",
       "      <td>0</td>\n",
       "    </tr>\n",
       "    <tr>\n",
       "      <th>AL0</th>\n",
       "      <td>0</td>\n",
       "      <td>0</td>\n",
       "      <td>0</td>\n",
       "      <td>0</td>\n",
       "      <td>0</td>\n",
       "      <td>0</td>\n",
       "      <td>0</td>\n",
       "      <td>0</td>\n",
       "      <td>0</td>\n",
       "      <td>0</td>\n",
       "      <td>...</td>\n",
       "      <td>0</td>\n",
       "      <td>0</td>\n",
       "      <td>0</td>\n",
       "      <td>0</td>\n",
       "      <td>0</td>\n",
       "      <td>0</td>\n",
       "      <td>0</td>\n",
       "      <td>0</td>\n",
       "      <td>0</td>\n",
       "      <td>0</td>\n",
       "    </tr>\n",
       "    <tr>\n",
       "      <th>AT</th>\n",
       "      <td>0</td>\n",
       "      <td>0</td>\n",
       "      <td>0</td>\n",
       "      <td>0</td>\n",
       "      <td>0</td>\n",
       "      <td>0</td>\n",
       "      <td>0</td>\n",
       "      <td>0</td>\n",
       "      <td>0</td>\n",
       "      <td>0</td>\n",
       "      <td>...</td>\n",
       "      <td>0</td>\n",
       "      <td>0</td>\n",
       "      <td>0</td>\n",
       "      <td>0</td>\n",
       "      <td>0</td>\n",
       "      <td>0</td>\n",
       "      <td>0</td>\n",
       "      <td>0</td>\n",
       "      <td>0</td>\n",
       "      <td>0</td>\n",
       "    </tr>\n",
       "    <tr>\n",
       "      <th>AT1</th>\n",
       "      <td>0</td>\n",
       "      <td>0</td>\n",
       "      <td>0</td>\n",
       "      <td>0</td>\n",
       "      <td>0</td>\n",
       "      <td>0</td>\n",
       "      <td>0</td>\n",
       "      <td>0</td>\n",
       "      <td>0</td>\n",
       "      <td>0</td>\n",
       "      <td>...</td>\n",
       "      <td>0</td>\n",
       "      <td>0</td>\n",
       "      <td>0</td>\n",
       "      <td>0</td>\n",
       "      <td>0</td>\n",
       "      <td>0</td>\n",
       "      <td>0</td>\n",
       "      <td>0</td>\n",
       "      <td>0</td>\n",
       "      <td>0</td>\n",
       "    </tr>\n",
       "    <tr>\n",
       "      <th>AT11</th>\n",
       "      <td>0</td>\n",
       "      <td>0</td>\n",
       "      <td>0</td>\n",
       "      <td>0</td>\n",
       "      <td>0</td>\n",
       "      <td>0</td>\n",
       "      <td>0</td>\n",
       "      <td>0</td>\n",
       "      <td>0</td>\n",
       "      <td>0</td>\n",
       "      <td>...</td>\n",
       "      <td>0</td>\n",
       "      <td>0</td>\n",
       "      <td>0</td>\n",
       "      <td>0</td>\n",
       "      <td>0</td>\n",
       "      <td>0</td>\n",
       "      <td>0</td>\n",
       "      <td>0</td>\n",
       "      <td>0</td>\n",
       "      <td>0</td>\n",
       "    </tr>\n",
       "  </tbody>\n",
       "</table>\n",
       "<p>5 rows × 5200 columns</p>\n",
       "</div>"
      ],
      "text/plain": [
       "     1990                                     ... 2015                      \\\n",
       "sex     0                                     ...    1                       \n",
       "age   1   2   3   4   5   6   7   8   9   10  ...  91  92  93  94  95  96    \n",
       "nuts                                          ...                            \n",
       "AL      0   0   0   0   0   0   0   0   0   0 ...    0   0   0   0   0   0   \n",
       "AL0     0   0   0   0   0   0   0   0   0   0 ...    0   0   0   0   0   0   \n",
       "AT      0   0   0   0   0   0   0   0   0   0 ...    0   0   0   0   0   0   \n",
       "AT1     0   0   0   0   0   0   0   0   0   0 ...    0   0   0   0   0   0   \n",
       "AT11    0   0   0   0   0   0   0   0   0   0 ...    0   0   0   0   0   0   \n",
       "\n",
       "                      \n",
       "sex                   \n",
       "age  97  98  99  100  \n",
       "nuts                  \n",
       "AL     0   0   0   0  \n",
       "AL0    0   0   0   0  \n",
       "AT     0   0   0   0  \n",
       "AT1    0   0   0   0  \n",
       "AT11   0   0   0   0  \n",
       "\n",
       "[5 rows x 5200 columns]"
      ]
     },
     "execution_count": 114,
     "metadata": {},
     "output_type": "execute_result"
    }
   ],
   "source": [
    "natality_df.head()"
   ]
  },
  {
   "cell_type": "code",
   "execution_count": 115,
   "metadata": {},
   "outputs": [
    {
     "data": {
      "text/html": [
       "<div>\n",
       "<style scoped>\n",
       "    .dataframe tbody tr th:only-of-type {\n",
       "        vertical-align: middle;\n",
       "    }\n",
       "\n",
       "    .dataframe tbody tr th {\n",
       "        vertical-align: top;\n",
       "    }\n",
       "\n",
       "    .dataframe thead tr th {\n",
       "        text-align: left;\n",
       "    }\n",
       "\n",
       "    .dataframe thead tr:last-of-type th {\n",
       "        text-align: right;\n",
       "    }\n",
       "</style>\n",
       "<table border=\"1\" class=\"dataframe\">\n",
       "  <thead>\n",
       "    <tr>\n",
       "      <th></th>\n",
       "      <th colspan=\"10\" halign=\"left\">1990</th>\n",
       "      <th>...</th>\n",
       "      <th colspan=\"10\" halign=\"left\">2015</th>\n",
       "    </tr>\n",
       "    <tr>\n",
       "      <th>sex</th>\n",
       "      <th colspan=\"10\" halign=\"left\">-1</th>\n",
       "      <th>...</th>\n",
       "      <th colspan=\"10\" halign=\"left\">1</th>\n",
       "    </tr>\n",
       "    <tr>\n",
       "      <th>age</th>\n",
       "      <th>1</th>\n",
       "      <th>2</th>\n",
       "      <th>3</th>\n",
       "      <th>4</th>\n",
       "      <th>5</th>\n",
       "      <th>6</th>\n",
       "      <th>7</th>\n",
       "      <th>8</th>\n",
       "      <th>9</th>\n",
       "      <th>10</th>\n",
       "      <th>...</th>\n",
       "      <th>91</th>\n",
       "      <th>92</th>\n",
       "      <th>93</th>\n",
       "      <th>94</th>\n",
       "      <th>95</th>\n",
       "      <th>96</th>\n",
       "      <th>97</th>\n",
       "      <th>98</th>\n",
       "      <th>99</th>\n",
       "      <th>100</th>\n",
       "    </tr>\n",
       "    <tr>\n",
       "      <th>nuts</th>\n",
       "      <th></th>\n",
       "      <th></th>\n",
       "      <th></th>\n",
       "      <th></th>\n",
       "      <th></th>\n",
       "      <th></th>\n",
       "      <th></th>\n",
       "      <th></th>\n",
       "      <th></th>\n",
       "      <th></th>\n",
       "      <th></th>\n",
       "      <th></th>\n",
       "      <th></th>\n",
       "      <th></th>\n",
       "      <th></th>\n",
       "      <th></th>\n",
       "      <th></th>\n",
       "      <th></th>\n",
       "      <th></th>\n",
       "      <th></th>\n",
       "      <th></th>\n",
       "    </tr>\n",
       "  </thead>\n",
       "  <tbody>\n",
       "    <tr>\n",
       "      <th>AL</th>\n",
       "      <td>0.00000</td>\n",
       "      <td>0.00000</td>\n",
       "      <td>0.00000</td>\n",
       "      <td>0.00000</td>\n",
       "      <td>0.00000</td>\n",
       "      <td>0.00000</td>\n",
       "      <td>0.0000</td>\n",
       "      <td>0.00000</td>\n",
       "      <td>0.00000</td>\n",
       "      <td>0.00000</td>\n",
       "      <td>...</td>\n",
       "      <td>1</td>\n",
       "      <td>1</td>\n",
       "      <td>1</td>\n",
       "      <td>1</td>\n",
       "      <td>1</td>\n",
       "      <td>1</td>\n",
       "      <td>1</td>\n",
       "      <td>1</td>\n",
       "      <td>1</td>\n",
       "      <td>1</td>\n",
       "    </tr>\n",
       "    <tr>\n",
       "      <th>AL0</th>\n",
       "      <td>0.00000</td>\n",
       "      <td>0.00000</td>\n",
       "      <td>0.00000</td>\n",
       "      <td>0.00000</td>\n",
       "      <td>0.00000</td>\n",
       "      <td>0.00000</td>\n",
       "      <td>0.0000</td>\n",
       "      <td>0.00000</td>\n",
       "      <td>0.00000</td>\n",
       "      <td>0.00000</td>\n",
       "      <td>...</td>\n",
       "      <td>1</td>\n",
       "      <td>1</td>\n",
       "      <td>1</td>\n",
       "      <td>1</td>\n",
       "      <td>1</td>\n",
       "      <td>1</td>\n",
       "      <td>1</td>\n",
       "      <td>1</td>\n",
       "      <td>1</td>\n",
       "      <td>1</td>\n",
       "    </tr>\n",
       "    <tr>\n",
       "      <th>AT</th>\n",
       "      <td>0.00063</td>\n",
       "      <td>0.00040</td>\n",
       "      <td>0.00039</td>\n",
       "      <td>0.00031</td>\n",
       "      <td>0.00025</td>\n",
       "      <td>0.00018</td>\n",
       "      <td>0.0002</td>\n",
       "      <td>0.00013</td>\n",
       "      <td>0.00010</td>\n",
       "      <td>0.00015</td>\n",
       "      <td>...</td>\n",
       "      <td>1</td>\n",
       "      <td>1</td>\n",
       "      <td>1</td>\n",
       "      <td>1</td>\n",
       "      <td>1</td>\n",
       "      <td>1</td>\n",
       "      <td>1</td>\n",
       "      <td>1</td>\n",
       "      <td>1</td>\n",
       "      <td>1</td>\n",
       "    </tr>\n",
       "    <tr>\n",
       "      <th>AT1</th>\n",
       "      <td>0.00061</td>\n",
       "      <td>0.00035</td>\n",
       "      <td>0.00035</td>\n",
       "      <td>0.00041</td>\n",
       "      <td>0.00015</td>\n",
       "      <td>0.00012</td>\n",
       "      <td>0.0002</td>\n",
       "      <td>0.00011</td>\n",
       "      <td>0.00009</td>\n",
       "      <td>0.00018</td>\n",
       "      <td>...</td>\n",
       "      <td>1</td>\n",
       "      <td>1</td>\n",
       "      <td>1</td>\n",
       "      <td>1</td>\n",
       "      <td>1</td>\n",
       "      <td>1</td>\n",
       "      <td>1</td>\n",
       "      <td>1</td>\n",
       "      <td>1</td>\n",
       "      <td>1</td>\n",
       "    </tr>\n",
       "    <tr>\n",
       "      <th>AT11</th>\n",
       "      <td>0.00071</td>\n",
       "      <td>0.00000</td>\n",
       "      <td>0.00035</td>\n",
       "      <td>0.00033</td>\n",
       "      <td>0.00000</td>\n",
       "      <td>0.00000</td>\n",
       "      <td>0.0000</td>\n",
       "      <td>0.00000</td>\n",
       "      <td>0.00000</td>\n",
       "      <td>0.00000</td>\n",
       "      <td>...</td>\n",
       "      <td>1</td>\n",
       "      <td>1</td>\n",
       "      <td>1</td>\n",
       "      <td>1</td>\n",
       "      <td>1</td>\n",
       "      <td>1</td>\n",
       "      <td>1</td>\n",
       "      <td>1</td>\n",
       "      <td>1</td>\n",
       "      <td>1</td>\n",
       "    </tr>\n",
       "  </tbody>\n",
       "</table>\n",
       "<p>5 rows × 7800 columns</p>\n",
       "</div>"
      ],
      "text/plain": [
       "         1990                                                                \\\n",
       "sex        -1                                                                 \n",
       "age       1        2        3        4        5        6       7        8     \n",
       "nuts                                                                          \n",
       "AL    0.00000  0.00000  0.00000  0.00000  0.00000  0.00000  0.0000  0.00000   \n",
       "AL0   0.00000  0.00000  0.00000  0.00000  0.00000  0.00000  0.0000  0.00000   \n",
       "AT    0.00063  0.00040  0.00039  0.00031  0.00025  0.00018  0.0002  0.00013   \n",
       "AT1   0.00061  0.00035  0.00035  0.00041  0.00015  0.00012  0.0002  0.00011   \n",
       "AT11  0.00071  0.00000  0.00035  0.00033  0.00000  0.00000  0.0000  0.00000   \n",
       "\n",
       "                       ... 2015                                      \n",
       "sex                    ...    1                                      \n",
       "age       9        10  ...  91  92  93  94  95  96  97  98  99  100  \n",
       "nuts                   ...                                           \n",
       "AL    0.00000  0.00000 ...    1   1   1   1   1   1   1   1   1   1  \n",
       "AL0   0.00000  0.00000 ...    1   1   1   1   1   1   1   1   1   1  \n",
       "AT    0.00010  0.00015 ...    1   1   1   1   1   1   1   1   1   1  \n",
       "AT1   0.00009  0.00018 ...    1   1   1   1   1   1   1   1   1   1  \n",
       "AT11  0.00000  0.00000 ...    1   1   1   1   1   1   1   1   1   1  \n",
       "\n",
       "[5 rows x 7800 columns]"
      ]
     },
     "execution_count": 115,
     "metadata": {},
     "output_type": "execute_result"
    }
   ],
   "source": [
    "mortality_df.head()"
   ]
  },
  {
   "cell_type": "code",
   "execution_count": 116,
   "metadata": {
    "collapsed": true
   },
   "outputs": [],
   "source": [
    "# Check that the mortality and natality tables have the same nuts\n",
    "assert len(natality_df.index.symmetric_difference(mortality_df.index)) == 0"
   ]
  },
  {
   "cell_type": "code",
   "execution_count": 117,
   "metadata": {},
   "outputs": [
    {
     "data": {
      "text/plain": [
       "Int64Index([], dtype='int64')"
      ]
     },
     "execution_count": 117,
     "metadata": {},
     "output_type": "execute_result"
    }
   ],
   "source": [
    "natality_df.columns.get_level_values(0).symmetric_difference(mortality_df.columns.get_level_values(0))"
   ]
  },
  {
   "cell_type": "markdown",
   "metadata": {},
   "source": [
    "### Select the correspondence between nuts and geocodes\n",
    "\n",
    "Now compute the number of codes we need and then select the nuts for those codes and insert the data.\n",
    "We select them from the nuts level 1 so the codes with string length == 3. We restrict our search to Italy, France, Germany, and Belgium sice they have the most complete data."
   ]
  },
  {
   "cell_type": "code",
   "execution_count": 165,
   "metadata": {
    "collapsed": true
   },
   "outputs": [],
   "source": [
    "from random import sample"
   ]
  },
  {
   "cell_type": "code",
   "execution_count": 171,
   "metadata": {
    "collapsed": true
   },
   "outputs": [],
   "source": [
    "# Now compute the number of codes we need and then select the nuts for those codes and insert the data\n",
    "# We select them from the nuts level 2 so the codes with string length == 4\n",
    "demographyLevel = 3\n",
    "dateFormat = \"%Y%m%d\"\n",
    "\n",
    "filterNuts = [\"IT\", \"DE\", \"FR\", \"BE\", \"SP\", \"NL\", \"GR\"]\n",
    "\n",
    "row2geocode = lambda r: tuple([r[\"l%d\"%l] for l in range(demographyLevel)])\n",
    "codesForDemography = set([row2geocode(r) for _, r in householdsDF.iterrows()])\n",
    "numberOfCodesForDemography = len(codesForDemography)\n",
    "nutsSelected = sample([c for c in natality_df.index if len(c) == 4 and c[:2] in filterNuts], numberOfCodesForDemography)\n",
    "\n",
    "# The map between the table nuts to the output geocode\n",
    "nuts2geocode = {nuts: geocode for nuts, geocode in zip(nutsSelected, codesForDemography)}"
   ]
  },
  {
   "cell_type": "code",
   "execution_count": 172,
   "metadata": {},
   "outputs": [
    {
     "name": "stdout",
     "output_type": "stream",
     "text": [
      "CPU times: user 11.1 s, sys: 23.2 ms, total: 11.1 s\n",
      "Wall time: 11.4 s\n"
     ]
    }
   ],
   "source": [
    "%%time\n",
    "outData = []\n",
    "for tmp_nuts in nutsSelected:\n",
    "    tmp_geocode = nuts2geocode[tmp_nuts]\n",
    "    for year in natality_df.columns.get_level_values(0).unique():\n",
    "        if year < 2002: continue\n",
    "        for sex in [0, 1]:\n",
    "            for age in range(1, 101):\n",
    "                tmp_row = [int(i) for i in tmp_geocode] + [datetime.datetime(year, 1, 1).strftime(dateFormat), sex, age]\n",
    "                tmp_column = tuple([year, sex, age])\n",
    "                outData.append(tmp_row + [natality_df[tmp_column][tmp_nuts], mortality_df[tmp_column][tmp_nuts]])"
   ]
  },
  {
   "cell_type": "code",
   "execution_count": 173,
   "metadata": {},
   "outputs": [
    {
     "data": {
      "text/html": [
       "<div>\n",
       "<style scoped>\n",
       "    .dataframe tbody tr th:only-of-type {\n",
       "        vertical-align: middle;\n",
       "    }\n",
       "\n",
       "    .dataframe tbody tr th {\n",
       "        vertical-align: top;\n",
       "    }\n",
       "\n",
       "    .dataframe thead th {\n",
       "        text-align: right;\n",
       "    }\n",
       "</style>\n",
       "<table border=\"1\" class=\"dataframe\">\n",
       "  <thead>\n",
       "    <tr style=\"text-align: right;\">\n",
       "      <th></th>\n",
       "      <th>l0</th>\n",
       "      <th>l1</th>\n",
       "      <th>l2</th>\n",
       "      <th>date</th>\n",
       "      <th>sex</th>\n",
       "      <th>age</th>\n",
       "      <th>natality</th>\n",
       "      <th>mortality</th>\n",
       "    </tr>\n",
       "  </thead>\n",
       "  <tbody>\n",
       "    <tr>\n",
       "      <th>0</th>\n",
       "      <td>3</td>\n",
       "      <td>0</td>\n",
       "      <td>2</td>\n",
       "      <td>20020101</td>\n",
       "      <td>0</td>\n",
       "      <td>1</td>\n",
       "      <td>0.0</td>\n",
       "      <td>0.00120</td>\n",
       "    </tr>\n",
       "    <tr>\n",
       "      <th>1</th>\n",
       "      <td>3</td>\n",
       "      <td>0</td>\n",
       "      <td>2</td>\n",
       "      <td>20020101</td>\n",
       "      <td>0</td>\n",
       "      <td>2</td>\n",
       "      <td>0.0</td>\n",
       "      <td>0.00047</td>\n",
       "    </tr>\n",
       "    <tr>\n",
       "      <th>2</th>\n",
       "      <td>3</td>\n",
       "      <td>0</td>\n",
       "      <td>2</td>\n",
       "      <td>20020101</td>\n",
       "      <td>0</td>\n",
       "      <td>3</td>\n",
       "      <td>0.0</td>\n",
       "      <td>0.00000</td>\n",
       "    </tr>\n",
       "    <tr>\n",
       "      <th>3</th>\n",
       "      <td>3</td>\n",
       "      <td>0</td>\n",
       "      <td>2</td>\n",
       "      <td>20020101</td>\n",
       "      <td>0</td>\n",
       "      <td>4</td>\n",
       "      <td>0.0</td>\n",
       "      <td>0.00025</td>\n",
       "    </tr>\n",
       "    <tr>\n",
       "      <th>4</th>\n",
       "      <td>3</td>\n",
       "      <td>0</td>\n",
       "      <td>2</td>\n",
       "      <td>20020101</td>\n",
       "      <td>0</td>\n",
       "      <td>5</td>\n",
       "      <td>0.0</td>\n",
       "      <td>0.00050</td>\n",
       "    </tr>\n",
       "  </tbody>\n",
       "</table>\n",
       "</div>"
      ],
      "text/plain": [
       "   l0  l1  l2      date  sex  age  natality  mortality\n",
       "0   3   0   2  20020101    0    1       0.0    0.00120\n",
       "1   3   0   2  20020101    0    2       0.0    0.00047\n",
       "2   3   0   2  20020101    0    3       0.0    0.00000\n",
       "3   3   0   2  20020101    0    4       0.0    0.00025\n",
       "4   3   0   2  20020101    0    5       0.0    0.00050"
      ]
     },
     "execution_count": 173,
     "metadata": {},
     "output_type": "execute_result"
    }
   ],
   "source": [
    "demographyDF = pd.DataFrame(outData, columns=[\"l%d\"%d for d in range(demographyLevel)] + [\"date\", \"sex\", \"age\", \"natality\", \"mortality\"])\n",
    "demographyDF.head()"
   ]
  },
  {
   "cell_type": "markdown",
   "metadata": {},
   "source": [
    "### Create fake dates\n",
    "\n",
    "To test the I/O demography functions we rewrite all the original dates to to be in the 2015 years because we will run the example tests of the program in the first half of 2015."
   ]
  },
  {
   "cell_type": "code",
   "execution_count": 174,
   "metadata": {
    "collapsed": true
   },
   "outputs": [],
   "source": [
    "currentDates = demographyDF.date.unique()\n",
    "numberOfDates = len(currentDates)\n",
    "timeDeltaPerDate = datetime.timedelta(days=int(np.ceil(200./numberOfDates)))\n",
    "dateZero = datetime.datetime(2014,12,31,0,0,0)\n",
    "old2newDates = {oldDate: (dateZero+timeDeltaPerDate*iii).strftime(dateFormat) for iii, oldDate in enumerate(currentDates)}"
   ]
  },
  {
   "cell_type": "code",
   "execution_count": 175,
   "metadata": {},
   "outputs": [
    {
     "data": {
      "text/html": [
       "<div>\n",
       "<style scoped>\n",
       "    .dataframe tbody tr th:only-of-type {\n",
       "        vertical-align: middle;\n",
       "    }\n",
       "\n",
       "    .dataframe tbody tr th {\n",
       "        vertical-align: top;\n",
       "    }\n",
       "\n",
       "    .dataframe thead th {\n",
       "        text-align: right;\n",
       "    }\n",
       "</style>\n",
       "<table border=\"1\" class=\"dataframe\">\n",
       "  <thead>\n",
       "    <tr style=\"text-align: right;\">\n",
       "      <th></th>\n",
       "      <th>l0</th>\n",
       "      <th>l1</th>\n",
       "      <th>l2</th>\n",
       "      <th>date</th>\n",
       "      <th>sex</th>\n",
       "      <th>age</th>\n",
       "      <th>natality</th>\n",
       "      <th>mortality</th>\n",
       "    </tr>\n",
       "  </thead>\n",
       "  <tbody>\n",
       "    <tr>\n",
       "      <th>0</th>\n",
       "      <td>3</td>\n",
       "      <td>0</td>\n",
       "      <td>2</td>\n",
       "      <td>20141231</td>\n",
       "      <td>0</td>\n",
       "      <td>1</td>\n",
       "      <td>0.0</td>\n",
       "      <td>0.00120</td>\n",
       "    </tr>\n",
       "    <tr>\n",
       "      <th>1</th>\n",
       "      <td>3</td>\n",
       "      <td>0</td>\n",
       "      <td>2</td>\n",
       "      <td>20141231</td>\n",
       "      <td>0</td>\n",
       "      <td>2</td>\n",
       "      <td>0.0</td>\n",
       "      <td>0.00047</td>\n",
       "    </tr>\n",
       "    <tr>\n",
       "      <th>2</th>\n",
       "      <td>3</td>\n",
       "      <td>0</td>\n",
       "      <td>2</td>\n",
       "      <td>20141231</td>\n",
       "      <td>0</td>\n",
       "      <td>3</td>\n",
       "      <td>0.0</td>\n",
       "      <td>0.00000</td>\n",
       "    </tr>\n",
       "    <tr>\n",
       "      <th>3</th>\n",
       "      <td>3</td>\n",
       "      <td>0</td>\n",
       "      <td>2</td>\n",
       "      <td>20141231</td>\n",
       "      <td>0</td>\n",
       "      <td>4</td>\n",
       "      <td>0.0</td>\n",
       "      <td>0.00025</td>\n",
       "    </tr>\n",
       "    <tr>\n",
       "      <th>4</th>\n",
       "      <td>3</td>\n",
       "      <td>0</td>\n",
       "      <td>2</td>\n",
       "      <td>20141231</td>\n",
       "      <td>0</td>\n",
       "      <td>5</td>\n",
       "      <td>0.0</td>\n",
       "      <td>0.00050</td>\n",
       "    </tr>\n",
       "  </tbody>\n",
       "</table>\n",
       "</div>"
      ],
      "text/plain": [
       "   l0  l1  l2      date  sex  age  natality  mortality\n",
       "0   3   0   2  20141231    0    1       0.0    0.00120\n",
       "1   3   0   2  20141231    0    2       0.0    0.00047\n",
       "2   3   0   2  20141231    0    3       0.0    0.00000\n",
       "3   3   0   2  20141231    0    4       0.0    0.00025\n",
       "4   3   0   2  20141231    0    5       0.0    0.00050"
      ]
     },
     "execution_count": 175,
     "metadata": {},
     "output_type": "execute_result"
    }
   ],
   "source": [
    "demographyDF.replace(to_replace={\"date\": old2newDates}, inplace=True)\n",
    "demographyDF.head()"
   ]
  },
  {
   "cell_type": "code",
   "execution_count": 176,
   "metadata": {},
   "outputs": [
    {
     "data": {
      "text/plain": [
       "array(['20141231', '20150115', '20150130', '20150214', '20150301',\n",
       "       '20150316', '20150331', '20150415', '20150430', '20150515',\n",
       "       '20150530', '20150614', '20150629', '20150714'], dtype=object)"
      ]
     },
     "execution_count": 176,
     "metadata": {},
     "output_type": "execute_result"
    }
   ],
   "source": [
    "demographyDF.date.unique()"
   ]
  },
  {
   "cell_type": "code",
   "execution_count": 177,
   "metadata": {},
   "outputs": [
    {
     "data": {
      "text/plain": [
       "<matplotlib.axes._subplots.AxesSubplot at 0x7f243802c610>"
      ]
     },
     "execution_count": 177,
     "metadata": {},
     "output_type": "execute_result"
    },
    {
     "data": {
      "image/png": "[encoded data removed]",
      "text/plain": [
       "<matplotlib.figure.Figure at 0x7f2438269d50>"
      ]
     },
     "metadata": {},
     "output_type": "display_data"
    }
   ],
   "source": [
    "# Check that we do not have too many zeroes...\n",
    "demographyDF[demographyDF.age >= 85].mortality.hist(bins=[-1, 0.0000000000001, 1.])"
   ]
  },
  {
   "cell_type": "code",
   "execution_count": 178,
   "metadata": {},
   "outputs": [
    {
     "data": {
      "text/plain": [
       "<matplotlib.axes._subplots.AxesSubplot at 0x7f2436dd9350>"
      ]
     },
     "execution_count": 178,
     "metadata": {},
     "output_type": "execute_result"
    },
    {
     "data": {
      "image/png": "[encoded data removed]",
      "text/plain": [
       "<matplotlib.figure.Figure at 0x7f2439464b50>"
      ]
     },
     "metadata": {},
     "output_type": "display_data"
    }
   ],
   "source": [
    "demographyDF[(demographyDF.age.between(18, 45)) & (demographyDF.sex == 1)].natality.hist(bins=[-1, 0.000000001, 1.])"
   ]
  },
  {
   "cell_type": "code",
   "execution_count": null,
   "metadata": {
    "collapsed": true
   },
   "outputs": [],
   "source": []
  },
  {
   "cell_type": "markdown",
   "metadata": {},
   "source": [
    "## Saving to hdf5 file"
   ]
  },
  {
   "cell_type": "code",
   "execution_count": 179,
   "metadata": {
    "collapsed": true
   },
   "outputs": [],
   "source": [
    "fout = h5py.File(\"../data/synthPop_5levels_prova_small.h5\", mode=\"w\")\n",
    "fout.clear()"
   ]
  },
  {
   "cell_type": "markdown",
   "metadata": {},
   "source": [
    "### Agents"
   ]
  },
  {
   "cell_type": "code",
   "execution_count": 180,
   "metadata": {},
   "outputs": [
    {
     "data": {
      "text/plain": [
       "<HDF5 dataset \"agent\": shape (22012,), type \"|V72\">"
      ]
     },
     "execution_count": 180,
     "metadata": {},
     "output_type": "execute_result"
    }
   ],
   "source": [
    "# Agents table\n",
    "\n",
    "typeNames =   [\"id\",  \"hh\",  \"age\", \"sex\", \"role\", \"employed\", \"edu\", \"income\", \"wp\"]\n",
    "typeFormats = [\"<i8\", \"<i8\", \"<i8\", \"<i8\", \"<i8\",  \"<i8\",      \"<i8\", \"<f8\",    \"<i8\"]\n",
    "itemsize = len(typeFormats)*8\n",
    "typeOffset = range(0, itemsize, 8)\n",
    "agentType = np.dtype({\"names\": typeNames, \"formats\": typeFormats, }) \n",
    "\n",
    "dataAsMatrix = agentsDF.as_matrix()\n",
    "dataAsMatrix = np.array([tuple(row) for row in dataAsMatrix], dtype=agentType)\n",
    "\n",
    "fout.create_dataset(name=\"agent\", dtype=agentType, data=dataAsMatrix)"
   ]
  },
  {
   "cell_type": "code",
   "execution_count": 181,
   "metadata": {},
   "outputs": [
    {
     "data": {
      "text/html": [
       "<div>\n",
       "<style scoped>\n",
       "    .dataframe tbody tr th:only-of-type {\n",
       "        vertical-align: middle;\n",
       "    }\n",
       "\n",
       "    .dataframe tbody tr th {\n",
       "        vertical-align: top;\n",
       "    }\n",
       "\n",
       "    .dataframe thead th {\n",
       "        text-align: right;\n",
       "    }\n",
       "</style>\n",
       "<table border=\"1\" class=\"dataframe\">\n",
       "  <thead>\n",
       "    <tr style=\"text-align: right;\">\n",
       "      <th></th>\n",
       "      <th>id</th>\n",
       "      <th>hh</th>\n",
       "      <th>age</th>\n",
       "      <th>sex</th>\n",
       "      <th>role</th>\n",
       "      <th>empl</th>\n",
       "      <th>edu</th>\n",
       "      <th>income</th>\n",
       "      <th>wp</th>\n",
       "    </tr>\n",
       "  </thead>\n",
       "  <tbody>\n",
       "    <tr>\n",
       "      <th>0</th>\n",
       "      <td>0</td>\n",
       "      <td>0</td>\n",
       "      <td>62</td>\n",
       "      <td>1</td>\n",
       "      <td>1</td>\n",
       "      <td>1</td>\n",
       "      <td>2</td>\n",
       "      <td>1256.404135</td>\n",
       "      <td>3</td>\n",
       "    </tr>\n",
       "    <tr>\n",
       "      <th>1</th>\n",
       "      <td>1</td>\n",
       "      <td>0</td>\n",
       "      <td>97</td>\n",
       "      <td>0</td>\n",
       "      <td>1</td>\n",
       "      <td>0</td>\n",
       "      <td>1</td>\n",
       "      <td>1098.935337</td>\n",
       "      <td>3</td>\n",
       "    </tr>\n",
       "    <tr>\n",
       "      <th>2</th>\n",
       "      <td>2</td>\n",
       "      <td>0</td>\n",
       "      <td>3</td>\n",
       "      <td>0</td>\n",
       "      <td>0</td>\n",
       "      <td>5</td>\n",
       "      <td>0</td>\n",
       "      <td>0.000000</td>\n",
       "      <td>-1</td>\n",
       "    </tr>\n",
       "    <tr>\n",
       "      <th>3</th>\n",
       "      <td>3</td>\n",
       "      <td>0</td>\n",
       "      <td>15</td>\n",
       "      <td>0</td>\n",
       "      <td>0</td>\n",
       "      <td>7</td>\n",
       "      <td>1</td>\n",
       "      <td>0.000000</td>\n",
       "      <td>-1</td>\n",
       "    </tr>\n",
       "    <tr>\n",
       "      <th>4</th>\n",
       "      <td>4</td>\n",
       "      <td>0</td>\n",
       "      <td>17</td>\n",
       "      <td>1</td>\n",
       "      <td>0</td>\n",
       "      <td>7</td>\n",
       "      <td>1</td>\n",
       "      <td>0.000000</td>\n",
       "      <td>-1</td>\n",
       "    </tr>\n",
       "  </tbody>\n",
       "</table>\n",
       "</div>"
      ],
      "text/plain": [
       "   id  hh  age  sex  role  empl  edu       income  wp\n",
       "0   0   0   62    1     1     1    2  1256.404135   3\n",
       "1   1   0   97    0     1     0    1  1098.935337   3\n",
       "2   2   0    3    0     0     5    0     0.000000  -1\n",
       "3   3   0   15    0     0     7    1     0.000000  -1\n",
       "4   4   0   17    1     0     7    1     0.000000  -1"
      ]
     },
     "execution_count": 181,
     "metadata": {},
     "output_type": "execute_result"
    }
   ],
   "source": [
    "# Check correspondence\n",
    "agentsDF.head()"
   ]
  },
  {
   "cell_type": "code",
   "execution_count": 182,
   "metadata": {},
   "outputs": [
    {
     "data": {
      "text/plain": [
       "(0, 0, 62, 1, 1, 1, 2, 1256.40413454, 3)"
      ]
     },
     "execution_count": 182,
     "metadata": {},
     "output_type": "execute_result"
    }
   ],
   "source": [
    "fout[\"agent\"][0]"
   ]
  },
  {
   "cell_type": "markdown",
   "metadata": {},
   "source": [
    "### Households"
   ]
  },
  {
   "cell_type": "code",
   "execution_count": 183,
   "metadata": {},
   "outputs": [
    {
     "data": {
      "text/plain": [
       "<HDF5 dataset \"household\": shape (8218,), type \"|V80\">"
      ]
     },
     "execution_count": 183,
     "metadata": {},
     "output_type": "execute_result"
    }
   ],
   "source": [
    "# Household table\n",
    "\n",
    "typeNames =   [\"id\",  \"l0\",  \"l1\",  \"l2\",  \"l3\",  \"l4\",  \"size\", \"kind\", \"lon\", \"lat\"]\n",
    "typeFormats = [\"<i8\", \"<i8\", \"<i8\", \"<i8\", \"<i8\", \"<i8\", \"<i8\",  \"<i8\",  \"<f8\", \"<f8\"]\n",
    "\n",
    "householdType = np.dtype({\"names\": typeNames, \"formats\": typeFormats, }) \n",
    "\n",
    "dataAsMatrix = householdsDF.as_matrix()\n",
    "dataAsMatrix = np.array([tuple(row) for row in dataAsMatrix], dtype=householdType)\n",
    "\n",
    "fout.create_dataset(name=\"household\", dtype=householdType, data=dataAsMatrix)"
   ]
  },
  {
   "cell_type": "code",
   "execution_count": 184,
   "metadata": {},
   "outputs": [
    {
     "data": {
      "text/html": [
       "<div>\n",
       "<style scoped>\n",
       "    .dataframe tbody tr th:only-of-type {\n",
       "        vertical-align: middle;\n",
       "    }\n",
       "\n",
       "    .dataframe tbody tr th {\n",
       "        vertical-align: top;\n",
       "    }\n",
       "\n",
       "    .dataframe thead th {\n",
       "        text-align: right;\n",
       "    }\n",
       "</style>\n",
       "<table border=\"1\" class=\"dataframe\">\n",
       "  <thead>\n",
       "    <tr style=\"text-align: right;\">\n",
       "      <th></th>\n",
       "      <th>id</th>\n",
       "      <th>l0</th>\n",
       "      <th>l1</th>\n",
       "      <th>l2</th>\n",
       "      <th>l3</th>\n",
       "      <th>l4</th>\n",
       "      <th>size</th>\n",
       "      <th>kind</th>\n",
       "      <th>lon</th>\n",
       "      <th>lat</th>\n",
       "    </tr>\n",
       "  </thead>\n",
       "  <tbody>\n",
       "    <tr>\n",
       "      <th>0</th>\n",
       "      <td>0</td>\n",
       "      <td>0</td>\n",
       "      <td>0</td>\n",
       "      <td>0</td>\n",
       "      <td>0</td>\n",
       "      <td>0</td>\n",
       "      <td>5</td>\n",
       "      <td>2</td>\n",
       "      <td>0.227056</td>\n",
       "      <td>0.318913</td>\n",
       "    </tr>\n",
       "    <tr>\n",
       "      <th>1</th>\n",
       "      <td>1</td>\n",
       "      <td>0</td>\n",
       "      <td>0</td>\n",
       "      <td>0</td>\n",
       "      <td>0</td>\n",
       "      <td>0</td>\n",
       "      <td>1</td>\n",
       "      <td>0</td>\n",
       "      <td>0.414940</td>\n",
       "      <td>0.210292</td>\n",
       "    </tr>\n",
       "    <tr>\n",
       "      <th>2</th>\n",
       "      <td>2</td>\n",
       "      <td>0</td>\n",
       "      <td>0</td>\n",
       "      <td>0</td>\n",
       "      <td>0</td>\n",
       "      <td>0</td>\n",
       "      <td>1</td>\n",
       "      <td>0</td>\n",
       "      <td>0.380359</td>\n",
       "      <td>0.459472</td>\n",
       "    </tr>\n",
       "    <tr>\n",
       "      <th>3</th>\n",
       "      <td>3</td>\n",
       "      <td>0</td>\n",
       "      <td>0</td>\n",
       "      <td>0</td>\n",
       "      <td>0</td>\n",
       "      <td>0</td>\n",
       "      <td>2</td>\n",
       "      <td>3</td>\n",
       "      <td>0.454393</td>\n",
       "      <td>0.296077</td>\n",
       "    </tr>\n",
       "    <tr>\n",
       "      <th>4</th>\n",
       "      <td>4</td>\n",
       "      <td>0</td>\n",
       "      <td>0</td>\n",
       "      <td>0</td>\n",
       "      <td>0</td>\n",
       "      <td>0</td>\n",
       "      <td>3</td>\n",
       "      <td>2</td>\n",
       "      <td>0.366287</td>\n",
       "      <td>0.486031</td>\n",
       "    </tr>\n",
       "  </tbody>\n",
       "</table>\n",
       "</div>"
      ],
      "text/plain": [
       "   id  l0  l1  l2  l3  l4  size  kind       lon       lat\n",
       "0   0   0   0   0   0   0     5     2  0.227056  0.318913\n",
       "1   1   0   0   0   0   0     1     0  0.414940  0.210292\n",
       "2   2   0   0   0   0   0     1     0  0.380359  0.459472\n",
       "3   3   0   0   0   0   0     2     3  0.454393  0.296077\n",
       "4   4   0   0   0   0   0     3     2  0.366287  0.486031"
      ]
     },
     "execution_count": 184,
     "metadata": {},
     "output_type": "execute_result"
    }
   ],
   "source": [
    "# Check correspondence\n",
    "householdsDF.head()"
   ]
  },
  {
   "cell_type": "code",
   "execution_count": 185,
   "metadata": {},
   "outputs": [
    {
     "data": {
      "text/plain": [
       "(0, 0, 0, 0, 0, 0, 5, 2, 0.22705605, 0.31891263)"
      ]
     },
     "execution_count": 185,
     "metadata": {},
     "output_type": "execute_result"
    }
   ],
   "source": [
    "fout[\"household\"][0]"
   ]
  },
  {
   "cell_type": "markdown",
   "metadata": {},
   "source": [
    "### Workplaces/school"
   ]
  },
  {
   "cell_type": "code",
   "execution_count": 186,
   "metadata": {},
   "outputs": [
    {
     "data": {
      "text/plain": [
       "<HDF5 dataset \"workplace\": shape (538,), type \"|V80\">"
      ]
     },
     "execution_count": 186,
     "metadata": {},
     "output_type": "execute_result"
    }
   ],
   "source": [
    "# Workplaces table\n",
    "\n",
    "typeNames =   [\"id\",  \"l0\",  \"l1\",  \"l2\",  \"l3\",  \"l4\",  \"size\", \"kind\", \"lon\", \"lat\"]\n",
    "typeFormats = [\"<i8\", \"<i8\", \"<i8\", \"<i8\", \"<i8\", \"<i8\", \"<i8\",  \"<i8\",  \"<f8\", \"<f8\"]\n",
    "\n",
    "workplaceType = np.dtype({\"names\": typeNames, \"formats\": typeFormats,}) \n",
    "\n",
    "dataAsMatrix = workplacesDF.as_matrix()\n",
    "dataAsMatrix = np.array([tuple(row) for row in dataAsMatrix], dtype=workplaceType)\n",
    "\n",
    "fout.create_dataset(name=\"workplace\", dtype=workplaceType, data=dataAsMatrix)"
   ]
  },
  {
   "cell_type": "code",
   "execution_count": 187,
   "metadata": {},
   "outputs": [
    {
     "data": {
      "text/html": [
       "<div>\n",
       "<style scoped>\n",
       "    .dataframe tbody tr th:only-of-type {\n",
       "        vertical-align: middle;\n",
       "    }\n",
       "\n",
       "    .dataframe tbody tr th {\n",
       "        vertical-align: top;\n",
       "    }\n",
       "\n",
       "    .dataframe thead th {\n",
       "        text-align: right;\n",
       "    }\n",
       "</style>\n",
       "<table border=\"1\" class=\"dataframe\">\n",
       "  <thead>\n",
       "    <tr style=\"text-align: right;\">\n",
       "      <th></th>\n",
       "      <th>id</th>\n",
       "      <th>l0</th>\n",
       "      <th>l1</th>\n",
       "      <th>l2</th>\n",
       "      <th>l3</th>\n",
       "      <th>l4</th>\n",
       "      <th>size</th>\n",
       "      <th>kind</th>\n",
       "      <th>lon</th>\n",
       "      <th>lat</th>\n",
       "    </tr>\n",
       "  </thead>\n",
       "  <tbody>\n",
       "    <tr>\n",
       "      <th>0</th>\n",
       "      <td>0</td>\n",
       "      <td>0</td>\n",
       "      <td>0</td>\n",
       "      <td>0</td>\n",
       "      <td>3</td>\n",
       "      <td>3</td>\n",
       "      <td>12</td>\n",
       "      <td>5</td>\n",
       "      <td>0.431818</td>\n",
       "      <td>0.447053</td>\n",
       "    </tr>\n",
       "    <tr>\n",
       "      <th>1</th>\n",
       "      <td>1</td>\n",
       "      <td>0</td>\n",
       "      <td>0</td>\n",
       "      <td>0</td>\n",
       "      <td>3</td>\n",
       "      <td>0</td>\n",
       "      <td>4</td>\n",
       "      <td>6</td>\n",
       "      <td>0.472801</td>\n",
       "      <td>0.235523</td>\n",
       "    </tr>\n",
       "    <tr>\n",
       "      <th>2</th>\n",
       "      <td>2</td>\n",
       "      <td>0</td>\n",
       "      <td>0</td>\n",
       "      <td>0</td>\n",
       "      <td>2</td>\n",
       "      <td>0</td>\n",
       "      <td>15</td>\n",
       "      <td>7</td>\n",
       "      <td>0.462352</td>\n",
       "      <td>0.175953</td>\n",
       "    </tr>\n",
       "    <tr>\n",
       "      <th>3</th>\n",
       "      <td>3</td>\n",
       "      <td>0</td>\n",
       "      <td>0</td>\n",
       "      <td>0</td>\n",
       "      <td>3</td>\n",
       "      <td>2</td>\n",
       "      <td>48</td>\n",
       "      <td>1</td>\n",
       "      <td>0.193615</td>\n",
       "      <td>0.213841</td>\n",
       "    </tr>\n",
       "    <tr>\n",
       "      <th>4</th>\n",
       "      <td>4</td>\n",
       "      <td>0</td>\n",
       "      <td>0</td>\n",
       "      <td>0</td>\n",
       "      <td>2</td>\n",
       "      <td>2</td>\n",
       "      <td>34</td>\n",
       "      <td>1</td>\n",
       "      <td>0.068021</td>\n",
       "      <td>0.032573</td>\n",
       "    </tr>\n",
       "  </tbody>\n",
       "</table>\n",
       "</div>"
      ],
      "text/plain": [
       "   id  l0  l1  l2  l3  l4  size  kind       lon       lat\n",
       "0   0   0   0   0   3   3    12     5  0.431818  0.447053\n",
       "1   1   0   0   0   3   0     4     6  0.472801  0.235523\n",
       "2   2   0   0   0   2   0    15     7  0.462352  0.175953\n",
       "3   3   0   0   0   3   2    48     1  0.193615  0.213841\n",
       "4   4   0   0   0   2   2    34     1  0.068021  0.032573"
      ]
     },
     "execution_count": 187,
     "metadata": {},
     "output_type": "execute_result"
    }
   ],
   "source": [
    "# Check correspondence\n",
    "workplacesDF.head()"
   ]
  },
  {
   "cell_type": "code",
   "execution_count": 188,
   "metadata": {},
   "outputs": [
    {
     "data": {
      "text/plain": [
       "(0, 0, 0, 0, 3, 3, 12, 5, 0.43181788, 0.44705285)"
      ]
     },
     "execution_count": 188,
     "metadata": {},
     "output_type": "execute_result"
    }
   ],
   "source": [
    "fout[\"workplace\"][0]"
   ]
  },
  {
   "cell_type": "code",
   "execution_count": null,
   "metadata": {
    "collapsed": true
   },
   "outputs": [],
   "source": []
  },
  {
   "cell_type": "markdown",
   "metadata": {},
   "source": [
    "### Define the types"
   ]
  },
  {
   "cell_type": "code",
   "execution_count": 189,
   "metadata": {
    "collapsed": true
   },
   "outputs": [],
   "source": [
    "type_group = fout.create_group(\"types\")"
   ]
  },
  {
   "cell_type": "code",
   "execution_count": 190,
   "metadata": {
    "collapsed": true
   },
   "outputs": [],
   "source": [
    "type_group[\"agent\"] = agentType\n",
    "type_group[\"household\"] = householdType\n",
    "type_group[\"workplace\"] = workplaceType"
   ]
  },
  {
   "cell_type": "code",
   "execution_count": null,
   "metadata": {
    "collapsed": true
   },
   "outputs": [],
   "source": []
  },
  {
   "cell_type": "markdown",
   "metadata": {},
   "source": [
    "### Demography"
   ]
  },
  {
   "cell_type": "code",
   "execution_count": 191,
   "metadata": {},
   "outputs": [
    {
     "data": {
      "text/plain": [
       "<HDF5 dataset \"demography\": shape (179200,), type \"|V64\">"
      ]
     },
     "execution_count": 191,
     "metadata": {},
     "output_type": "execute_result"
    }
   ],
   "source": [
    "# Demography table\n",
    "\n",
    "typeNames =   [\"l%d\" % d for d in range(demographyLevel)] + [\"date\", \"sex\", \"age\", \"natality\", \"mortality\"]\n",
    "typeFormats = [\"<i8\"]*demographyLevel + [\"S8\", \"<i8\",  \"<i8\",  \"<f8\", \"<f8\"]\n",
    "\n",
    "demographyType = np.dtype({\"names\": typeNames, \"formats\": typeFormats,}) \n",
    "\n",
    "dataAsMatrix = demographyDF.as_matrix()\n",
    "dataAsMatrix = np.array([tuple(row) for row in dataAsMatrix], dtype=demographyType)\n",
    "\n",
    "fout.create_dataset(name=\"demography\", dtype=demographyType, data=dataAsMatrix)"
   ]
  },
  {
   "cell_type": "code",
   "execution_count": 192,
   "metadata": {},
   "outputs": [
    {
     "data": {
      "text/html": [
       "<div>\n",
       "<style scoped>\n",
       "    .dataframe tbody tr th:only-of-type {\n",
       "        vertical-align: middle;\n",
       "    }\n",
       "\n",
       "    .dataframe tbody tr th {\n",
       "        vertical-align: top;\n",
       "    }\n",
       "\n",
       "    .dataframe thead th {\n",
       "        text-align: right;\n",
       "    }\n",
       "</style>\n",
       "<table border=\"1\" class=\"dataframe\">\n",
       "  <thead>\n",
       "    <tr style=\"text-align: right;\">\n",
       "      <th></th>\n",
       "      <th>l0</th>\n",
       "      <th>l1</th>\n",
       "      <th>l2</th>\n",
       "      <th>date</th>\n",
       "      <th>sex</th>\n",
       "      <th>age</th>\n",
       "      <th>natality</th>\n",
       "      <th>mortality</th>\n",
       "    </tr>\n",
       "  </thead>\n",
       "  <tbody>\n",
       "    <tr>\n",
       "      <th>0</th>\n",
       "      <td>3</td>\n",
       "      <td>0</td>\n",
       "      <td>2</td>\n",
       "      <td>20141231</td>\n",
       "      <td>0</td>\n",
       "      <td>1</td>\n",
       "      <td>0.0</td>\n",
       "      <td>0.00120</td>\n",
       "    </tr>\n",
       "    <tr>\n",
       "      <th>1</th>\n",
       "      <td>3</td>\n",
       "      <td>0</td>\n",
       "      <td>2</td>\n",
       "      <td>20141231</td>\n",
       "      <td>0</td>\n",
       "      <td>2</td>\n",
       "      <td>0.0</td>\n",
       "      <td>0.00047</td>\n",
       "    </tr>\n",
       "    <tr>\n",
       "      <th>2</th>\n",
       "      <td>3</td>\n",
       "      <td>0</td>\n",
       "      <td>2</td>\n",
       "      <td>20141231</td>\n",
       "      <td>0</td>\n",
       "      <td>3</td>\n",
       "      <td>0.0</td>\n",
       "      <td>0.00000</td>\n",
       "    </tr>\n",
       "    <tr>\n",
       "      <th>3</th>\n",
       "      <td>3</td>\n",
       "      <td>0</td>\n",
       "      <td>2</td>\n",
       "      <td>20141231</td>\n",
       "      <td>0</td>\n",
       "      <td>4</td>\n",
       "      <td>0.0</td>\n",
       "      <td>0.00025</td>\n",
       "    </tr>\n",
       "    <tr>\n",
       "      <th>4</th>\n",
       "      <td>3</td>\n",
       "      <td>0</td>\n",
       "      <td>2</td>\n",
       "      <td>20141231</td>\n",
       "      <td>0</td>\n",
       "      <td>5</td>\n",
       "      <td>0.0</td>\n",
       "      <td>0.00050</td>\n",
       "    </tr>\n",
       "  </tbody>\n",
       "</table>\n",
       "</div>"
      ],
      "text/plain": [
       "   l0  l1  l2      date  sex  age  natality  mortality\n",
       "0   3   0   2  20141231    0    1       0.0    0.00120\n",
       "1   3   0   2  20141231    0    2       0.0    0.00047\n",
       "2   3   0   2  20141231    0    3       0.0    0.00000\n",
       "3   3   0   2  20141231    0    4       0.0    0.00025\n",
       "4   3   0   2  20141231    0    5       0.0    0.00050"
      ]
     },
     "execution_count": 192,
     "metadata": {},
     "output_type": "execute_result"
    }
   ],
   "source": [
    "# Check correspondence\n",
    "demographyDF.head()"
   ]
  },
  {
   "cell_type": "code",
   "execution_count": 193,
   "metadata": {},
   "outputs": [
    {
     "data": {
      "text/plain": [
       "(3, 0, 2, '20141231', 0, 1, 0., 0.0012)"
      ]
     },
     "execution_count": 193,
     "metadata": {},
     "output_type": "execute_result"
    }
   ],
   "source": [
    "fout[\"demography\"][0]"
   ]
  },
  {
   "cell_type": "code",
   "execution_count": null,
   "metadata": {
    "collapsed": true
   },
   "outputs": [],
   "source": []
  },
  {
   "cell_type": "markdown",
   "metadata": {},
   "source": [
    "### Close the file"
   ]
  },
  {
   "cell_type": "code",
   "execution_count": 194,
   "metadata": {
    "collapsed": true
   },
   "outputs": [],
   "source": [
    "fout.close()"
   ]
  },
  {
   "cell_type": "code",
   "execution_count": null,
   "metadata": {
    "collapsed": true
   },
   "outputs": [],
   "source": []
  },
  {
   "cell_type": "markdown",
   "metadata": {},
   "source": [
    "## Benchmark reading methods"
   ]
  },
  {
   "cell_type": "code",
   "execution_count": 3,
   "metadata": {
    "collapsed": true
   },
   "outputs": [],
   "source": [
    "testFile = \"../data/synthPop_5levels_prova_small.h5\"\n",
    "dataset = \"agent\""
   ]
  },
  {
   "cell_type": "code",
   "execution_count": 4,
   "metadata": {
    "collapsed": true
   },
   "outputs": [],
   "source": [
    "fileHandle = h5py.File(testFile, mode=\"r\")\n",
    "table = fileHandle[dataset]"
   ]
  },
  {
   "cell_type": "code",
   "execution_count": 46,
   "metadata": {},
   "outputs": [
    {
     "data": {
      "text/plain": [
       "True"
      ]
     },
     "execution_count": 46,
     "metadata": {},
     "output_type": "execute_result"
    }
   ],
   "source": [
    "dataset in fileHandle"
   ]
  },
  {
   "cell_type": "markdown",
   "metadata": {},
   "source": [
    "### Read row by row"
   ]
  },
  {
   "cell_type": "code",
   "execution_count": 10,
   "metadata": {},
   "outputs": [
    {
     "data": {
      "text/plain": [
       "h5py._hl.dataset.Dataset"
      ]
     },
     "execution_count": 10,
     "metadata": {},
     "output_type": "execute_result"
    }
   ],
   "source": [
    "type(table)"
   ]
  },
  {
   "cell_type": "code",
   "execution_count": 17,
   "metadata": {},
   "outputs": [
    {
     "name": "stdout",
     "output_type": "stream",
     "text": [
      "\n",
      "Done\n",
      "CPU times: user 2.65 s, sys: 26.5 ms, total: 2.68 s\n",
      "Wall time: 2.64 s\n"
     ]
    }
   ],
   "source": [
    "%%time\n",
    "for row in table:\n",
    "    pass\n",
    "print \"\\nDone\""
   ]
  },
  {
   "cell_type": "code",
   "execution_count": 7,
   "metadata": {},
   "outputs": [
    {
     "data": {
      "text/plain": [
       "(22022, 8088, 17, 0, 7, 1,  0., 468)"
      ]
     },
     "execution_count": 7,
     "metadata": {},
     "output_type": "execute_result"
    }
   ],
   "source": [
    "row"
   ]
  },
  {
   "cell_type": "code",
   "execution_count": null,
   "metadata": {
    "collapsed": true
   },
   "outputs": [],
   "source": []
  },
  {
   "cell_type": "markdown",
   "metadata": {},
   "source": [
    "### Load to array"
   ]
  },
  {
   "cell_type": "code",
   "execution_count": 18,
   "metadata": {},
   "outputs": [
    {
     "name": "stdout",
     "output_type": "stream",
     "text": [
      "\n",
      "Done\n",
      "CPU times: user 4.99 ms, sys: 0 ns, total: 4.99 ms\n",
      "Wall time: 3.61 ms\n"
     ]
    }
   ],
   "source": [
    "%%time\n",
    "tableArr = np.empty(shape=table.shape, dtype=table.dtype)\n",
    "table.read_direct(tableArr)\n",
    "\n",
    "for row in tableArr:\n",
    "    #sys.stdout.write(\"\\r%r\" % row)\n",
    "    #sys.stdout.flush()\n",
    "    pass\n",
    "print \"\\nDone\""
   ]
  },
  {
   "cell_type": "code",
   "execution_count": 20,
   "metadata": {},
   "outputs": [
    {
     "data": {
      "text/plain": [
       "dtype([('id', '<i8'), ('hh', '<i8'), ('age', '<i8'), ('sex', '<i8'), ('employed', '<i8'), ('edu', '<i8'), ('income', '<f8'), ('wp', '<i8')])"
      ]
     },
     "execution_count": 20,
     "metadata": {},
     "output_type": "execute_result"
    }
   ],
   "source": [
    "table.dtype"
   ]
  },
  {
   "cell_type": "code",
   "execution_count": 19,
   "metadata": {},
   "outputs": [
    {
     "data": {
      "text/plain": [
       "('id', 'hh', 'age', 'sex', 'employed', 'edu', 'income', 'wp')"
      ]
     },
     "execution_count": 19,
     "metadata": {},
     "output_type": "execute_result"
    }
   ],
   "source": [
    "table.dtype.names"
   ]
  },
  {
   "cell_type": "code",
   "execution_count": null,
   "metadata": {
    "collapsed": true
   },
   "outputs": [],
   "source": []
  },
  {
   "cell_type": "code",
   "execution_count": null,
   "metadata": {
    "collapsed": true
   },
   "outputs": [],
   "source": []
  },
  {
   "cell_type": "code",
   "execution_count": null,
   "metadata": {
    "collapsed": true
   },
   "outputs": [],
   "source": []
  },
  {
   "cell_type": "code",
   "execution_count": 21,
   "metadata": {
    "collapsed": true
   },
   "outputs": [],
   "source": [
    "S = 0\n",
    "I = 1\n",
    "A = 2\n",
    "R = 4\n",
    "V = 8"
   ]
  },
  {
   "cell_type": "code",
   "execution_count": 31,
   "metadata": {},
   "outputs": [
    {
     "data": {
      "text/plain": [
       "array([0, 1, 2, 3, 5, 7, 8])"
      ]
     },
     "execution_count": 31,
     "metadata": {},
     "output_type": "execute_result"
    }
   ],
   "source": [
    "np.unique(np.random.randint(10, size=10))"
   ]
  },
  {
   "cell_type": "code",
   "execution_count": 29,
   "metadata": {},
   "outputs": [
    {
     "data": {
      "text/plain": [
       "array([17, 29, 30, 36, 49, 69, 73, 74, 81, 85])"
      ]
     },
     "execution_count": 29,
     "metadata": {},
     "output_type": "execute_result"
    }
   ],
   "source": [
    "np.where(np.random.rand(100) < .1)[0]"
   ]
  },
  {
   "cell_type": "code",
   "execution_count": 44,
   "metadata": {},
   "outputs": [
    {
     "data": {
      "text/plain": [
       "array([4, 6])"
      ]
     },
     "execution_count": 44,
     "metadata": {},
     "output_type": "execute_result"
    }
   ],
   "source": [
    "np.random.choice(a, 2, replace=False)"
   ]
  },
  {
   "cell_type": "code",
   "execution_count": 41,
   "metadata": {},
   "outputs": [
    {
     "data": {
      "text/plain": [
       "array([2, 3, 6, 7])"
      ]
     },
     "execution_count": 41,
     "metadata": {},
     "output_type": "execute_result"
    }
   ],
   "source": [
    "a[np.random.rand(len(a)) < .3]"
   ]
  },
  {
   "cell_type": "code",
   "execution_count": 26,
   "metadata": {},
   "outputs": [
    {
     "data": {
      "text/plain": [
       "5"
      ]
     },
     "execution_count": 26,
     "metadata": {},
     "output_type": "execute_result"
    }
   ],
   "source": [
    "R | I"
   ]
  },
  {
   "cell_type": "code",
   "execution_count": 34,
   "metadata": {
    "collapsed": true
   },
   "outputs": [],
   "source": [
    "s = set([1,2,3,4,5,6,7])\n",
    "a = np.array(list(s))"
   ]
  },
  {
   "cell_type": "code",
   "execution_count": 35,
   "metadata": {},
   "outputs": [
    {
     "data": {
      "text/plain": [
       "array([1, 2, 3, 4, 5, 6, 7])"
      ]
     },
     "execution_count": 35,
     "metadata": {},
     "output_type": "execute_result"
    }
   ],
   "source": [
    "a"
   ]
  },
  {
   "cell_type": "code",
   "execution_count": null,
   "metadata": {
    "collapsed": true
   },
   "outputs": [],
   "source": []
  },
  {
   "cell_type": "code",
   "execution_count": null,
   "metadata": {
    "collapsed": true
   },
   "outputs": [],
   "source": []
  },
  {
   "cell_type": "code",
   "execution_count": null,
   "metadata": {
    "collapsed": true
   },
   "outputs": [],
   "source": []
  },
  {
   "cell_type": "code",
   "execution_count": null,
   "metadata": {
    "collapsed": true
   },
   "outputs": [],
   "source": []
  },
  {
   "cell_type": "code",
   "execution_count": 1,
   "metadata": {
    "collapsed": true
   },
   "outputs": [],
   "source": [
    "import numpy as np"
   ]
  },
  {
   "cell_type": "code",
   "execution_count": 2,
   "metadata": {
    "collapsed": true
   },
   "outputs": [],
   "source": [
    "typeNames =   [\"id\",  \"l0\",  \"l1\",  \"l2\",  \"l3\",  \"l4\",  \"size\", \"kind\", \"lon\", \"lat\"]\n",
    "typeFormats = [\"<i8\", \"<i8\", \"<i8\", \"<i8\", \"<i8\", \"<i8\", \"<i8\",  \"<i8\",  \"<f8\", \"<f8\"]\n",
    "\n",
    "householdType = np.dtype({\"names\": typeNames, \"formats\": typeFormats, }) "
   ]
  },
  {
   "cell_type": "code",
   "execution_count": 20,
   "metadata": {
    "collapsed": true
   },
   "outputs": [],
   "source": [
    "e = np.array([(1,1,1,1,1,1,1,1,1,1), (1,1,1,1,1,1,1,1,1,1), (1,1,1,1,1,1,1,1,1,1)], dtype=householdType)"
   ]
  },
  {
   "cell_type": "code",
   "execution_count": 21,
   "metadata": {},
   "outputs": [
    {
     "data": {
      "text/plain": [
       "array([(1, 1, 1, 1, 1, 1, 1, 1,  1.,  1.),\n",
       "       (1, 1, 1, 1, 1, 1, 1, 1,  1.,  1.),\n",
       "       (1, 1, 1, 1, 1, 1, 1, 1,  1.,  1.)],\n",
       "      dtype=[('id', '<i8'), ('l0', '<i8'), ('l1', '<i8'), ('l2', '<i8'), ('l3', '<i8'), ('l4', '<i8'), ('size', '<i8'), ('kind', '<i8'), ('lon', '<f8'), ('lat', '<f8')])"
      ]
     },
     "execution_count": 21,
     "metadata": {},
     "output_type": "execute_result"
    }
   ],
   "source": [
    "e"
   ]
  },
  {
   "cell_type": "code",
   "execution_count": 26,
   "metadata": {},
   "outputs": [
    {
     "data": {
      "text/plain": [
       "array([(1, 1, 1, 1, 1, 1, 1, 1,  1.,  1.),\n",
       "       (1, 1, 1, 1, 1, 1, 1, 1,  1.,  1.),\n",
       "       (1, 1, 1, 1, 1, 1, 1, 1,  1.,  1.)],\n",
       "      dtype=[('id', '<i8'), ('l0', '<i8'), ('l1', '<i8'), ('l2', '<i8'), ('l3', '<i8'), ('l4', '<i8'), ('size', '<i8'), ('kind', '<i8'), ('lon', '<f8'), ('lat', '<f8')])"
      ]
     },
     "execution_count": 26,
     "metadata": {},
     "output_type": "execute_result"
    }
   ],
   "source": [
    "e"
   ]
  },
  {
   "cell_type": "code",
   "execution_count": 27,
   "metadata": {
    "collapsed": true
   },
   "outputs": [],
   "source": [
    "import h5py"
   ]
  },
  {
   "cell_type": "code",
   "execution_count": 28,
   "metadata": {
    "collapsed": true
   },
   "outputs": [],
   "source": [
    "f = h5py.File(\"../data/synthPop_5levels_prova.h5\", )"
   ]
  },
  {
   "cell_type": "code",
   "execution_count": 32,
   "metadata": {
    "collapsed": true
   },
   "outputs": [],
   "source": [
    "at = f[\"types\"][\"agent\"]"
   ]
  },
  {
   "cell_type": "code",
   "execution_count": 43,
   "metadata": {},
   "outputs": [
    {
     "data": {
      "text/plain": [
       "<HDF5 named type \"agent\" (dtype |V64)>"
      ]
     },
     "execution_count": 43,
     "metadata": {},
     "output_type": "execute_result"
    }
   ],
   "source": [
    "at"
   ]
  },
  {
   "cell_type": "code",
   "execution_count": 44,
   "metadata": {},
   "outputs": [
    {
     "data": {
      "text/plain": [
       "('id', 'hh', 'age', 'sex', 'employed', 'edu', 'income', 'wp')"
      ]
     },
     "execution_count": 44,
     "metadata": {},
     "output_type": "execute_result"
    }
   ],
   "source": [
    "at.dtype.names"
   ]
  },
  {
   "cell_type": "code",
   "execution_count": 49,
   "metadata": {},
   "outputs": [
    {
     "data": {
      "text/plain": [
       "True"
      ]
     },
     "execution_count": 49,
     "metadata": {},
     "output_type": "execute_result"
    }
   ],
   "source": [
    "at.dtype[0] "
   ]
  },
  {
   "cell_type": "code",
   "execution_count": 39,
   "metadata": {},
   "outputs": [
    {
     "data": {
      "text/plain": [
       "2"
      ]
     },
     "execution_count": 39,
     "metadata": {},
     "output_type": "execute_result"
    }
   ],
   "source": [
    "at.dtype.names.index(\"age\")"
   ]
  },
  {
   "cell_type": "code",
   "execution_count": 40,
   "metadata": {
    "collapsed": true
   },
   "outputs": [],
   "source": [
    "ag = f[\"agent\"]"
   ]
  },
  {
   "cell_type": "code",
   "execution_count": 42,
   "metadata": {},
   "outputs": [
    {
     "data": {
      "text/plain": [
       "83"
      ]
     },
     "execution_count": 42,
     "metadata": {},
     "output_type": "execute_result"
    }
   ],
   "source": [
    "ag[0][at.dtype.names.index(\"age\")]"
   ]
  },
  {
   "cell_type": "code",
   "execution_count": 50,
   "metadata": {
    "collapsed": true
   },
   "outputs": [],
   "source": [
    "f.close()"
   ]
  },
  {
   "cell_type": "code",
   "execution_count": null,
   "metadata": {
    "collapsed": true
   },
   "outputs": [],
   "source": []
  }
 ],
 "metadata": {
  "kernelspec": {
   "display_name": "Python 2",
   "language": "python",
   "name": "python2"
  },
  "language_info": {
   "codemirror_mode": {
    "name": "ipython",
    "version": 2
   },
   "file_extension": ".py",
   "mimetype": "text/x-python",
   "name": "python",
   "nbconvert_exporter": "python",
   "pygments_lexer": "ipython2",
   "version": "2.7.14"
  },
  "toc": {
   "colors": {
    "hover_highlight": "#DAA520",
    "running_highlight": "#FF0000",
    "selected_highlight": "#FFD700"
   },
   "moveMenuLeft": true,
   "nav_menu": {
    "height": "66px",
    "width": "252px"
   },
   "navigate_menu": true,
   "number_sections": true,
   "sideBar": true,
   "threshold": 4,
   "toc_cell": false,
   "toc_position": {
    "height": "797px",
    "left": "0px",
    "right": "1468px",
    "top": "107px",
    "width": "212px"
   },
   "toc_section_display": "block",
   "toc_window_display": true,
   "widenNotebook": false
  }
 },
 "nbformat": 4,
 "nbformat_minor": 2
}
