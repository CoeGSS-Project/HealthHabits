{
 "cells": [
  {
   "cell_type": "code",
   "execution_count": 1,
   "metadata": {},
   "outputs": [
    {
     "name": "stdout",
     "output_type": "stream",
     "text": [
      "Populating the interactive namespace from numpy and matplotlib\n"
     ]
    }
   ],
   "source": [
    "%pylab inline"
   ]
  },
  {
   "cell_type": "code",
   "execution_count": 2,
   "metadata": {
    "collapsed": true
   },
   "outputs": [],
   "source": [
    "import pandas as pd\n",
    "import h5py"
   ]
  },
  {
   "cell_type": "markdown",
   "metadata": {},
   "source": [
    "## See how to deal with hdf5"
   ]
  },
  {
   "cell_type": "code",
   "execution_count": 3,
   "metadata": {
    "collapsed": true
   },
   "outputs": [],
   "source": [
    "handleCorsica = h5py.File(\"../data/household_corsica.h5\")"
   ]
  },
  {
   "cell_type": "code",
   "execution_count": 4,
   "metadata": {},
   "outputs": [],
   "source": [
    "dataCorsica = handleCorsica[\"data\"]"
   ]
  },
  {
   "cell_type": "code",
   "execution_count": 5,
   "metadata": {},
   "outputs": [],
   "source": [
    "dtypes = dataCorsica.dtype"
   ]
  },
  {
   "cell_type": "code",
   "execution_count": 113,
   "metadata": {},
   "outputs": [
    {
     "data": {
      "text/plain": [
       "dtype([('COUNTRY', '<i4'), ('YEAR', '<i4'), ('SAMPLE', '<i4'), ('SERIALNO', '<f4'), ('PERSONS', '<i4'), ('HHWT', '<f4'), ('FORMTYPE', 'S2'), ('REGIONW', '<i4'), ('puma_id', '<i4'), ('GEOLEV2', 'S2'), ('HHTYPE', '<i4'), ('PERNUM', '<i4'), ('PERWT', '<f4'), ('RELATE', '<i4'), ('RELATED', '<i4'), ('longitude', '<f4'), ('latitude', '<f4'), ('SYNTHETIC_SERIAL', '<i4'), ('place_id', 'S7')])"
      ]
     },
     "execution_count": 113,
     "metadata": {},
     "output_type": "execute_result"
    }
   ],
   "source": [
    "dtypes"
   ]
  },
  {
   "cell_type": "code",
   "execution_count": 6,
   "metadata": {},
   "outputs": [
    {
     "data": {
      "text/plain": [
       "5"
      ]
     },
     "execution_count": 6,
     "metadata": {},
     "output_type": "execute_result"
    }
   ],
   "source": [
    "dtypes.names.index(\"HHWT\")"
   ]
  },
  {
   "cell_type": "code",
   "execution_count": 7,
   "metadata": {},
   "outputs": [
    {
     "data": {
      "text/plain": [
       "array([ (250, 2011, 250201101,   9.44407654e+09, 2,  1.        , 'NA', 44, 250094, 'NA',  2, 1,  1.        , 1, 1000,  9.4095583 ,  43.03625107,  1, 'corsica'),\n",
       "       (250, 2011, 250201101,   9.36857907e+09, 1,  1.        , 'NA', 44, 250094, 'NA',  1, 1,  1.        , 1, 1000,  9.40855217,  43.03505325,  2, 'corsica'),\n",
       "       (250, 2011, 250201101,   9.34666138e+09, 1,  0.        , 'NA', 44, 250094, 'NA', 99, 1,  0.99000001, 5, 5610,  9.40778446,  43.03456497,  3, 'corsica'),\n",
       "       (250, 2011, 250201101,   9.45129574e+09, 2,  3.53999996, 'NA', 44, 250094, 'NA',  2, 1,  3.53999996, 1, 1000,  9.40808582,  43.03562927,  4, 'corsica'),\n",
       "       (250, 2011, 250201101,   9.36596480e+09, 1,  2.86999989, 'NA', 44, 250094, 'NA',  1, 1,  2.86999989, 1, 1000,  9.40940475,  43.03468323,  5, 'corsica'),\n",
       "       (250, 2011, 250201101,   9.36387174e+09, 1,  1.00999999, 'NA', 44, 250094, 'NA',  1, 1,  1.00999999, 1, 1000,  9.40805149,  43.03528214,  6, 'corsica'),\n",
       "       (250, 2011, 250201101,   9.38411315e+09, 2,  0.94      , 'NA', 44, 250094, 'NA',  6, 1,  0.94      , 4, 4900,  9.40622139,  43.03568649,  7, 'corsica'),\n",
       "       (250, 2011, 250201101,   9.42440038e+09, 4,  0.97000003, 'NA', 44, 250094, 'NA',  3, 1,  0.97000003, 1, 1000,  9.407547  ,  43.03588867,  8, 'corsica'),\n",
       "       (250, 2011, 250201101,   9.44412058e+09, 2,  1.        , 'NA', 44, 250094, 'NA',  2, 1,  1.        , 1, 1000,  9.40843964,  43.03653336,  9, 'corsica'),\n",
       "       (250, 2011, 250201101,   9.38684928e+09, 4,  1.01999998, 'NA', 44, 250094, 'NA',  6, 1,  1.01999998, 1, 1000,  9.406847  ,  43.03575134, 10, 'corsica'),\n",
       "       (250, 2011, 250201101,   9.36410010e+09, 1,  1.01999998, 'NA', 44, 250094, 'NA',  1, 1,  1.01999998, 1, 1000,  9.40801525,  43.03640366, 11, 'corsica')],\n",
       "      dtype=[('COUNTRY', '<i4'), ('YEAR', '<i4'), ('SAMPLE', '<i4'), ('SERIALNO', '<f4'), ('PERSONS', '<i4'), ('HHWT', '<f4'), ('FORMTYPE', 'S2'), ('REGIONW', '<i4'), ('puma_id', '<i4'), ('GEOLEV2', 'S2'), ('HHTYPE', '<i4'), ('PERNUM', '<i4'), ('PERWT', '<f4'), ('RELATE', '<i4'), ('RELATED', '<i4'), ('longitude', '<f4'), ('latitude', '<f4'), ('SYNTHETIC_SERIAL', '<i4'), ('place_id', 'S7')])"
      ]
     },
     "execution_count": 7,
     "metadata": {},
     "output_type": "execute_result"
    }
   ],
   "source": [
    "dataCorsica[:11]"
   ]
  },
  {
   "cell_type": "code",
   "execution_count": 8,
   "metadata": {},
   "outputs": [
    {
     "data": {
      "text/plain": [
       "1.02"
      ]
     },
     "execution_count": 8,
     "metadata": {},
     "output_type": "execute_result"
    }
   ],
   "source": [
    "dataCorsica[10][5]"
   ]
  },
  {
   "cell_type": "code",
   "execution_count": 9,
   "metadata": {
    "collapsed": true
   },
   "outputs": [],
   "source": [
    "handleCorsica.close()"
   ]
  },
  {
   "cell_type": "markdown",
   "metadata": {},
   "source": [
    "## Create fake population\n",
    "\n",
    "With:\n",
    "\n",
    "- hierarchy:\n",
    "    - 5 levels:\n",
    "    - 3 levels are administrative: 10000 people per level 0, 2500 per level 1, 625 per level 2\n",
    "    - last two levels are the community and household: ~180 per level 3 and then level 4 are clusters of ~25 households;\n",
    "\n",
    "- households:\n",
    "    - 1/size probability in size;\n",
    "    - 2 person households are 70% adult couples and 30% single parent with children < 18;\n",
    "    - discard by now single parent with multiple children;\n",
    "    - Adults age flat 18 < age < 100;\n",
    "    - children flat 0, 18;\n",
    "    - 50/50 sex;\n",
    "    - progressive id of household and agents;\n",
    "    - adults 80% with workplace 20% unemplyed;\n",
    "    - children 100% to school;\n",
    "    - adults education: 20% = 0 (elementary); 50% = 1 (secondary); 30% = 2 (university);\n",
    "    - adults income: normal distribution avg 1000 std 200;\n",
    "    \n",
    "- workplaces/schools:\n",
    "    - size sampled from normal avg 60 std 10;\n",
    "    - create as many as necessary and assign them to 3-rd level;\n",
    "    - children goes to infantry (0 <= age < 6, code 0), elementary (6 <= age < 11, code 1) or secondary  (11 <= age < 19, code 2) schools;\n"
   ]
  },
  {
   "cell_type": "code",
   "execution_count": 89,
   "metadata": {
    "collapsed": true
   },
   "outputs": [],
   "source": [
    "level0codes = range(8)\n",
    "level1codes = range(4)\n",
    "level2codes = range(4)\n",
    "administrativeCodes = [(level0, level1, level2) for level0 in level0codes\\\n",
    "                                                   for level1 in level1codes\\\n",
    "                                                       for level2 in level2codes]\n",
    "\n",
    "sizeLevel0 = 10000\n",
    "sizeLevel1 = 2500\n",
    "sizeLevel2 = 625\n",
    "sizeLevel3 = 180\n",
    "sizeLevel4 = 45"
   ]
  },
  {
   "cell_type": "code",
   "execution_count": 115,
   "metadata": {
    "collapsed": true
   },
   "outputs": [],
   "source": [
    "hhsizeCDF = np.cumsum(1./np.arange(1, 8)) # 1/size with 1 < size < 8\n",
    "hhsizeCDF /= hhsizeCDF[-1]\n",
    "\n",
    "hhsize = lambda: np.argmax(np.random.rand() < hhsizeCDF) + 1\n",
    "\n",
    "prob2sizedHouseholdCouple = .7\n",
    "\n",
    "ageAdult = lambda: np.random.randint(18, 101)\n",
    "ageChild = lambda: np.random.randint(0, 18)\n",
    "sexAgent = lambda: np.random.randint(2)\n",
    "\n",
    "adultEmployed = lambda: int(np.random.rand() < .8)\n",
    "childGoSchool = lambda: 1\n",
    "\n",
    "adultEducation = lambda: np.argmax(np.random.rand() < np.array([.2, .7, 1.]))\n",
    "adultIncome = lambda: max(400., np.random.normal(1000, 200))\n",
    "\n",
    "schoolSize    = lambda kind: max(15, int(np.ceil(np.random.normal(50, 10))))\n",
    "workplaceSize = lambda kind: max(2, int(np.ceil(np.random.normal(40, 10))))"
   ]
  },
  {
   "cell_type": "code",
   "execution_count": 116,
   "metadata": {},
   "outputs": [],
   "source": [
    "# We also approximate the codes to be squares in a plane\n",
    "# lon = x = number col; lat = y = number row;\n",
    "\n",
    "nCols = 4 # number of level 0 codes per row\n",
    "codesPerSquare = 2\n",
    "stepLon0, stepLon1, stepLon2 = 2., 1., .5\n",
    "stepLat0, stepLat1, stepLat2 = 2., 1., .5\n",
    "\n",
    "codes2lat = lambda (l0, l1, l2): (l0 // nCols) * stepLat0 +\\\n",
    "                                    (l1 // codesPerSquare) * stepLat1 +\\\n",
    "                                        (l2 // codesPerSquare) * stepLat2 + np.random.rand()*stepLat2\n",
    "\n",
    "codes2lon = lambda (l0, l1, l2): (l0 % nCols) * stepLon0 +\\\n",
    "                                    (l1 % codesPerSquare) * stepLon1 +\\\n",
    "                                        (l2 % codesPerSquare) * stepLon2 + np.random.rand()*stepLon2\n",
    "        \n",
    "codes2coord = lambda c: (codes2lon(c), codes2lat(c))"
   ]
  },
  {
   "cell_type": "code",
   "execution_count": 117,
   "metadata": {},
   "outputs": [
    {
     "data": {
      "image/png": "[encoded data removed]",
      "text/plain": [
       "<matplotlib.figure.Figure at 0x7f4b62c34b50>"
      ]
     },
     "metadata": {},
     "output_type": "display_data"
    }
   ],
   "source": [
    "for code in administrativeCodes:\n",
    "    npoints = 100\n",
    "    coords = np.array([codes2coord(code) for i in range(npoints)]).reshape(npoints, 2)\n",
    "    plt.plot(coords[:,0], coords[:,1], \".\")"
   ]
  },
  {
   "cell_type": "code",
   "execution_count": null,
   "metadata": {},
   "outputs": [],
   "source": []
  },
  {
   "cell_type": "code",
   "execution_count": 118,
   "metadata": {},
   "outputs": [
    {
     "name": "stdout",
     "output_type": "stream",
     "text": [
      "CPU times: user 1.46 s, sys: 0 ns, total: 1.46 s\n",
      "Wall time: 1.46 s\n"
     ]
    }
   ],
   "source": [
    "%%time\n",
    "\n",
    "agentsTable = []\n",
    "householdsTable = []\n",
    "workplacesTable = []\n",
    "\n",
    "counterPeople = {}\n",
    "\n",
    "householdID = 0\n",
    "agentID = 0\n",
    "workplaceID = 0\n",
    "\n",
    "for l0 in level0codes:\n",
    "    for l1 in level1codes:\n",
    "        for l2 in level2codes:\n",
    "            tmp_adminCode = (l0, l1, l2)\n",
    "            counterPeople[tmp_adminCode] =  {\"children\": 0, \"adults\": 0, \"working\": 0,\\\n",
    "                                      \"kindergarden\": 0, \"elementary\": 0, \"secondary\": 0,}\n",
    "            tmp_agentsTable = []\n",
    "            \n",
    "            size2 = 0\n",
    "            l3 = -1\n",
    "            while size2 < sizeLevel2:\n",
    "                l3 += 1\n",
    "                size3 = 0\n",
    "                \n",
    "                l4 = -1\n",
    "                while size3 < sizeLevel3:\n",
    "                    l4 += 1\n",
    "                    size4 = 0\n",
    "                    while size4 < sizeLevel4:\n",
    "                        tmp_hhsize = hhsize()\n",
    "                        \n",
    "                        tmp_house_kind = []\n",
    "                        tmp_house_kind.append(1) # 1 adult for sure\n",
    "                        \n",
    "                        if tmp_hhsize >= 2:\n",
    "                            if tmp_hhsize == 2:\n",
    "                                if np.random.rand() < prob2sizedHouseholdCouple:\n",
    "                                    tmp_house_kind.append(1)\n",
    "                                else:\n",
    "                                    # Lone parent\n",
    "                                    tmp_house_kind.append(0)\n",
    "                            else:\n",
    "                                tmp_house_kind.append(1)\n",
    "                                tmp_house_kind.extend([0]*(tmp_hhsize-2))\n",
    "                            \n",
    "                        tmp_household = []\n",
    "                        for componentKind in tmp_house_kind:\n",
    "                            if componentKind:\n",
    "                                # Adult\n",
    "                                tmp_age, tmp_sex = ageAdult(), sexAgent()\n",
    "                                tmp_employ, tmp_edu = adultEmployed(), adultEducation()\n",
    "                                tmp_income = 0 if not tmp_employ else adultIncome()\n",
    "                                if tmp_age > 67: tmp_employ = 0 # Retirement\n",
    "                                \n",
    "                                counterPeople[tmp_adminCode][\"adults\"] += 1\n",
    "                                if tmp_employ:\n",
    "                                    counterPeople[tmp_adminCode][\"working\"] += 1\n",
    "                            else:\n",
    "                                # Child\n",
    "                                tmp_age, tmp_sex = ageChild(), sexAgent()\n",
    "                                tmp_edu, tmp_income = 0, 0\n",
    "                                \n",
    "                                counterPeople[tmp_adminCode][\"children\"] += 1\n",
    "                                if 0<= tmp_age < 6:\n",
    "                                    counterPeople[tmp_adminCode][\"kindergarden\"] += 1\n",
    "                                    tmp_employ = 5\n",
    "                                elif 6<= tmp_age < 11:\n",
    "                                    counterPeople[tmp_adminCode][\"elementary\"] += 1\n",
    "                                    tmp_employ = 6\n",
    "                                elif 11<= tmp_age < 19:\n",
    "                                    counterPeople[tmp_adminCode][\"secondary\"] += 1\n",
    "                                    tmp_employ = 7\n",
    "                                    tmp_edu = 1\n",
    "                            tmp_agent = [agentID, householdID, tmp_age, tmp_sex, tmp_employ, tmp_edu, tmp_income]\n",
    "                            tmp_agentsTable.append(tmp_agent)\n",
    "                            agentID += 1\n",
    "                            \n",
    "                            tmp_household.append(tmp_agent)\n",
    "                            \n",
    "                        tmp_lon, tmp_lat = codes2coord(tmp_adminCode)\n",
    "                        \n",
    "                        householdsTable.append((householdID, tmp_adminCode, l3, l4, tmp_hhsize, tmp_lon, tmp_lat))\n",
    "                        householdID += 1\n",
    "                        \n",
    "                        size4 += tmp_hhsize\n",
    "                        size3 += tmp_hhsize\n",
    "                        size2 += tmp_hhsize\n",
    "                        size1 += tmp_hhsize\n",
    "                        size0 += tmp_hhsize   \n",
    "                          \n",
    "            # Here we have to create the schools and workplaces...\n",
    "            # create schools workplaces and then assign the people to them...\n",
    "            def create_workplace(kind):\n",
    "                global workplaceID\n",
    "                global tmp_adminCode\n",
    "                \n",
    "                if kind < 5:\n",
    "                    tmp_size = workplaceSize(kind)\n",
    "                else:\n",
    "                    tmp_size = schoolSize(kind)\n",
    "                tmp_id = workplaceID\n",
    "                tmp_lon, tmp_lat = codes2coord(tmp_adminCode)\n",
    "                out = [tmp_id, tmp_adminCode, tmp_size, kind, tmp_lon, tmp_lat]\n",
    "                workplacesTable.append(out)\n",
    "                workplaceID += 1\n",
    "                \n",
    "                return [tmp_id, tmp_size]\n",
    "            \n",
    "            tmp_kindergarden = None\n",
    "            if counterPeople[tmp_adminCode][\"kindergarden\"] > 0: tmp_kindergarden = create_workplace(kind=5)\n",
    "            \n",
    "            tmp_elementary = None\n",
    "            if counterPeople[tmp_adminCode][\"elementary\"] > 0: tmp_elementary = create_workplace(kind=6)\n",
    "                \n",
    "            tmp_secondary = None\n",
    "            if counterPeople[tmp_adminCode][\"secondary\"] > 0: tmp_secondary = create_workplace(kind=7)\n",
    "\n",
    "            tmp_workplace = None\n",
    "            if counterPeople[tmp_adminCode][\"working\"] > 0: tmp_workplace = create_workplace(kind=1)\n",
    "                \n",
    "            for tmp_agent in tmp_agentsTable:\n",
    "                tmp_employ = tmp_agent[4]\n",
    "                if tmp_employ == 0:\n",
    "                    # Unemplyed, negative workplace\n",
    "                    tmp_agent.append(-1)\n",
    "                elif tmp_employ == 1:\n",
    "                    # Employed, put in current workplace and check if a new one is needed.\n",
    "                    tmp_agent.append(tmp_workplace[0])\n",
    "                    tmp_workplace[1] -= 1\n",
    "                    if tmp_workplace[1] == 0: tmp_workplace = create_workplace(kind=tmp_employ)\n",
    "                elif tmp_employ == 5:\n",
    "                    # Kinderg, put in current workplace and check if a new one is needed.\n",
    "                    tmp_agent.append(tmp_kindergarden[0])\n",
    "                    tmp_kindergarden[1] -= 1\n",
    "                    if tmp_kindergarden[1] == 0: tmp_kindergarden = create_workplace(kind=tmp_employ)\n",
    "                elif tmp_employ == 6:\n",
    "                    # elementary, put in current workplace and check if a new one is needed.\n",
    "                    tmp_agent.append(tmp_elementary[0])\n",
    "                    tmp_elementary[1] -= 1\n",
    "                    if tmp_elementary[1] == 0: tmp_elementary = create_workplace(kind=tmp_employ)\n",
    "                elif tmp_employ == 7:\n",
    "                    # Secondary, put in current workplace and check if a new one is needed.\n",
    "                    tmp_agent.append(tmp_secondary[0])\n",
    "                    tmp_secondary[1] -= 1\n",
    "                    if tmp_secondary[1] == 0: tmp_secondary = create_workplace(kind=tmp_employ)\n",
    "                else:\n",
    "                    raise RuntimeError(\"Unknown case in emplyment: %d\" % tmp_employ)\n",
    "            agentsTable.extend(tmp_agentsTable)"
   ]
  },
  {
   "cell_type": "code",
   "execution_count": 119,
   "metadata": {},
   "outputs": [
    {
     "data": {
      "text/plain": [
       "(95323, 35193, 1727)"
      ]
     },
     "execution_count": 119,
     "metadata": {},
     "output_type": "execute_result"
    }
   ],
   "source": [
    "len(agentsTable), len(householdsTable), len(workplacesTable)"
   ]
  },
  {
   "cell_type": "code",
   "execution_count": 120,
   "metadata": {},
   "outputs": [
    {
     "data": {
      "text/html": [
       "<div>\n",
       "<style>\n",
       "    .dataframe thead tr:only-child th {\n",
       "        text-align: right;\n",
       "    }\n",
       "\n",
       "    .dataframe thead th {\n",
       "        text-align: left;\n",
       "    }\n",
       "\n",
       "    .dataframe tbody tr th {\n",
       "        vertical-align: top;\n",
       "    }\n",
       "</style>\n",
       "<table border=\"1\" class=\"dataframe\">\n",
       "  <thead>\n",
       "    <tr style=\"text-align: right;\">\n",
       "      <th></th>\n",
       "      <th>id</th>\n",
       "      <th>hh</th>\n",
       "      <th>age</th>\n",
       "      <th>sex</th>\n",
       "      <th>empl</th>\n",
       "      <th>edu</th>\n",
       "      <th>income</th>\n",
       "      <th>wp</th>\n",
       "    </tr>\n",
       "  </thead>\n",
       "  <tbody>\n",
       "    <tr>\n",
       "      <th>0</th>\n",
       "      <td>0</td>\n",
       "      <td>0</td>\n",
       "      <td>26</td>\n",
       "      <td>0</td>\n",
       "      <td>1</td>\n",
       "      <td>0</td>\n",
       "      <td>976.125994</td>\n",
       "      <td>3</td>\n",
       "    </tr>\n",
       "    <tr>\n",
       "      <th>1</th>\n",
       "      <td>1</td>\n",
       "      <td>1</td>\n",
       "      <td>90</td>\n",
       "      <td>1</td>\n",
       "      <td>0</td>\n",
       "      <td>2</td>\n",
       "      <td>1030.694709</td>\n",
       "      <td>-1</td>\n",
       "    </tr>\n",
       "    <tr>\n",
       "      <th>2</th>\n",
       "      <td>2</td>\n",
       "      <td>1</td>\n",
       "      <td>60</td>\n",
       "      <td>1</td>\n",
       "      <td>1</td>\n",
       "      <td>0</td>\n",
       "      <td>982.752596</td>\n",
       "      <td>3</td>\n",
       "    </tr>\n",
       "    <tr>\n",
       "      <th>3</th>\n",
       "      <td>3</td>\n",
       "      <td>1</td>\n",
       "      <td>9</td>\n",
       "      <td>1</td>\n",
       "      <td>6</td>\n",
       "      <td>0</td>\n",
       "      <td>0.000000</td>\n",
       "      <td>1</td>\n",
       "    </tr>\n",
       "    <tr>\n",
       "      <th>4</th>\n",
       "      <td>4</td>\n",
       "      <td>2</td>\n",
       "      <td>72</td>\n",
       "      <td>0</td>\n",
       "      <td>0</td>\n",
       "      <td>0</td>\n",
       "      <td>887.936635</td>\n",
       "      <td>-1</td>\n",
       "    </tr>\n",
       "    <tr>\n",
       "      <th>5</th>\n",
       "      <td>5</td>\n",
       "      <td>3</td>\n",
       "      <td>66</td>\n",
       "      <td>1</td>\n",
       "      <td>0</td>\n",
       "      <td>2</td>\n",
       "      <td>0.000000</td>\n",
       "      <td>-1</td>\n",
       "    </tr>\n",
       "    <tr>\n",
       "      <th>6</th>\n",
       "      <td>6</td>\n",
       "      <td>4</td>\n",
       "      <td>38</td>\n",
       "      <td>1</td>\n",
       "      <td>1</td>\n",
       "      <td>1</td>\n",
       "      <td>793.592692</td>\n",
       "      <td>3</td>\n",
       "    </tr>\n",
       "    <tr>\n",
       "      <th>7</th>\n",
       "      <td>7</td>\n",
       "      <td>4</td>\n",
       "      <td>47</td>\n",
       "      <td>1</td>\n",
       "      <td>0</td>\n",
       "      <td>1</td>\n",
       "      <td>0.000000</td>\n",
       "      <td>-1</td>\n",
       "    </tr>\n",
       "    <tr>\n",
       "      <th>8</th>\n",
       "      <td>8</td>\n",
       "      <td>5</td>\n",
       "      <td>31</td>\n",
       "      <td>0</td>\n",
       "      <td>1</td>\n",
       "      <td>2</td>\n",
       "      <td>1143.432209</td>\n",
       "      <td>3</td>\n",
       "    </tr>\n",
       "    <tr>\n",
       "      <th>9</th>\n",
       "      <td>9</td>\n",
       "      <td>6</td>\n",
       "      <td>94</td>\n",
       "      <td>0</td>\n",
       "      <td>0</td>\n",
       "      <td>2</td>\n",
       "      <td>834.353565</td>\n",
       "      <td>-1</td>\n",
       "    </tr>\n",
       "  </tbody>\n",
       "</table>\n",
       "</div>"
      ],
      "text/plain": [
       "   id  hh  age  sex  empl  edu       income  wp\n",
       "0   0   0   26    0     1    0   976.125994   3\n",
       "1   1   1   90    1     0    2  1030.694709  -1\n",
       "2   2   1   60    1     1    0   982.752596   3\n",
       "3   3   1    9    1     6    0     0.000000   1\n",
       "4   4   2   72    0     0    0   887.936635  -1\n",
       "5   5   3   66    1     0    2     0.000000  -1\n",
       "6   6   4   38    1     1    1   793.592692   3\n",
       "7   7   4   47    1     0    1     0.000000  -1\n",
       "8   8   5   31    0     1    2  1143.432209   3\n",
       "9   9   6   94    0     0    2   834.353565  -1"
      ]
     },
     "execution_count": 120,
     "metadata": {},
     "output_type": "execute_result"
    }
   ],
   "source": [
    "agentsDF = pd.DataFrame(agentsTable, columns=[\"id\", \"hh\", \"age\", \"sex\", \"empl\", \"edu\", \"income\", \"wp\"])\n",
    "#agentsDF.set_index(\"id\", drop=True, inplace=True)\n",
    "agentsDF.head(10)"
   ]
  },
  {
   "cell_type": "code",
   "execution_count": 121,
   "metadata": {},
   "outputs": [
    {
     "data": {
      "text/html": [
       "<div>\n",
       "<style>\n",
       "    .dataframe thead tr:only-child th {\n",
       "        text-align: right;\n",
       "    }\n",
       "\n",
       "    .dataframe thead th {\n",
       "        text-align: left;\n",
       "    }\n",
       "\n",
       "    .dataframe tbody tr th {\n",
       "        vertical-align: top;\n",
       "    }\n",
       "</style>\n",
       "<table border=\"1\" class=\"dataframe\">\n",
       "  <thead>\n",
       "    <tr style=\"text-align: right;\">\n",
       "      <th></th>\n",
       "      <th>id</th>\n",
       "      <th>NUTS3</th>\n",
       "      <th>l3</th>\n",
       "      <th>l4</th>\n",
       "      <th>size</th>\n",
       "      <th>lon</th>\n",
       "      <th>lat</th>\n",
       "    </tr>\n",
       "  </thead>\n",
       "  <tbody>\n",
       "    <tr>\n",
       "      <th>0</th>\n",
       "      <td>0</td>\n",
       "      <td>(0, 0, 0)</td>\n",
       "      <td>0</td>\n",
       "      <td>0</td>\n",
       "      <td>1</td>\n",
       "      <td>0.123515</td>\n",
       "      <td>0.161496</td>\n",
       "    </tr>\n",
       "    <tr>\n",
       "      <th>1</th>\n",
       "      <td>1</td>\n",
       "      <td>(0, 0, 0)</td>\n",
       "      <td>0</td>\n",
       "      <td>0</td>\n",
       "      <td>3</td>\n",
       "      <td>0.316419</td>\n",
       "      <td>0.243473</td>\n",
       "    </tr>\n",
       "    <tr>\n",
       "      <th>2</th>\n",
       "      <td>2</td>\n",
       "      <td>(0, 0, 0)</td>\n",
       "      <td>0</td>\n",
       "      <td>0</td>\n",
       "      <td>1</td>\n",
       "      <td>0.051477</td>\n",
       "      <td>0.494630</td>\n",
       "    </tr>\n",
       "    <tr>\n",
       "      <th>3</th>\n",
       "      <td>3</td>\n",
       "      <td>(0, 0, 0)</td>\n",
       "      <td>0</td>\n",
       "      <td>0</td>\n",
       "      <td>1</td>\n",
       "      <td>0.021236</td>\n",
       "      <td>0.167342</td>\n",
       "    </tr>\n",
       "    <tr>\n",
       "      <th>4</th>\n",
       "      <td>4</td>\n",
       "      <td>(0, 0, 0)</td>\n",
       "      <td>0</td>\n",
       "      <td>0</td>\n",
       "      <td>2</td>\n",
       "      <td>0.424202</td>\n",
       "      <td>0.409197</td>\n",
       "    </tr>\n",
       "  </tbody>\n",
       "</table>\n",
       "</div>"
      ],
      "text/plain": [
       "   id      NUTS3  l3  l4  size       lon       lat\n",
       "0   0  (0, 0, 0)   0   0     1  0.123515  0.161496\n",
       "1   1  (0, 0, 0)   0   0     3  0.316419  0.243473\n",
       "2   2  (0, 0, 0)   0   0     1  0.051477  0.494630\n",
       "3   3  (0, 0, 0)   0   0     1  0.021236  0.167342\n",
       "4   4  (0, 0, 0)   0   0     2  0.424202  0.409197"
      ]
     },
     "execution_count": 121,
     "metadata": {},
     "output_type": "execute_result"
    }
   ],
   "source": [
    "householdsDF = pd.DataFrame(householdsTable, columns=[\"id\", \"NUTS3\", \"l3\", \"l4\", \"size\", \"lon\", \"lat\"])\n",
    "#householdsDF.set_index(\"id\", drop=True, inplace=True)\n",
    "householdsDF.head()"
   ]
  },
  {
   "cell_type": "code",
   "execution_count": 122,
   "metadata": {},
   "outputs": [
    {
     "data": {
      "text/html": [
       "<div>\n",
       "<style>\n",
       "    .dataframe thead tr:only-child th {\n",
       "        text-align: right;\n",
       "    }\n",
       "\n",
       "    .dataframe thead th {\n",
       "        text-align: left;\n",
       "    }\n",
       "\n",
       "    .dataframe tbody tr th {\n",
       "        vertical-align: top;\n",
       "    }\n",
       "</style>\n",
       "<table border=\"1\" class=\"dataframe\">\n",
       "  <thead>\n",
       "    <tr style=\"text-align: right;\">\n",
       "      <th></th>\n",
       "      <th>id</th>\n",
       "      <th>NUTS3</th>\n",
       "      <th>size</th>\n",
       "      <th>kind</th>\n",
       "      <th>lon</th>\n",
       "      <th>lat</th>\n",
       "    </tr>\n",
       "  </thead>\n",
       "  <tbody>\n",
       "    <tr>\n",
       "      <th>0</th>\n",
       "      <td>0</td>\n",
       "      <td>(0, 0, 0)</td>\n",
       "      <td>62</td>\n",
       "      <td>5</td>\n",
       "      <td>0.213368</td>\n",
       "      <td>0.162604</td>\n",
       "    </tr>\n",
       "    <tr>\n",
       "      <th>1</th>\n",
       "      <td>1</td>\n",
       "      <td>(0, 0, 0)</td>\n",
       "      <td>41</td>\n",
       "      <td>6</td>\n",
       "      <td>0.190965</td>\n",
       "      <td>0.066169</td>\n",
       "    </tr>\n",
       "    <tr>\n",
       "      <th>2</th>\n",
       "      <td>2</td>\n",
       "      <td>(0, 0, 0)</td>\n",
       "      <td>55</td>\n",
       "      <td>7</td>\n",
       "      <td>0.395761</td>\n",
       "      <td>0.061446</td>\n",
       "    </tr>\n",
       "    <tr>\n",
       "      <th>3</th>\n",
       "      <td>3</td>\n",
       "      <td>(0, 0, 0)</td>\n",
       "      <td>32</td>\n",
       "      <td>1</td>\n",
       "      <td>0.180112</td>\n",
       "      <td>0.162311</td>\n",
       "    </tr>\n",
       "    <tr>\n",
       "      <th>4</th>\n",
       "      <td>4</td>\n",
       "      <td>(0, 0, 0)</td>\n",
       "      <td>37</td>\n",
       "      <td>1</td>\n",
       "      <td>0.159302</td>\n",
       "      <td>0.076497</td>\n",
       "    </tr>\n",
       "  </tbody>\n",
       "</table>\n",
       "</div>"
      ],
      "text/plain": [
       "   id      NUTS3  size  kind       lon       lat\n",
       "0   0  (0, 0, 0)    62     5  0.213368  0.162604\n",
       "1   1  (0, 0, 0)    41     6  0.190965  0.066169\n",
       "2   2  (0, 0, 0)    55     7  0.395761  0.061446\n",
       "3   3  (0, 0, 0)    32     1  0.180112  0.162311\n",
       "4   4  (0, 0, 0)    37     1  0.159302  0.076497"
      ]
     },
     "execution_count": 122,
     "metadata": {},
     "output_type": "execute_result"
    }
   ],
   "source": [
    "workplacesDF = pd.DataFrame(workplacesTable, columns=[\"id\", \"NUTS3\", \"size\", \"kind\", \"lon\", \"lat\"])\n",
    "#workplacesDF.set_index(\"id\", drop=True, inplace=True)\n",
    "workplacesDF.head()"
   ]
  },
  {
   "cell_type": "code",
   "execution_count": 123,
   "metadata": {},
   "outputs": [
    {
     "name": "stdout",
     "output_type": "stream",
     "text": [
      "{'kindergarden': 105, 'adults': 432, 'working': 209, 'elementary': 88, 'children': 310, 'secondary': 117} 742\n"
     ]
    }
   ],
   "source": [
    "print counterPeople[(0,0,0)], counterPeople[(0,0,0)][\"adults\"] + counterPeople[(0,0,0)][\"children\"]"
   ]
  },
  {
   "cell_type": "code",
   "execution_count": null,
   "metadata": {
    "collapsed": true
   },
   "outputs": [],
   "source": []
  },
  {
   "cell_type": "markdown",
   "metadata": {},
   "source": [
    "## Saving to hdf5 file"
   ]
  },
  {
   "cell_type": "code",
   "execution_count": 125,
   "metadata": {},
   "outputs": [
    {
     "data": {
      "text/html": [
       "<div>\n",
       "<style>\n",
       "    .dataframe thead tr:only-child th {\n",
       "        text-align: right;\n",
       "    }\n",
       "\n",
       "    .dataframe thead th {\n",
       "        text-align: left;\n",
       "    }\n",
       "\n",
       "    .dataframe tbody tr th {\n",
       "        vertical-align: top;\n",
       "    }\n",
       "</style>\n",
       "<table border=\"1\" class=\"dataframe\">\n",
       "  <thead>\n",
       "    <tr style=\"text-align: right;\">\n",
       "      <th></th>\n",
       "      <th>id</th>\n",
       "      <th>hh</th>\n",
       "      <th>age</th>\n",
       "      <th>sex</th>\n",
       "      <th>empl</th>\n",
       "      <th>edu</th>\n",
       "      <th>income</th>\n",
       "      <th>wp</th>\n",
       "    </tr>\n",
       "  </thead>\n",
       "  <tbody>\n",
       "    <tr>\n",
       "      <th>0</th>\n",
       "      <td>0</td>\n",
       "      <td>0</td>\n",
       "      <td>26</td>\n",
       "      <td>0</td>\n",
       "      <td>1</td>\n",
       "      <td>0</td>\n",
       "      <td>976.125994</td>\n",
       "      <td>3</td>\n",
       "    </tr>\n",
       "    <tr>\n",
       "      <th>1</th>\n",
       "      <td>1</td>\n",
       "      <td>1</td>\n",
       "      <td>90</td>\n",
       "      <td>1</td>\n",
       "      <td>0</td>\n",
       "      <td>2</td>\n",
       "      <td>1030.694709</td>\n",
       "      <td>-1</td>\n",
       "    </tr>\n",
       "    <tr>\n",
       "      <th>2</th>\n",
       "      <td>2</td>\n",
       "      <td>1</td>\n",
       "      <td>60</td>\n",
       "      <td>1</td>\n",
       "      <td>1</td>\n",
       "      <td>0</td>\n",
       "      <td>982.752596</td>\n",
       "      <td>3</td>\n",
       "    </tr>\n",
       "    <tr>\n",
       "      <th>3</th>\n",
       "      <td>3</td>\n",
       "      <td>1</td>\n",
       "      <td>9</td>\n",
       "      <td>1</td>\n",
       "      <td>6</td>\n",
       "      <td>0</td>\n",
       "      <td>0.000000</td>\n",
       "      <td>1</td>\n",
       "    </tr>\n",
       "    <tr>\n",
       "      <th>4</th>\n",
       "      <td>4</td>\n",
       "      <td>2</td>\n",
       "      <td>72</td>\n",
       "      <td>0</td>\n",
       "      <td>0</td>\n",
       "      <td>0</td>\n",
       "      <td>887.936635</td>\n",
       "      <td>-1</td>\n",
       "    </tr>\n",
       "  </tbody>\n",
       "</table>\n",
       "</div>"
      ],
      "text/plain": [
       "   id  hh  age  sex  empl  edu       income  wp\n",
       "0   0   0   26    0     1    0   976.125994   3\n",
       "1   1   1   90    1     0    2  1030.694709  -1\n",
       "2   2   1   60    1     1    0   982.752596   3\n",
       "3   3   1    9    1     6    0     0.000000   1\n",
       "4   4   2   72    0     0    0   887.936635  -1"
      ]
     },
     "execution_count": 125,
     "metadata": {},
     "output_type": "execute_result"
    }
   ],
   "source": [
    "agentsDF.head()"
   ]
  },
  {
   "cell_type": "code",
   "execution_count": 138,
   "metadata": {},
   "outputs": [
    {
     "data": {
      "text/plain": [
       "<HDF5 dataset \"agents\": shape (95323, 8), type \"|V64\">"
      ]
     },
     "execution_count": 138,
     "metadata": {},
     "output_type": "execute_result"
    }
   ],
   "source": [
    "fout = h5py.File(\"../data/synthPop_5levels.h5\")\n",
    "fout.clear()\n",
    "typeNames = [\"id\", \"hh\", \"age\", \"sex\", \"employed\", \"edu\", \"income\", \"wp\"]\n",
    "typeFormats = [\">i8\", \"<i8\", \"<i8\", \"<i8\", \"<i8\", \"<i8\", \"<f8\", \"<i8\"]\n",
    "itemsize = len(typeFormats)*8\n",
    "typeOffset = range(0, itemsize, 8)\n",
    "\n",
    "\n",
    "dtypes = np.dtype({\"names\": typeNames, \"formats\": typeFormats, \"offsets\": typeOffset, \"itemsize\": itemsize}) \n",
    "\n",
    "convertedData = agentsDF.as_matrix(columns=agentsDF.columns).astype(dtypes)\n",
    "\n",
    "fout.create_dataset(name=\"agents\", dtype=dtypes, data=convertedData)"
   ]
  },
  {
   "cell_type": "code",
   "execution_count": 141,
   "metadata": {},
   "outputs": [
    {
     "data": {
      "text/plain": [
       "array([(  0,   0,   0,   0,   0,   0,    0.        ,   0),\n",
       "       (  0,   0,   0,   0,   0,   0,    0.        ,   0),\n",
       "       ( 26,  26,  26,  26,  26,  26,   26.        ,  26),\n",
       "       (  0,   0,   0,   0,   0,   0,    0.        ,   0),\n",
       "       (  1,   1,   1,   1,   1,   1,    1.        ,   1),\n",
       "       (  0,   0,   0,   0,   0,   0,    0.        ,   0),\n",
       "       (976, 976, 976, 976, 976, 976,  976.12599399, 976),\n",
       "       (  3,   3,   3,   3,   3,   3,    3.        ,   3)],\n",
       "      dtype=[('id', '>i8'), ('hh', '<i8'), ('age', '<i8'), ('sex', '<i8'), ('employed', '<i8'), ('edu', '<i8'), ('income', '<f8'), ('wp', '<i8')])"
      ]
     },
     "execution_count": 141,
     "metadata": {},
     "output_type": "execute_result"
    }
   ],
   "source": [
    "fout[\"agents\"][0,:]"
   ]
  },
  {
   "cell_type": "code",
   "execution_count": 132,
   "metadata": {
    "collapsed": true
   },
   "outputs": [],
   "source": [
    "fout.clear()"
   ]
  },
  {
   "cell_type": "code",
   "execution_count": null,
   "metadata": {
    "collapsed": true
   },
   "outputs": [],
   "source": []
  },
  {
   "cell_type": "code",
   "execution_count": null,
   "metadata": {
    "collapsed": true
   },
   "outputs": [],
   "source": []
  },
  {
   "cell_type": "code",
   "execution_count": null,
   "metadata": {
    "collapsed": true
   },
   "outputs": [],
   "source": []
  },
  {
   "cell_type": "code",
   "execution_count": null,
   "metadata": {
    "collapsed": true
   },
   "outputs": [],
   "source": []
  }
 ],
 "metadata": {
  "kernelspec": {
   "display_name": "Python 2",
   "language": "python",
   "name": "python2"
  },
  "language_info": {
   "codemirror_mode": {
    "name": "ipython",
    "version": 2
   },
   "file_extension": ".py",
   "mimetype": "text/x-python",
   "name": "python",
   "nbconvert_exporter": "python",
   "pygments_lexer": "ipython2",
   "version": "2.7.14"
  },
  "toc": {
   "colors": {
    "hover_highlight": "#DAA520",
    "running_highlight": "#FF0000",
    "selected_highlight": "#FFD700"
   },
   "moveMenuLeft": true,
   "nav_menu": {
    "height": "66px",
    "width": "252px"
   },
   "navigate_menu": true,
   "number_sections": true,
   "sideBar": true,
   "threshold": 4,
   "toc_cell": false,
   "toc_section_display": "block",
   "toc_window_display": false,
   "widenNotebook": false
  }
 },
 "nbformat": 4,
 "nbformat_minor": 2
}
