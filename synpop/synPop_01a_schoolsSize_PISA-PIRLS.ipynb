{
 "cells": [
  {
   "cell_type": "code",
   "execution_count": 1,
   "metadata": {},
   "outputs": [
    {
     "name": "stdout",
     "output_type": "stream",
     "text": [
      "Populating the interactive namespace from numpy and matplotlib\n"
     ]
    }
   ],
   "source": [
    "%pylab inline\n",
    "import pandas as pd"
   ]
  },
  {
   "cell_type": "markdown",
   "metadata": {},
   "source": [
    "# Read the PISA data\n",
    "\n",
    "We load the scheme from the scheme file and then import the data."
   ]
  },
  {
   "cell_type": "code",
   "execution_count": 2,
   "metadata": {},
   "outputs": [],
   "source": [
    "schemeFile = \"resources/Global/education/PISA_SCHOOL_2012_read_SPSS.txt\"\n",
    "dataFile = \"resources/Global/education/PISA_SCHOOL_2012_data_INT_SCQ12_DEC03.txt\""
   ]
  },
  {
   "cell_type": "code",
   "execution_count": 3,
   "metadata": {},
   "outputs": [],
   "source": [
    "# Skip first two rows...\n",
    "header = 2\n",
    "\n",
    "sectionSplitter = \".\"\n",
    "\n",
    "labelsStart = \"variable labels\" # where does the labels start\n",
    "valueLabelsStart = \"value labels\" # where do the value labels start\n",
    "missingValuesStart = \"Missing values \"\n",
    "\n",
    "tmp_value_labels = None # the first value label has no heading \"/\"\n",
    "\n",
    "# The order of the things to read...\n",
    "thingsToRead = [\"valuesRangeKind\", \"variableLabels\", \"valueLabels\", \"missingValues\"]\n",
    "started2Read = [False,             False,            False,         False]\n",
    "\n",
    "readValuesSlices = {}\n",
    "maxStop = 0\n",
    "with open(schemeFile, \"rb\") as f:\n",
    "    for lineNum, l in enumerate(f):\n",
    "        if lineNum < header: continue\n",
    "            \n",
    "        if thingsToRead[0] == \"valuesRangeKind\":\n",
    "            '''\n",
    "            CNT 1 - 3 (A)\n",
    "            SUBNATIO 4 - 10 (A)\n",
    "            STRATUM 11 - 17 (A)\n",
    "            '''\n",
    "            if l[0] == sectionSplitter:\n",
    "                thingsToRead.pop(0)\n",
    "                started2Read.pop(0)\n",
    "                continue  \n",
    "            indicator, start, _, stop, kind = l.strip().split()\n",
    "            start, stop = int(start)-1, int(stop)\n",
    "            kind = kind[1]\n",
    "            maxStop = max(stop, maxStop)\n",
    "            readValuesSlices[indicator] = {\"kind\": kind, \"start\": start, \"stop\": stop,\\\n",
    "                                           \"dictionary\": {}, \"missingValues\": [], \"label\": \"\"}\n",
    "            \n",
    "        elif thingsToRead[0] == \"variableLabels\":\n",
    "            '''\n",
    "            CNT         \"Country code 3-character\" \n",
    "            OECD        \"OECD country\"                \n",
    "            SUBNATIO    \"Adjudicated sub-region code 7-digit code (3-digit country code + region ID + stratum ID)\"\n",
    "            STRATUM     \"Stratum ID 7-character (cnt + region ID + original stratum ID)\"\n",
    "            '''\n",
    "            if l[0] == sectionSplitter:\n",
    "                thingsToRead.pop(0)\n",
    "                started2Read.pop(0)\n",
    "                continue\n",
    "            elif not started2Read[0]:\n",
    "                if l.startswith(labelsStart):\n",
    "                    started2Read[0] = True\n",
    "                continue\n",
    "                \n",
    "            vals = l.split('\"')\n",
    "            indicator = vals[0].replace(\" \", \"\").replace(\"\\t\", \"\")\n",
    "            label = vals[1]\n",
    "            readValuesSlices[indicator][\"label\"] = label # Stripe away the apices \"...\"\n",
    "            \n",
    "        elif thingsToRead[0] == \"valueLabels\":\n",
    "            '''\n",
    "            /STRATUM \n",
    "            \"ALB0001\"  \"ALB - stratum 01 : North, Urban, Public\"\n",
    "            '''\n",
    "            \n",
    "            if l[0] == sectionSplitter:\n",
    "                thingsToRead.pop(0)\n",
    "                started2Read.pop(0)\n",
    "                continue\n",
    "            elif not started2Read[0]:\n",
    "                if l.startswith(valueLabelsStart):\n",
    "                    started2Read[0] = True\n",
    "                continue\n",
    "            \n",
    "            if tmp_value_labels is None:\n",
    "                tmp_value_labels = l.strip().split() # Leave the initial /\n",
    "                continue\n",
    "            elif l.startswith(\"/\"):\n",
    "                tmp_value_labels = l.strip()[1:].split() # Leave the initial /\n",
    "                continue\n",
    "            \n",
    "            try:\n",
    "                vals = l.strip().split('\"')\n",
    "                if readValuesSlices[tmp_value_labels[0]][\"kind\"] == \"A\":\n",
    "                    indicator = vals[1].replace(\" \", \"\").replace(\"\\t\", \"\")\n",
    "                    label = vals[3].replace(\"\\t\", \"\")\n",
    "                elif readValuesSlices[tmp_value_labels[0]][\"kind\"] == \"F\":\n",
    "                    indicator = float(vals[0].replace(\" \", \"\").replace(\"\\t\", \"\"))\n",
    "                    label = vals[1].replace(\"\\t\", \"\")\n",
    "\n",
    "            except Exception as e:\n",
    "                print l, vals\n",
    "                print str(e)\n",
    "                break\n",
    "            for tmp_indic in tmp_value_labels:\n",
    "                readValuesSlices[tmp_indic][\"dictionary\"][indicator] = label\n",
    "                \n",
    "        elif thingsToRead[0] == \"missingValues\":\n",
    "            # No header this time!\n",
    "            '''\n",
    "            Missing values OECD (9,8,7).\n",
    "            '''\n",
    "            \n",
    "            if l[0] == sectionSplitter:\n",
    "                thingsToRead.pop(0)\n",
    "                started2Read.pop(0)\n",
    "                continue\n",
    "            \n",
    "            if not l.strip().startswith(missingValuesStart):\n",
    "                continue\n",
    "                \n",
    "            tmp_vals = l.strip().split(missingValuesStart)[1].split()\n",
    "            assert len(tmp_vals) == 2\n",
    "            assert tmp_vals[1][0] == \"(\"\n",
    "            assert tmp_vals[1][-2:] == \").\"\n",
    "            \n",
    "            tmp_indicator = tmp_vals[0]\n",
    "            tmp_missing = tmp_vals[1][1:-2].split(\",\")\n",
    "            \n",
    "            if readValuesSlices[tmp_indicator][\"kind\"] == \"F\":\n",
    "                tmp_missing = [float(v) for v in tmp_missing]\n",
    "            if readValuesSlices[tmp_indicator][\"kind\"] == \"A\":\n",
    "                tmp_missing = [v[1:-1] for v in tmp_missing] # Strip away the '..'\n",
    "            \n",
    "            readValuesSlices[tmp_indicator][\"missingValues\"] = tmp_missing"
   ]
  },
  {
   "cell_type": "code",
   "execution_count": 4,
   "metadata": {},
   "outputs": [
    {
     "data": {
      "text/plain": [
       "{'dictionary': {'01': '15 students or lower',\n",
       "  '02': '16-20 students',\n",
       "  '03': '21-25 students',\n",
       "  '04': '26-30 students',\n",
       "  '05': '31-35 students',\n",
       "  '06': '36-40 students',\n",
       "  '07': '41-45 students',\n",
       "  '08': '46-50 students',\n",
       "  '09': 'More than 50 students',\n",
       "  '97': 'N/A',\n",
       "  '98': 'Invalid',\n",
       "  '99': 'Missing'},\n",
       " 'kind': 'A',\n",
       " 'label': 'Class size in <test language>',\n",
       " 'missingValues': ['99', '98', '97'],\n",
       " 'start': 70,\n",
       " 'stop': 72}"
      ]
     },
     "execution_count": 4,
     "metadata": {},
     "output_type": "execute_result"
    }
   ],
   "source": [
    "readValuesSlices[\"SC05Q01\"]"
   ]
  },
  {
   "cell_type": "code",
   "execution_count": null,
   "metadata": {},
   "outputs": [],
   "source": []
  },
  {
   "cell_type": "code",
   "execution_count": 5,
   "metadata": {},
   "outputs": [],
   "source": [
    "answers = []\n",
    "with open(dataFile, \"rb\") as f:\n",
    "    for l in f:\n",
    "        vals = l.strip()\n",
    "        \n",
    "        assert len(vals) == maxStop\n",
    "        \n",
    "        tmp_answer = {}\n",
    "        for indicator, indicatorFeatures in readValuesSlices.iteritems():\n",
    "            tmp_val = vals[indicatorFeatures[\"start\"]:indicatorFeatures[\"stop\"]]\n",
    "            \n",
    "            tmp_val = float(tmp_val) if indicatorFeatures[\"kind\"] == \"F\" else tmp_val\n",
    "            if tmp_val in indicatorFeatures[\"missingValues\"]:\n",
    "                tmp_val = np.NaN\n",
    "            \n",
    "            tmp_answer[indicator] = tmp_val\n",
    "        answers.append(tmp_answer)"
   ]
  },
  {
   "cell_type": "code",
   "execution_count": 6,
   "metadata": {},
   "outputs": [
    {
     "data": {
      "text/html": [
       "<div>\n",
       "<style scoped>\n",
       "    .dataframe tbody tr th:only-of-type {\n",
       "        vertical-align: middle;\n",
       "    }\n",
       "\n",
       "    .dataframe tbody tr th {\n",
       "        vertical-align: top;\n",
       "    }\n",
       "\n",
       "    .dataframe thead th {\n",
       "        text-align: right;\n",
       "    }\n",
       "</style>\n",
       "<table border=\"1\" class=\"dataframe\">\n",
       "  <thead>\n",
       "    <tr style=\"text-align: right;\">\n",
       "      <th></th>\n",
       "      <th>ABGMATH</th>\n",
       "      <th>ASSESS</th>\n",
       "      <th>CLSIZE</th>\n",
       "      <th>CNT</th>\n",
       "      <th>COMPWEB</th>\n",
       "      <th>CREACTIV</th>\n",
       "      <th>LEADCOM</th>\n",
       "      <th>LEADINST</th>\n",
       "      <th>LEADPD</th>\n",
       "      <th>LEADTCH</th>\n",
       "      <th>...</th>\n",
       "      <th>STRATUM</th>\n",
       "      <th>STUDCLIM</th>\n",
       "      <th>SUBNATIO</th>\n",
       "      <th>TCFOCST</th>\n",
       "      <th>TCHPARTI</th>\n",
       "      <th>TCMORALE</th>\n",
       "      <th>TCSHORT</th>\n",
       "      <th>TEACCLIM</th>\n",
       "      <th>VER_SCQ</th>\n",
       "      <th>W_FSCHWT</th>\n",
       "    </tr>\n",
       "  </thead>\n",
       "  <tbody>\n",
       "    <tr>\n",
       "      <th>0</th>\n",
       "      <td>3.0</td>\n",
       "      <td>NaN</td>\n",
       "      <td>33.0</td>\n",
       "      <td>ALB</td>\n",
       "      <td>0.882</td>\n",
       "      <td>3.0</td>\n",
       "      <td>0.7162</td>\n",
       "      <td>0.0432</td>\n",
       "      <td>1.0394</td>\n",
       "      <td>0.4499</td>\n",
       "      <td>...</td>\n",
       "      <td>ALB0006</td>\n",
       "      <td>0.8936</td>\n",
       "      <td>0080000</td>\n",
       "      <td>0.0095</td>\n",
       "      <td>0.2924</td>\n",
       "      <td>-0.7371</td>\n",
       "      <td>1.7565</td>\n",
       "      <td>0.2464</td>\n",
       "      <td>28NOV13</td>\n",
       "      <td>8.4871</td>\n",
       "    </tr>\n",
       "    <tr>\n",
       "      <th>1</th>\n",
       "      <td>2.0</td>\n",
       "      <td>NaN</td>\n",
       "      <td>23.0</td>\n",
       "      <td>ALB</td>\n",
       "      <td>1.000</td>\n",
       "      <td>2.0</td>\n",
       "      <td>0.3404</td>\n",
       "      <td>-0.5037</td>\n",
       "      <td>-0.3717</td>\n",
       "      <td>-0.3206</td>\n",
       "      <td>...</td>\n",
       "      <td>ALB0005</td>\n",
       "      <td>1.9580</td>\n",
       "      <td>0080000</td>\n",
       "      <td>0.7020</td>\n",
       "      <td>-0.5646</td>\n",
       "      <td>0.4686</td>\n",
       "      <td>-0.2817</td>\n",
       "      <td>0.8778</td>\n",
       "      <td>28NOV13</td>\n",
       "      <td>1.0039</td>\n",
       "    </tr>\n",
       "    <tr>\n",
       "      <th>2</th>\n",
       "      <td>2.0</td>\n",
       "      <td>6.0</td>\n",
       "      <td>13.0</td>\n",
       "      <td>ALB</td>\n",
       "      <td>NaN</td>\n",
       "      <td>1.0</td>\n",
       "      <td>0.8948</td>\n",
       "      <td>0.4930</td>\n",
       "      <td>0.3739</td>\n",
       "      <td>0.6907</td>\n",
       "      <td>...</td>\n",
       "      <td>ALB0007</td>\n",
       "      <td>2.7520</td>\n",
       "      <td>0080000</td>\n",
       "      <td>1.2831</td>\n",
       "      <td>-0.5646</td>\n",
       "      <td>1.4452</td>\n",
       "      <td>0.7093</td>\n",
       "      <td>1.4756</td>\n",
       "      <td>28NOV13</td>\n",
       "      <td>8.3450</td>\n",
       "    </tr>\n",
       "    <tr>\n",
       "      <th>3</th>\n",
       "      <td>2.0</td>\n",
       "      <td>NaN</td>\n",
       "      <td>28.0</td>\n",
       "      <td>ALB</td>\n",
       "      <td>1.000</td>\n",
       "      <td>3.0</td>\n",
       "      <td>1.0746</td>\n",
       "      <td>0.2753</td>\n",
       "      <td>0.6627</td>\n",
       "      <td>-0.3206</td>\n",
       "      <td>...</td>\n",
       "      <td>ALB0001</td>\n",
       "      <td>-0.6182</td>\n",
       "      <td>0080000</td>\n",
       "      <td>1.2831</td>\n",
       "      <td>-0.1437</td>\n",
       "      <td>1.4452</td>\n",
       "      <td>-0.2817</td>\n",
       "      <td>-0.4382</td>\n",
       "      <td>28NOV13</td>\n",
       "      <td>8.4388</td>\n",
       "    </tr>\n",
       "    <tr>\n",
       "      <th>4</th>\n",
       "      <td>2.0</td>\n",
       "      <td>NaN</td>\n",
       "      <td>33.0</td>\n",
       "      <td>ALB</td>\n",
       "      <td>0.567</td>\n",
       "      <td>3.0</td>\n",
       "      <td>1.0746</td>\n",
       "      <td>0.9289</td>\n",
       "      <td>1.0394</td>\n",
       "      <td>0.2118</td>\n",
       "      <td>...</td>\n",
       "      <td>ALB0005</td>\n",
       "      <td>-1.2067</td>\n",
       "      <td>0080000</td>\n",
       "      <td>0.0095</td>\n",
       "      <td>-1.0488</td>\n",
       "      <td>-0.7371</td>\n",
       "      <td>0.4567</td>\n",
       "      <td>-0.8958</td>\n",
       "      <td>28NOV13</td>\n",
       "      <td>2.6435</td>\n",
       "    </tr>\n",
       "  </tbody>\n",
       "</table>\n",
       "<p>5 rows × 291 columns</p>\n",
       "</div>"
      ],
      "text/plain": [
       "   ABGMATH  ASSESS  CLSIZE  CNT  COMPWEB  CREACTIV  LEADCOM  LEADINST  LEADPD  \\\n",
       "0      3.0     NaN    33.0  ALB    0.882       3.0   0.7162    0.0432  1.0394   \n",
       "1      2.0     NaN    23.0  ALB    1.000       2.0   0.3404   -0.5037 -0.3717   \n",
       "2      2.0     6.0    13.0  ALB      NaN       1.0   0.8948    0.4930  0.3739   \n",
       "3      2.0     NaN    28.0  ALB    1.000       3.0   1.0746    0.2753  0.6627   \n",
       "4      2.0     NaN    33.0  ALB    0.567       3.0   1.0746    0.9289  1.0394   \n",
       "\n",
       "   LEADTCH    ...     STRATUM  STUDCLIM SUBNATIO  TCFOCST  TCHPARTI  TCMORALE  \\\n",
       "0   0.4499    ...     ALB0006    0.8936  0080000   0.0095    0.2924   -0.7371   \n",
       "1  -0.3206    ...     ALB0005    1.9580  0080000   0.7020   -0.5646    0.4686   \n",
       "2   0.6907    ...     ALB0007    2.7520  0080000   1.2831   -0.5646    1.4452   \n",
       "3  -0.3206    ...     ALB0001   -0.6182  0080000   1.2831   -0.1437    1.4452   \n",
       "4   0.2118    ...     ALB0005   -1.2067  0080000   0.0095   -1.0488   -0.7371   \n",
       "\n",
       "   TCSHORT  TEACCLIM  VER_SCQ  W_FSCHWT  \n",
       "0   1.7565    0.2464  28NOV13    8.4871  \n",
       "1  -0.2817    0.8778  28NOV13    1.0039  \n",
       "2   0.7093    1.4756  28NOV13    8.3450  \n",
       "3  -0.2817   -0.4382  28NOV13    8.4388  \n",
       "4   0.4567   -0.8958  28NOV13    2.6435  \n",
       "\n",
       "[5 rows x 291 columns]"
      ]
     },
     "execution_count": 6,
     "metadata": {},
     "output_type": "execute_result"
    }
   ],
   "source": [
    "dfAnswers = pd.DataFrame(answers)\n",
    "dfAnswers.head()"
   ]
  },
  {
   "cell_type": "code",
   "execution_count": 7,
   "metadata": {},
   "outputs": [
    {
     "name": "stdout",
     "output_type": "stream",
     "text": [
      "Italy\n"
     ]
    },
    {
     "data": {
      "text/plain": [
       "(1194, 1194)"
      ]
     },
     "execution_count": 7,
     "metadata": {},
     "output_type": "execute_result"
    }
   ],
   "source": [
    "country = \"ITA\"\n",
    "print readValuesSlices[\"CNT\"][\"dictionary\"][country]\n",
    "len(dfAnswers[dfAnswers[\"CNT\"] == country].SCHOOLID.unique()), len(dfAnswers[dfAnswers[\"CNT\"] == country])"
   ]
  },
  {
   "cell_type": "code",
   "execution_count": 8,
   "metadata": {},
   "outputs": [
    {
     "data": {
      "text/plain": [
       "<matplotlib.axes._subplots.AxesSubplot at 0x7fc4c7fbec50>"
      ]
     },
     "execution_count": 8,
     "metadata": {},
     "output_type": "execute_result"
    },
    {
     "data": {
      "image/png": "[encoded data removed]",
      "text/plain": [
       "<Figure size 432x288 with 1 Axes>"
      ]
     },
     "metadata": {},
     "output_type": "display_data"
    }
   ],
   "source": [
    "dfAnswers[dfAnswers[\"CNT\"] == country][\"CLSIZE\"].hist(bins=30)"
   ]
  },
  {
   "cell_type": "code",
   "execution_count": 9,
   "metadata": {},
   "outputs": [
    {
     "data": {
      "text/plain": [
       "<matplotlib.axes._subplots.AxesSubplot at 0x7fc4c747bf90>"
      ]
     },
     "execution_count": 9,
     "metadata": {},
     "output_type": "execute_result"
    },
    {
     "data": {
      "image/png": "[encoded data removed]",
      "text/plain": [
       "<Figure size 432x288 with 1 Axes>"
      ]
     },
     "metadata": {},
     "output_type": "display_data"
    }
   ],
   "source": [
    "dfAnswers[dfAnswers[\"CNT\"] == country][\"SC07Q01\"].hist(bins=30)"
   ]
  },
  {
   "cell_type": "code",
   "execution_count": 10,
   "metadata": {},
   "outputs": [
    {
     "data": {
      "text/plain": [
       "count    16870.000000\n",
       "mean       373.409129\n",
       "std        363.677745\n",
       "min          0.000000\n",
       "25%        137.000000\n",
       "50%        288.000000\n",
       "75%        503.000000\n",
       "max       5896.000000\n",
       "Name: SC07Q01, dtype: float64"
      ]
     },
     "execution_count": 10,
     "metadata": {},
     "output_type": "execute_result"
    }
   ],
   "source": [
    "dfAnswers[\"SC07Q01\"].describe()"
   ]
  },
  {
   "cell_type": "code",
   "execution_count": 11,
   "metadata": {},
   "outputs": [],
   "source": [
    "schoolSize = {}\n",
    "bins = np.arange(5, 1505, 20)\n",
    "\n",
    "for country in dfAnswers[\"CNT\"].unique():\n",
    "    tmp_data = dfAnswers[dfAnswers[\"CNT\"] == country][\"SC07Q01\"].copy(deep=True)\n",
    "    \n",
    "    tmp_data.dropna(inplace=True)\n",
    "    \n",
    "    if tmp_data.count() == 0:\n",
    "        continue\n",
    "    tmp_data = tmp_data[tmp_data>= bins[0]]\n",
    "    \n",
    "    if len(tmp_data) < 5:\n",
    "        continue\n",
    "        \n",
    "    f, b = np.histogram(tmp_data, bins=bins, density=True)\n",
    "    \n",
    "    schoolSize[country] = {\"BINS\": bins, \"PDF\": f, \"CDF\": np.cumsum(f*np.diff(b)), \"RAW\": tmp_data.values}\n",
    "    \n",
    "# Saving the average\n",
    "tmp_data = dfAnswers[\"SC07Q01\"]\n",
    "tmp_data.dropna(inplace=True)\n",
    "tmp_data = tmp_data[tmp_data>0]\n",
    "f, b = np.histogram(tmp_data, bins=bins, density=True)\n",
    "schoolSize[\"AVG\"] = {\"BINS\": b, \"PDF\": f, \"CDF\": np.cumsum(f*np.diff(b)), \"RAW\": tmp_data.values}"
   ]
  },
  {
   "cell_type": "code",
   "execution_count": 13,
   "metadata": {},
   "outputs": [
    {
     "data": {
      "text/plain": [
       "[<matplotlib.lines.Line2D at 0x7fc4c7221290>]"
      ]
     },
     "execution_count": 13,
     "metadata": {},
     "output_type": "execute_result"
    },
    {
     "data": {
      "image/png": "[encoded data removed]",
      "text/plain": [
       "<Figure size 432x288 with 1 Axes>"
      ]
     },
     "metadata": {},
     "output_type": "display_data"
    }
   ],
   "source": [
    "plt.plot(b[1:], f)"
   ]
  },
  {
   "cell_type": "code",
   "execution_count": null,
   "metadata": {},
   "outputs": [],
   "source": []
  },
  {
   "cell_type": "code",
   "execution_count": 14,
   "metadata": {},
   "outputs": [
    {
     "name": "stdout",
     "output_type": "stream",
     "text": [
      "[u'AT', u'BE', u'BG', u'CH', u'CY', u'CZ', u'DE', u'DK', u'EE', u'EL', u'ES', u'FI', u'FR', u'HR', u'HU', u'IE', u'IS', u'IT', u'LI', u'LT', u'LU', u'LV', u'MT', u'NL', u'NO', u'PL', u'PT', u'RO', u'SE', u'SI', u'SK', u'UK']\n"
     ]
    }
   ],
   "source": [
    "# Load the data from first step to include all the NUTS0 codes...\n",
    "df_reference = pd.read_pickle(\"resources/Europe/population/structure/dataframes/2011_ageBySex_PDF.pkl\")\n",
    "indexes = df_reference[df_reference.index.str.len() == 2].index\n",
    "print sorted(indexes)"
   ]
  },
  {
   "cell_type": "code",
   "execution_count": 15,
   "metadata": {},
   "outputs": [
    {
     "name": "stdout",
     "output_type": "stream",
     "text": [
      "['ALB', 'ARE', 'ARG', 'AUS', 'AUT', 'BEL', 'BGR', 'BRA', 'CAN', 'CHE', 'CHL', 'COL', 'CRI', 'CZE', 'DEU', 'DNK', 'ESP', 'EST', 'FIN', 'FRA', 'GBR', 'GRC', 'HKG', 'HRV', 'HUN', 'IDN', 'IRL', 'ISL', 'ISR', 'ITA', 'JOR', 'JPN', 'KAZ', 'KOR', 'LIE', 'LTU', 'LUX', 'LVA', 'MAC', 'MEX', 'MNE', 'MYS', 'NLD', 'NOR', 'NZL', 'PER', 'POL', 'PRT', 'QAT', 'QCN', 'QRS', 'ROU', 'RUS', 'SGP', 'SRB', 'SVK', 'SVN', 'SWE', 'TAP', 'THA', 'TUN', 'TUR', 'URY', 'USA', 'VNM']\n"
     ]
    }
   ],
   "source": [
    "print sorted(dfAnswers[\"CNT\"].unique())"
   ]
  },
  {
   "cell_type": "code",
   "execution_count": 16,
   "metadata": {},
   "outputs": [],
   "source": [
    "# define the mapping\n",
    "CNT2NUTS0 = {\"AUT\": \"AT\", \"BEL\": \"BE\", \"BGR\": \"BG\", \"CZE\": \"CZ\", \"DEU\": \"DE\",\n",
    "             \"DNK\": \"DK\", \"EST\": \"EE\", \"ESP\": \"ES\", \"FIN\": \"FI\", \"GRC\": \"EL\",\n",
    "             \"FRA\": \"FR\", \"HRV\": \"HR\", \"HUN\": \"HU\", \"IRL\": \"IE\", \"ISL\": \"IS\",\n",
    "             \"ITA\": \"IT\", \"LTU\": \"LT\", \"LUX\": \"LU\", \"LVA\": \"LV\", \"NLD\": \"NL\",\n",
    "             \"NOR\": \"NO\", \"POL\": \"PL\", \"PRT\": \"PT\", \"ROU\": \"RO\", \"SWE\": \"SE\",\n",
    "             \"SVN\": \"SI\", \"SVK\": \"SK\", \"GBR\": \"UK\",\n",
    "            }"
   ]
  },
  {
   "cell_type": "code",
   "execution_count": null,
   "metadata": {},
   "outputs": [],
   "source": []
  },
  {
   "cell_type": "code",
   "execution_count": 17,
   "metadata": {},
   "outputs": [
    {
     "data": {
      "text/html": [
       "<div>\n",
       "<style scoped>\n",
       "    .dataframe tbody tr th:only-of-type {\n",
       "        vertical-align: middle;\n",
       "    }\n",
       "\n",
       "    .dataframe tbody tr th {\n",
       "        vertical-align: top;\n",
       "    }\n",
       "\n",
       "    .dataframe thead th {\n",
       "        text-align: right;\n",
       "    }\n",
       "</style>\n",
       "<table border=\"1\" class=\"dataframe\">\n",
       "  <thead>\n",
       "    <tr style=\"text-align: right;\">\n",
       "      <th></th>\n",
       "      <th>BINS</th>\n",
       "      <th>CDF</th>\n",
       "      <th>PDF</th>\n",
       "      <th>RAW</th>\n",
       "    </tr>\n",
       "  </thead>\n",
       "  <tbody>\n",
       "    <tr>\n",
       "      <th>AT</th>\n",
       "      <td>[5, 25, 45, 65, 85, 105, 125, 145, 165, 185, 2...</td>\n",
       "      <td>[0.02754356379988758, 0.06339391668228093, 0.0...</td>\n",
       "      <td>[0.001377178189994379, 0.0017925176441196677, ...</td>\n",
       "      <td>[543.0, 426.0, 834.0, 336.0, 995.0, 497.0, 171...</td>\n",
       "    </tr>\n",
       "    <tr>\n",
       "      <th>BE</th>\n",
       "      <td>[5, 25, 45, 65, 85, 105, 125, 145, 165, 185, 2...</td>\n",
       "      <td>[0.0, 0.007407407407407408, 0.0333333333333333...</td>\n",
       "      <td>[0.0, 0.0003703703703703704, 0.001296296296296...</td>\n",
       "      <td>[646.0, 275.0, 555.0, 225.0, 495.0, 247.0, 113...</td>\n",
       "    </tr>\n",
       "    <tr>\n",
       "      <th>BG</th>\n",
       "      <td>[5, 25, 45, 65, 85, 105, 125, 145, 165, 185, 2...</td>\n",
       "      <td>[0.02185792349726776, 0.04918032786885246, 0.0...</td>\n",
       "      <td>[0.001092896174863388, 0.001366120218579235, 0...</td>\n",
       "      <td>[177.0, 134.0, 181.0, 221.0, 494.0, 351.0, 477...</td>\n",
       "    </tr>\n",
       "    <tr>\n",
       "      <th>CZ</th>\n",
       "      <td>[5, 25, 45, 65, 85, 105, 125, 145, 165, 185, 2...</td>\n",
       "      <td>[0.024096385542168672, 0.09638554216867469, 0....</td>\n",
       "      <td>[0.0012048192771084336, 0.0036144578313253013,...</td>\n",
       "      <td>[253.0, 203.0, 175.0, 241.0, 111.0, 246.0, 43....</td>\n",
       "    </tr>\n",
       "    <tr>\n",
       "      <th>DE</th>\n",
       "      <td>[5, 25, 45, 65, 85, 105, 125, 145, 165, 185, 2...</td>\n",
       "      <td>[0.005128205128205128, 0.015384615384615385, 0...</td>\n",
       "      <td>[0.0002564102564102564, 0.0005128205128205128,...</td>\n",
       "      <td>[321.0, 624.0, 167.0, 144.0, 337.0, 250.0, 127...</td>\n",
       "    </tr>\n",
       "  </tbody>\n",
       "</table>\n",
       "</div>"
      ],
      "text/plain": [
       "                                                 BINS  \\\n",
       "AT  [5, 25, 45, 65, 85, 105, 125, 145, 165, 185, 2...   \n",
       "BE  [5, 25, 45, 65, 85, 105, 125, 145, 165, 185, 2...   \n",
       "BG  [5, 25, 45, 65, 85, 105, 125, 145, 165, 185, 2...   \n",
       "CZ  [5, 25, 45, 65, 85, 105, 125, 145, 165, 185, 2...   \n",
       "DE  [5, 25, 45, 65, 85, 105, 125, 145, 165, 185, 2...   \n",
       "\n",
       "                                                  CDF  \\\n",
       "AT  [0.02754356379988758, 0.06339391668228093, 0.0...   \n",
       "BE  [0.0, 0.007407407407407408, 0.0333333333333333...   \n",
       "BG  [0.02185792349726776, 0.04918032786885246, 0.0...   \n",
       "CZ  [0.024096385542168672, 0.09638554216867469, 0....   \n",
       "DE  [0.005128205128205128, 0.015384615384615385, 0...   \n",
       "\n",
       "                                                  PDF  \\\n",
       "AT  [0.001377178189994379, 0.0017925176441196677, ...   \n",
       "BE  [0.0, 0.0003703703703703704, 0.001296296296296...   \n",
       "BG  [0.001092896174863388, 0.001366120218579235, 0...   \n",
       "CZ  [0.0012048192771084336, 0.0036144578313253013,...   \n",
       "DE  [0.0002564102564102564, 0.0005128205128205128,...   \n",
       "\n",
       "                                                  RAW  \n",
       "AT  [543.0, 426.0, 834.0, 336.0, 995.0, 497.0, 171...  \n",
       "BE  [646.0, 275.0, 555.0, 225.0, 495.0, 247.0, 113...  \n",
       "BG  [177.0, 134.0, 181.0, 221.0, 494.0, 351.0, 477...  \n",
       "CZ  [253.0, 203.0, 175.0, 241.0, 111.0, 246.0, 43....  \n",
       "DE  [321.0, 624.0, 167.0, 144.0, 337.0, 250.0, 127...  "
      ]
     },
     "execution_count": 17,
     "metadata": {},
     "output_type": "execute_result"
    }
   ],
   "source": [
    "dfOut = {}\n",
    "for cnt, nuts0 in CNT2NUTS0.iteritems():\n",
    "    if cnt not in schoolSize:\n",
    "        cnt = \"AVG\"\n",
    "        \n",
    "    dfOut[nuts0] = schoolSize[cnt]\n",
    "\n",
    "dfOut = pd.DataFrame(dfOut)\n",
    "dfOut = dfOut.transpose()\n",
    "dfOut.head()"
   ]
  },
  {
   "cell_type": "code",
   "execution_count": 18,
   "metadata": {},
   "outputs": [],
   "source": [
    "dfOut.to_pickle(\"resources/Europe/population/structure/dataframes/school_PISA_sizeDistribution_NUTS0.pkl\")"
   ]
  },
  {
   "cell_type": "code",
   "execution_count": null,
   "metadata": {
    "collapsed": true
   },
   "outputs": [],
   "source": []
  },
  {
   "cell_type": "code",
   "execution_count": null,
   "metadata": {
    "collapsed": true
   },
   "outputs": [],
   "source": []
  },
  {
   "cell_type": "code",
   "execution_count": null,
   "metadata": {
    "collapsed": true
   },
   "outputs": [],
   "source": []
  }
 ],
 "metadata": {
  "kernelspec": {
   "display_name": "Python 2",
   "language": "python",
   "name": "python2"
  },
  "language_info": {
   "codemirror_mode": {
    "name": "ipython",
    "version": 2
   },
   "file_extension": ".py",
   "mimetype": "text/x-python",
   "name": "python",
   "nbconvert_exporter": "python",
   "pygments_lexer": "ipython2",
   "version": "2.7.14"
  },
  "toc": {
   "colors": {
    "hover_highlight": "#DAA520",
    "running_highlight": "#FF0000",
    "selected_highlight": "#FFD700"
   },
   "moveMenuLeft": true,
   "nav_menu": {
    "height": "30px",
    "width": "252px"
   },
   "navigate_menu": true,
   "number_sections": true,
   "sideBar": true,
   "threshold": 4,
   "toc_cell": false,
   "toc_section_display": "block",
   "toc_window_display": true,
   "widenNotebook": false
  }
 },
 "nbformat": 4,
 "nbformat_minor": 2
}
