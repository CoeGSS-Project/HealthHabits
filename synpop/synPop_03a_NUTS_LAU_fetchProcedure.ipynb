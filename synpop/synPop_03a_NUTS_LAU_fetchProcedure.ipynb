{
 "cells": [
  {
   "cell_type": "markdown",
   "metadata": {
    "toc": "true"
   },
   "source": [
    "# Table of Contents\n",
    " <p><div class=\"lev1 toc-item\"><a href=\"#Overview\" data-toc-modified-id=\"Overview-1\"><span class=\"toc-item-num\">1&nbsp;&nbsp;</span>Overview</a></div><div class=\"lev1 toc-item\"><a href=\"#Load-LAU1-and-LAU2-codes\" data-toc-modified-id=\"Load-LAU1-and-LAU2-codes-2\"><span class=\"toc-item-num\">2&nbsp;&nbsp;</span>Load LAU1 and LAU2 codes</a></div><div class=\"lev2 toc-item\"><a href=\"#Create-the-hierarchy-of-the-LAU-codes\" data-toc-modified-id=\"Create-the-hierarchy-of-the-LAU-codes-21\"><span class=\"toc-item-num\">2.1&nbsp;&nbsp;</span>Create the hierarchy of the LAU codes</a></div><div class=\"lev2 toc-item\"><a href=\"#Check-that-the-indexes/code-association-holds-at-each-level...\" data-toc-modified-id=\"Check-that-the-indexes/code-association-holds-at-each-level...-22\"><span class=\"toc-item-num\">2.2&nbsp;&nbsp;</span>Check that the indexes/code association holds at each level...</a></div><div class=\"lev2 toc-item\"><a href=\"#Compute-the-population-for-each-shape-in-the-finest-level\" data-toc-modified-id=\"Compute-the-population-for-each-shape-in-the-finest-level-23\"><span class=\"toc-item-num\">2.3&nbsp;&nbsp;</span>Compute the population for each shape in the finest level</a></div><div class=\"lev2 toc-item\"><a href=\"#Compute-the-baricenter-of-each-LAU2\" data-toc-modified-id=\"Compute-the-baricenter-of-each-LAU2-24\"><span class=\"toc-item-num\">2.4&nbsp;&nbsp;</span>Compute the baricenter of each LAU2</a></div><div class=\"lev2 toc-item\"><a href=\"#Save-the-dataframes-and-mappings\" data-toc-modified-id=\"Save-the-dataframes-and-mappings-25\"><span class=\"toc-item-num\">2.5&nbsp;&nbsp;</span>Save the dataframes and mappings</a></div>"
   ]
  },
  {
   "cell_type": "code",
   "execution_count": 1,
   "metadata": {},
   "outputs": [
    {
     "name": "stdout",
     "output_type": "stream",
     "text": [
      "Populating the interactive namespace from numpy and matplotlib\n"
     ]
    }
   ],
   "source": [
    "%pylab inline\n",
    "import pandas as pd\n",
    "import os\n",
    "import sys\n",
    "import geopandas as pd\n",
    "import overpy\n",
    "import urllib2\n",
    "import codecs"
   ]
  },
  {
   "cell_type": "code",
   "execution_count": 2,
   "metadata": {},
   "outputs": [],
   "source": [
    "api = overpy.Overpass()"
   ]
  },
  {
   "cell_type": "code",
   "execution_count": 15,
   "metadata": {},
   "outputs": [],
   "source": [
    "searchByAreaName = False\n",
    "countryOriginalName = \"United-Kingdom\"\n",
    "searchByAreaID = True\n",
    "areaID = \"3600062149\"\n",
    "\n",
    "levelsToFetch = [6, 8, 10]"
   ]
  },
  {
   "cell_type": "code",
   "execution_count": 18,
   "metadata": {},
   "outputs": [
    {
     "name": "stdout",
     "output_type": "stream",
     "text": [
      "Doing query:  [timeout:600];area(3600062149)->.a;(node[\"type\"=\"boundary\"][\"admin_level\"=\"6\"](area.a);way[\"type\"=\"boundary\"][\"admin_level\"=\"6\"](area.a);relation[\"type\"=\"boundary\"][\"admin_level\"=\"6\"](area.a););out body;>;out skel qt;\n",
      "Query done with code:  200 \n",
      "\n",
      "\n",
      "Doing query:  [timeout:600];area(3600062149)->.a;(node[\"type\"=\"boundary\"][\"admin_level\"=\"8\"](area.a);way[\"type\"=\"boundary\"][\"admin_level\"=\"8\"](area.a);relation[\"type\"=\"boundary\"][\"admin_level\"=\"8\"](area.a););out body;>;out skel qt;\n",
      "Query done with code:  200 \n",
      "\n",
      "\n",
      "Doing query:  [timeout:600];area(3600062149)->.a;(node[\"type\"=\"boundary\"][\"admin_level\"=\"10\"](area.a);way[\"type\"=\"boundary\"][\"admin_level\"=\"10\"](area.a);relation[\"type\"=\"boundary\"][\"admin_level\"=\"10\"](area.a););out body;>;out skel qt;\n",
      "Query done with code:  200 \n",
      "\n",
      "\n"
     ]
    }
   ],
   "source": [
    "for levelToFetch in levelsToFetch:\n",
    "    if searchByAreaName:\n",
    "        areaQuery = ('( area[\"{0}\"=\"{1}\"]; )->.a;'.format(\"name\", countryOriginalName),\n",
    "                     \"type\", \"boundary\", \"admin_level\", \"%d\" % levelToFetch)\n",
    "    elif searchByAreaID:\n",
    "        areaQuery = (\"area(%s)->.a;\" % areaID,\n",
    "                     \"type\", \"boundary\", \"admin_level\", \"%d\" % levelToFetch)\n",
    "\n",
    "    query = \"\"\"\n",
    "        [timeout:600];\n",
    "        {0}\n",
    "        (\n",
    "              node[\"{1}\"=\"{2}\"][\"{3}\"=\"{4}\"](area.a);\n",
    "              way[\"{1}\"=\"{2}\"][\"{3}\"=\"{4}\"](area.a);\n",
    "              relation[\"{1}\"=\"{2}\"][\"{3}\"=\"{4}\"](area.a);\n",
    "        );\n",
    "        out body;\n",
    "        >;\n",
    "        out skel qt;\n",
    "        \"\"\".format(*areaQuery)\n",
    "    \n",
    "    query = query.replace(\"\\n\", \"\")\n",
    "    query = query.replace(\"   \", \"\")\n",
    "    query = query.replace(\"  \", \"\")\n",
    "    \n",
    "    print \"Doing query: \", query\n",
    "    \n",
    "    result = urllib2.urlopen(\"https://overpass-api.de/api/interpreter\", query)\n",
    "    res = result.read()\n",
    "    result.close()\n",
    "    \n",
    "    print \"Query done with code: \", result.code, \"\\n\\n\"\n",
    "    \n",
    "    ofolder = os.path.join(\"resources/geoJsons\", countryOriginalName)\n",
    "    if not os.path.exists(ofolder): os.makedirs(ofolder)\n",
    "    \n",
    "    with codecs.open(os.path.join(ofolder, \"dec_lvl%02d.osm\" % (levelToFetch)), \"w\", \"utf-8-sig\") as f:\n",
    "        f.write(res.decode(\"utf-8\"))\n",
    "    \n",
    "    with open(os.path.join(ofolder, \"enc_lvl%02d.osm\" % (levelToFetch)), \"w\") as f:\n",
    "        f.write(res)"
   ]
  },
  {
   "cell_type": "code",
   "execution_count": 23,
   "metadata": {},
   "outputs": [
    {
     "data": {
      "text/plain": [
       "'resources/geoJsons/United-Kingdom/dec_lvl08.json'"
      ]
     },
     "execution_count": 23,
     "metadata": {},
     "output_type": "execute_result"
    }
   ],
   "source": [
    "target"
   ]
  },
  {
   "cell_type": "code",
   "execution_count": null,
   "metadata": {},
   "outputs": [],
   "source": []
  },
  {
   "cell_type": "code",
   "execution_count": 27,
   "metadata": {},
   "outputs": [
    {
     "name": "stdout",
     "output_type": "stream",
     "text": [
      "resources/geoJsons/United-Kingdom/dec_lvl08.osm \n",
      "resources/geoJsons/United-Kingdom/dec_lvl06.osm \n",
      "resources/geoJsons/United-Kingdom/dec_lvl10.osm \n"
     ]
    }
   ],
   "source": [
    "# Convert osm data to geojson and shapefile...\n",
    "import glob\n",
    "import geopandas as gpd\n",
    "from shapely.geometry import MultiPolygon\n",
    "from subprocess import Popen, PIPE\n",
    "\n",
    "for osmdatafile in glob.glob(os.path.join(ofolder, \"dec_*.osm\")):\n",
    "    target = osmdatafile.replace(\".osm\", \".json\")\n",
    "    with open(target, \"w\") as fout:\n",
    "        args = \"node --max_old_space_size=16384 /usr/local/bin/osmtogeojson -m %s\" % osmdatafile\n",
    "        args = args.split(\" \")\n",
    "        p = Popen(args, stdout=fout, stderr=PIPE, shell=False)\n",
    "        out, err = p.communicate()\n",
    "        print osmdatafile, err\n",
    "    \n",
    "    target_shp = target.replace(\".json\", \".shp\")\n",
    "    gdf = gpd.read_file(target)\n",
    "    gdf = gdf[gdf.geometry.type.isin([\"Polygon\", \"MultiPolygon\"])]\n",
    "    gdf.geometry = gdf.geometry.apply(lambda p: p if p.type == \"MultiPolygon\" else MultiPolygon([p]))\n",
    "    gdf.to_file(target_shp, driver=\"ESRI Shapefile\")"
   ]
  },
  {
   "cell_type": "code",
   "execution_count": null,
   "metadata": {},
   "outputs": [],
   "source": []
  },
  {
   "cell_type": "code",
   "execution_count": null,
   "metadata": {},
   "outputs": [],
   "source": []
  },
  {
   "cell_type": "code",
   "execution_count": null,
   "metadata": {},
   "outputs": [],
   "source": []
  }
 ],
 "metadata": {
  "kernelspec": {
   "display_name": "Python 2",
   "language": "python",
   "name": "python2"
  },
  "language_info": {
   "codemirror_mode": {
    "name": "ipython",
    "version": 2
   },
   "file_extension": ".py",
   "mimetype": "text/x-python",
   "name": "python",
   "nbconvert_exporter": "python",
   "pygments_lexer": "ipython2",
   "version": "2.7.12"
  },
  "toc": {
   "colors": {
    "hover_highlight": "#DAA520",
    "running_highlight": "#FF0000",
    "selected_highlight": "#FFD700"
   },
   "moveMenuLeft": true,
   "nav_menu": {
    "height": "120px",
    "width": "252px"
   },
   "navigate_menu": true,
   "number_sections": true,
   "sideBar": true,
   "threshold": 4,
   "toc_cell": true,
   "toc_position": {
    "height": "847px",
    "left": "0px",
    "right": "1468px",
    "top": "107px",
    "width": "212px"
   },
   "toc_section_display": "block",
   "toc_window_display": true,
   "widenNotebook": false
  }
 },
 "nbformat": 4,
 "nbformat_minor": 2
}
