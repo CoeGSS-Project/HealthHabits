{
 "cells": [
  {
   "cell_type": "code",
   "execution_count": 1,
   "metadata": {
    "slideshow": {
     "slide_type": "notes"
    }
   },
   "outputs": [
    {
     "name": "stdout",
     "output_type": "stream",
     "text": [
      "Populating the interactive namespace from numpy and matplotlib\n"
     ]
    },
    {
     "name": "stderr",
     "output_type": "stream",
     "text": [
      "synpopGenerateEntities.py:3: UserWarning: \n",
      "This call to matplotlib.use() has no effect because the backend has already\n",
      "been chosen; matplotlib.use() must be called *before* pylab, matplotlib.pyplot,\n",
      "or matplotlib.backends is imported for the first time.\n",
      "\n",
      "The backend was *originally* set to 'module://ipykernel.pylab.backend_inline' by the following code:\n",
      "  File \"/usr/lib/python2.7/runpy.py\", line 174, in _run_module_as_main\n",
      "    \"__main__\", fname, loader, pkg_name)\n",
      "  File \"/usr/lib/python2.7/runpy.py\", line 72, in _run_code\n",
      "    exec code in run_globals\n",
      "  File \"/usr/local/lib/python2.7/dist-packages/ipykernel_launcher.py\", line 16, in <module>\n",
      "    app.launch_new_instance()\n",
      "  File \"/usr/local/lib/python2.7/dist-packages/traitlets/config/application.py\", line 658, in launch_instance\n",
      "    app.start()\n",
      "  File \"/usr/local/lib/python2.7/dist-packages/ipykernel/kernelapp.py\", line 486, in start\n",
      "    self.io_loop.start()\n",
      "  File \"/usr/local/lib/python2.7/dist-packages/tornado/ioloop.py\", line 1065, in start\n",
      "    handler_func(fd_obj, events)\n",
      "  File \"/usr/local/lib/python2.7/dist-packages/tornado/stack_context.py\", line 276, in null_wrapper\n",
      "    return fn(*args, **kwargs)\n",
      "  File \"/usr/local/lib/python2.7/dist-packages/zmq/eventloop/zmqstream.py\", line 450, in _handle_events\n",
      "    self._handle_recv()\n",
      "  File \"/usr/local/lib/python2.7/dist-packages/zmq/eventloop/zmqstream.py\", line 480, in _handle_recv\n",
      "    self._run_callback(callback, msg)\n",
      "  File \"/usr/local/lib/python2.7/dist-packages/zmq/eventloop/zmqstream.py\", line 432, in _run_callback\n",
      "    callback(*args, **kwargs)\n",
      "  File \"/usr/local/lib/python2.7/dist-packages/tornado/stack_context.py\", line 276, in null_wrapper\n",
      "    return fn(*args, **kwargs)\n",
      "  File \"/usr/local/lib/python2.7/dist-packages/ipykernel/kernelbase.py\", line 283, in dispatcher\n",
      "    return self.dispatch_shell(stream, msg)\n",
      "  File \"/usr/local/lib/python2.7/dist-packages/ipykernel/kernelbase.py\", line 233, in dispatch_shell\n",
      "    handler(stream, idents, msg)\n",
      "  File \"/usr/local/lib/python2.7/dist-packages/ipykernel/kernelbase.py\", line 399, in execute_request\n",
      "    user_expressions, allow_stdin)\n",
      "  File \"/usr/local/lib/python2.7/dist-packages/ipykernel/ipkernel.py\", line 208, in do_execute\n",
      "    res = shell.run_cell(code, store_history=store_history, silent=silent)\n",
      "  File \"/usr/local/lib/python2.7/dist-packages/ipykernel/zmqshell.py\", line 537, in run_cell\n",
      "    return super(ZMQInteractiveShell, self).run_cell(*args, **kwargs)\n",
      "  File \"/usr/local/lib/python2.7/dist-packages/IPython/core/interactiveshell.py\", line 2718, in run_cell\n",
      "    interactivity=interactivity, compiler=compiler, result=result)\n",
      "  File \"/usr/local/lib/python2.7/dist-packages/IPython/core/interactiveshell.py\", line 2822, in run_ast_nodes\n",
      "    if self.run_code(code, result):\n",
      "  File \"/usr/local/lib/python2.7/dist-packages/IPython/core/interactiveshell.py\", line 2882, in run_code\n",
      "    exec(code_obj, self.user_global_ns, self.user_ns)\n",
      "  File \"<ipython-input-1-00a353324b0f>\", line 1, in <module>\n",
      "    get_ipython().magic(u'pylab inline')\n",
      "  File \"/usr/local/lib/python2.7/dist-packages/IPython/core/interactiveshell.py\", line 2160, in magic\n",
      "    return self.run_line_magic(magic_name, magic_arg_s)\n",
      "  File \"/usr/local/lib/python2.7/dist-packages/IPython/core/interactiveshell.py\", line 2081, in run_line_magic\n",
      "    result = fn(*args,**kwargs)\n",
      "  File \"<decorator-gen-106>\", line 2, in pylab\n",
      "  File \"/usr/local/lib/python2.7/dist-packages/IPython/core/magic.py\", line 188, in <lambda>\n",
      "    call = lambda f, *a, **k: f(*a, **k)\n",
      "  File \"/usr/local/lib/python2.7/dist-packages/IPython/core/magics/pylab.py\", line 156, in pylab\n",
      "    gui, backend, clobbered = self.shell.enable_pylab(args.gui, import_all=import_all)\n",
      "  File \"/usr/local/lib/python2.7/dist-packages/IPython/core/interactiveshell.py\", line 2989, in enable_pylab\n",
      "    gui, backend = self.enable_matplotlib(gui)\n",
      "  File \"/usr/local/lib/python2.7/dist-packages/IPython/core/interactiveshell.py\", line 2950, in enable_matplotlib\n",
      "    pt.activate_matplotlib(backend)\n",
      "  File \"/usr/local/lib/python2.7/dist-packages/IPython/core/pylabtools.py\", line 309, in activate_matplotlib\n",
      "    matplotlib.pyplot.switch_backend(backend)\n",
      "  File \"/usr/local/lib/python2.7/dist-packages/matplotlib/pyplot.py\", line 231, in switch_backend\n",
      "    matplotlib.use(newbackend, warn=False, force=True)\n",
      "  File \"/usr/local/lib/python2.7/dist-packages/matplotlib/__init__.py\", line 1400, in use\n",
      "    reload(sys.modules['matplotlib.backends'])\n",
      "  File \"/usr/local/lib/python2.7/dist-packages/matplotlib/backends/__init__.py\", line 16, in <module>\n",
      "    line for line in traceback.format_stack()\n",
      "\n",
      "\n",
      "  matplotlib.use(\"Agg\")\n",
      "/usr/local/lib/python2.7/dist-packages/h5py/__init__.py:36: FutureWarning: Conversion of the second argument of issubdtype from `float` to `np.floating` is deprecated. In future, it will be treated as `np.float64 == np.dtype(float).type`.\n",
      "  from ._conv import register_converters as _register_converters\n",
      "synpopCheckPopulation.py:2: UserWarning: \n",
      "This call to matplotlib.use() has no effect because the backend has already\n",
      "been chosen; matplotlib.use() must be called *before* pylab, matplotlib.pyplot,\n",
      "or matplotlib.backends is imported for the first time.\n",
      "\n",
      "The backend was *originally* set to 'module://ipykernel.pylab.backend_inline' by the following code:\n",
      "  File \"/usr/lib/python2.7/runpy.py\", line 174, in _run_module_as_main\n",
      "    \"__main__\", fname, loader, pkg_name)\n",
      "  File \"/usr/lib/python2.7/runpy.py\", line 72, in _run_code\n",
      "    exec code in run_globals\n",
      "  File \"/usr/local/lib/python2.7/dist-packages/ipykernel_launcher.py\", line 16, in <module>\n",
      "    app.launch_new_instance()\n",
      "  File \"/usr/local/lib/python2.7/dist-packages/traitlets/config/application.py\", line 658, in launch_instance\n",
      "    app.start()\n",
      "  File \"/usr/local/lib/python2.7/dist-packages/ipykernel/kernelapp.py\", line 486, in start\n",
      "    self.io_loop.start()\n",
      "  File \"/usr/local/lib/python2.7/dist-packages/tornado/ioloop.py\", line 1065, in start\n",
      "    handler_func(fd_obj, events)\n",
      "  File \"/usr/local/lib/python2.7/dist-packages/tornado/stack_context.py\", line 276, in null_wrapper\n",
      "    return fn(*args, **kwargs)\n",
      "  File \"/usr/local/lib/python2.7/dist-packages/zmq/eventloop/zmqstream.py\", line 450, in _handle_events\n",
      "    self._handle_recv()\n",
      "  File \"/usr/local/lib/python2.7/dist-packages/zmq/eventloop/zmqstream.py\", line 480, in _handle_recv\n",
      "    self._run_callback(callback, msg)\n",
      "  File \"/usr/local/lib/python2.7/dist-packages/zmq/eventloop/zmqstream.py\", line 432, in _run_callback\n",
      "    callback(*args, **kwargs)\n",
      "  File \"/usr/local/lib/python2.7/dist-packages/tornado/stack_context.py\", line 276, in null_wrapper\n",
      "    return fn(*args, **kwargs)\n",
      "  File \"/usr/local/lib/python2.7/dist-packages/ipykernel/kernelbase.py\", line 283, in dispatcher\n",
      "    return self.dispatch_shell(stream, msg)\n",
      "  File \"/usr/local/lib/python2.7/dist-packages/ipykernel/kernelbase.py\", line 233, in dispatch_shell\n",
      "    handler(stream, idents, msg)\n",
      "  File \"/usr/local/lib/python2.7/dist-packages/ipykernel/kernelbase.py\", line 399, in execute_request\n",
      "    user_expressions, allow_stdin)\n",
      "  File \"/usr/local/lib/python2.7/dist-packages/ipykernel/ipkernel.py\", line 208, in do_execute\n",
      "    res = shell.run_cell(code, store_history=store_history, silent=silent)\n",
      "  File \"/usr/local/lib/python2.7/dist-packages/ipykernel/zmqshell.py\", line 537, in run_cell\n",
      "    return super(ZMQInteractiveShell, self).run_cell(*args, **kwargs)\n",
      "  File \"/usr/local/lib/python2.7/dist-packages/IPython/core/interactiveshell.py\", line 2718, in run_cell\n",
      "    interactivity=interactivity, compiler=compiler, result=result)\n",
      "  File \"/usr/local/lib/python2.7/dist-packages/IPython/core/interactiveshell.py\", line 2822, in run_ast_nodes\n",
      "    if self.run_code(code, result):\n",
      "  File \"/usr/local/lib/python2.7/dist-packages/IPython/core/interactiveshell.py\", line 2882, in run_code\n",
      "    exec(code_obj, self.user_global_ns, self.user_ns)\n",
      "  File \"<ipython-input-1-00a353324b0f>\", line 1, in <module>\n",
      "    get_ipython().magic(u'pylab inline')\n",
      "  File \"/usr/local/lib/python2.7/dist-packages/IPython/core/interactiveshell.py\", line 2160, in magic\n",
      "    return self.run_line_magic(magic_name, magic_arg_s)\n",
      "  File \"/usr/local/lib/python2.7/dist-packages/IPython/core/interactiveshell.py\", line 2081, in run_line_magic\n",
      "    result = fn(*args,**kwargs)\n",
      "  File \"<decorator-gen-106>\", line 2, in pylab\n",
      "  File \"/usr/local/lib/python2.7/dist-packages/IPython/core/magic.py\", line 188, in <lambda>\n",
      "    call = lambda f, *a, **k: f(*a, **k)\n",
      "  File \"/usr/local/lib/python2.7/dist-packages/IPython/core/magics/pylab.py\", line 156, in pylab\n",
      "    gui, backend, clobbered = self.shell.enable_pylab(args.gui, import_all=import_all)\n",
      "  File \"/usr/local/lib/python2.7/dist-packages/IPython/core/interactiveshell.py\", line 2989, in enable_pylab\n",
      "    gui, backend = self.enable_matplotlib(gui)\n",
      "  File \"/usr/local/lib/python2.7/dist-packages/IPython/core/interactiveshell.py\", line 2950, in enable_matplotlib\n",
      "    pt.activate_matplotlib(backend)\n",
      "  File \"/usr/local/lib/python2.7/dist-packages/IPython/core/pylabtools.py\", line 309, in activate_matplotlib\n",
      "    matplotlib.pyplot.switch_backend(backend)\n",
      "  File \"/usr/local/lib/python2.7/dist-packages/matplotlib/pyplot.py\", line 231, in switch_backend\n",
      "    matplotlib.use(newbackend, warn=False, force=True)\n",
      "  File \"/usr/local/lib/python2.7/dist-packages/matplotlib/__init__.py\", line 1400, in use\n",
      "    reload(sys.modules['matplotlib.backends'])\n",
      "  File \"/usr/local/lib/python2.7/dist-packages/matplotlib/backends/__init__.py\", line 16, in <module>\n",
      "    line for line in traceback.format_stack()\n",
      "\n",
      "\n",
      "  matplotlib.use(\"Agg\")\n"
     ]
    }
   ],
   "source": [
    "%pylab inline\n",
    "import os\n",
    "import sys\n",
    "import glob\n",
    "\n",
    "import pandas as pd\n",
    "import datetime\n",
    "\n",
    "from selectfile import FileBrowser\n",
    "import ipywidgets\n",
    "from ipywidgets import interact, interactive, fixed, interact_manual,\\\n",
    "                       FloatSlider, FloatRangeSlider, Dropdown, Button,\\\n",
    "                       Layout, IntSlider, IntRangeSlider\n",
    "from subprocess import Popen, STDOUT, PIPE\n",
    "\n",
    "from IPython.display import Image, display_pdf, Markdown\n",
    "import glob\n",
    "from wand.image import Image as WImage\n",
    "\n",
    "from synpopGenerateEntities import generateEntities\n",
    "from synpopClusterizeEntities import clusterizeEntities\n",
    "from synpopCheckPopulation import checkPopulation"
   ]
  },
  {
   "cell_type": "code",
   "execution_count": 2,
   "metadata": {
    "slideshow": {
     "slide_type": "notes"
    }
   },
   "outputs": [],
   "source": [
    "def getConfigFiles():\n",
    "    configFiles = {f: f for f in glob.glob(\"*_config*.py\")}\n",
    "    return configFiles\n",
    "def updateConfig(dropMenu):\n",
    "    configFiles = getConfigFiles()\n",
    "    dropMenu.options = configFiles"
   ]
  },
  {
   "cell_type": "code",
   "execution_count": 3,
   "metadata": {
    "slideshow": {
     "slide_type": "notes"
    }
   },
   "outputs": [],
   "source": [
    "# Building the generation interface...\n",
    "label_style = {'description_width': '150px'}\n",
    "layout_cfg = Layout(width=\"450px\")\n",
    "\n",
    "configFiles = getConfigFiles()\n",
    "cfgSelection = Dropdown(options=configFiles, value=configFiles.values()[0],\n",
    "                        description=\"Configuration file:\",\n",
    "                        layout=layout_cfg, style=label_style)\n",
    "\n",
    "selNUTSselection = ipywidgets.Text(\n",
    "        value='',\n",
    "        placeholder='Comma separated list of NUTS to create...',\n",
    "        description='Selected NUTS:',\n",
    "        disabled=False, layout=layout_cfg, style=label_style,\n",
    "    )\n",
    "\n",
    "popNameSelection = ipywidgets.Text(\n",
    "        value='resources/Italy/',\n",
    "        placeholder='Output file for the population...',\n",
    "        description='Population output name:',\n",
    "        disabled=False, layout=layout_cfg, style=label_style,\n",
    "    )\n",
    "\n",
    "popScaleSelection = ipywidgets.FloatSlider(value=.1, min=.0, max=1., step=.01,\n",
    "                        description=\"Population scale:\", continuous_update=True,\n",
    "                        layout=layout_cfg, style=label_style)\n",
    "\n",
    "refNameSelection = ipywidgets.Text(\n",
    "        value='',\n",
    "        placeholder='Type the mnemonic name of your pop...',\n",
    "        description='Reference name:',\n",
    "        disabled=False, layout=layout_cfg, style=label_style,\n",
    "    )\n",
    "\n",
    "popLevelsSelection = ipywidgets.Text(\n",
    "        value='',\n",
    "        placeholder='Comma seprated list of local levels size...',\n",
    "        description='Local level sizes:',\n",
    "        disabled=False, layout=layout_cfg, style=label_style,\n",
    "    )\n",
    "\n",
    "simBox = ipywidgets.HBox(\n",
    "        [ipywidgets.VBox([cfgSelection, selNUTSselection, popLevelsSelection]),\n",
    "         ipywidgets.VBox([popScaleSelection, refNameSelection, popNameSelection])]\n",
    "    )\n",
    "\n",
    "boundariesSelection = FileBrowser(path=\"resources\", showHidden=False, title=\"Select boundaries:\")\n",
    "\n",
    "createButton = ipywidgets.Button(description=\"Create\", positioning=\"right\")\n",
    "\n",
    "cfgSelection.observe(lambda v: updateConfig(cfgSelection))\n",
    "\n",
    "from subprocess import Popen, STDOUT, PIPE\n",
    "def onCreateButtonClicked(ev=None):\n",
    "    #createButton.disabled = True\n",
    "    tic = datetime.datetime.now()\n",
    "    print \"Creating population for `%s`!\" % (selNUTSselection.value)\n",
    "    geoDFfile = boundariesSelection.path\n",
    "    geoid2nuts = geoDFfile.replace(\"gdf.pkl.gz\", \"id2NUTS.pkl\")\n",
    "    geonuts2id = geoDFfile.replace(\"gdf.pkl.gz\", \"NUTS2id.pkl\")\n",
    "    localConf = {\"geoDataFrame_file\": geoDFfile,\n",
    "                 \"geoDFid2nuts_file\": geoid2nuts,\n",
    "                 \"geoDFnuts2id_file\": geonuts2id,\n",
    "                 \"referenceName\": refNameSelection.value,\n",
    "                 \"populationFileName\": popNameSelection.value,\n",
    "                 \"popScale\": popScaleSelection.value,\n",
    "                 \"levelsTargetSize\": [int(s.replace(\" \", \"\")) for s in popLevelsSelection.value.split(\",\")],\n",
    "                 \"selectedNUTS\": set([s.replace(\" \", \"\") for s in selNUTSselection.value.split(\",\")]),\n",
    "                }\n",
    "    fout, cfg = generateEntities(cfgSelection.value.split(\".py\")[0], additionalArgs=localConf)\n",
    "    clusterizeEntities(fout.split(\".py\")[0], additionalArgs=cfg)\n",
    "    toc = datetime.datetime.now()\n",
    "    dt = toc - tic\n",
    "    print \"\\n Everything done, the generation procedure took %d seconds.\" % (dt.total_seconds())\n",
    "    \n",
    "createButton.on_click(onCreateButtonClicked)\n",
    "\n",
    "loadBox = ipywidgets.HBox([boundariesSelection.widget(),])\n",
    "\n",
    "btnBox = ipywidgets.HBox([createButton], positioning=\"right\", layout=Layout(positioning=\"right\"))\n",
    "\n",
    "inputBox = ipywidgets.VBox([simBox, loadBox, btnBox])"
   ]
  },
  {
   "cell_type": "code",
   "execution_count": 4,
   "metadata": {
    "slideshow": {
     "slide_type": "notes"
    }
   },
   "outputs": [],
   "source": [
    "# Building the check interface...\n",
    "label_style = {'description_width': 'initial'}\n",
    "cfgSelection = Dropdown(options=configFiles, value=configFiles.values()[0],\n",
    "                        description=\"Configuration file:\",\n",
    "                        layout=layout_cfg, style=label_style)\n",
    "\n",
    "cfgSelection.observe(lambda v: updateConfig(cfgSelection))\n",
    "checkButton = ipywidgets.Button(description=\"Check\", positioning=\"right\")\n",
    "\n",
    "checkBox = ipywidgets.HBox([cfgSelection, checkButton])\n",
    "\n",
    "import time\n",
    "import importlib\n",
    "def onCheckButtonClicked(ev=None, width=400, resolution=110):\n",
    "    checkButton.disabled = False\n",
    "    print \"Checking the %s configuration file...\" % (cfgSelection.value)\n",
    "    cfgFile = cfgSelection.value.split(\".py\")[0]\n",
    "    cfg_mod = importlib.import_module(cfgFile)\n",
    "    cfg = cfg_mod.cfg\n",
    "    args = \"python2 synpopCheckPopulation.py %s\" % cfgFile\n",
    "    proc = Popen(args.split(\" \"), stdout=PIPE, stderr=STDOUT)\n",
    "    seen_IMGs = set()\n",
    "    proc_done = False\n",
    "    all_done = False\n",
    "    while (not all_done) or (not proc_done):\n",
    "        for img in sorted(glob.glob(\"figures/*_%s_*\" % cfg[\"referenceName\"])):\n",
    "            if img in seen_IMGs: continue\n",
    "            title = \"## %s\" % os.path.basename(img[:-4])\n",
    "            display(Markdown(title))\n",
    "            done = False\n",
    "            while not done:\n",
    "                time.sleep(8)\n",
    "                if img[-4:].lower() == \".pdf\":\n",
    "                    try:\n",
    "                        wim = WImage(filename=img, resolution=resolution, width=width)\n",
    "                    except Exception as e:\n",
    "                        time.sleep(2)\n",
    "                        continue\n",
    "                else:\n",
    "                    try:\n",
    "                        wim = Image(img, width=width)\n",
    "                    except Exception as e:\n",
    "                        time.sleep(2)\n",
    "                        continue\n",
    "                try:\n",
    "                    display(wim)\n",
    "                except:\n",
    "                    continue\n",
    "                done=True\n",
    "            seen_IMGs.add(img)\n",
    "        if (not proc_done):\n",
    "            if proc.poll() is not None:\n",
    "                proc_done = True\n",
    "        elif not all_done:\n",
    "            all_done = True\n",
    "        time.sleep(.5)\n",
    "    out = proc.wait()\n",
    "    display(Markdown(\"**Check complete!**\"))\n",
    "    pass\n",
    "    \n",
    "checkButton.on_click(onCheckButtonClicked)\n"
   ]
  },
  {
   "cell_type": "code",
   "execution_count": null,
   "metadata": {},
   "outputs": [],
   "source": []
  },
  {
   "cell_type": "markdown",
   "metadata": {
    "slideshow": {
     "slide_type": "slide"
    }
   },
   "source": [
    "# Synpop generation demo\n",
    "\n",
    "## Create the synthetic population\n",
    "\n",
    "We will create the synthetic population of a small province of Piedmont (for time constraints).\n",
    "\n",
    "We will then see how to check the generation procedure with a previously prepared population.\n"
   ]
  },
  {
   "cell_type": "code",
   "execution_count": 5,
   "metadata": {
    "slideshow": {
     "slide_type": "notes"
    }
   },
   "outputs": [
    {
     "data": {
      "application/vnd.jupyter.widget-view+json": {
       "model_id": "125fd293f0a84800835cb18795debe1c",
       "version_major": 2,
       "version_minor": 0
      },
      "text/html": [
       "<p>Failed to display Jupyter Widget of type <code>VBox</code>.</p>\n",
       "<p>\n",
       "  If you're reading this message in the Jupyter Notebook or JupyterLab Notebook, it may mean\n",
       "  that the widgets JavaScript is still loading. If this message persists, it\n",
       "  likely means that the widgets JavaScript library is either not installed or\n",
       "  not enabled. See the <a href=\"https://ipywidgets.readthedocs.io/en/stable/user_install.html\">Jupyter\n",
       "  Widgets Documentation</a> for setup instructions.\n",
       "</p>\n",
       "<p>\n",
       "  If you're reading this message in another frontend (for example, a static\n",
       "  rendering on GitHub or <a href=\"https://nbviewer.jupyter.org/\">NBViewer</a>),\n",
       "  it may mean that your frontend doesn't currently support widgets.\n",
       "</p>\n"
      ],
      "text/plain": [
       "VBox(children=(HBox(children=(VBox(children=(Dropdown(description=u'Configuration file:', layout=Layout(width=u'450px'), options={'synpopGenerator_config_verbania_demo.py': 'synpopGenerator_config_verbania_demo.py', 'synpopGenerator_config_IT.py': 'synpopGenerator_config_IT.py', 'synpopGenerator_config_ITC.py': 'synpopGenerator_config_ITC.py', 'synpopGenerator_config_UK.py': 'synpopGenerator_config_UK.py', 'synpopGenerator_config_ITC1_trials.py': 'synpopGenerator_config_ITC1_trials.py', 'synpopGenerator_config_ITC1.py': 'synpopGenerator_config_ITC1.py', 'synpopGenerator_config.py': 'synpopGenerator_config.py', 'synpopGenerator_config_ITC1_3_4.py': 'synpopGenerator_config_ITC1_3_4.py', 'synpopGenerator_config_ITC_100pc.py': 'synpopGenerator_config_ITC_100pc.py', 'synpopGenerator_config_DE.py': 'synpopGenerator_config_DE.py'}, style=DescriptionStyle(description_width=u'150px'), value='synpopGenerator_config_verbania_demo.py'), Text(value=u'', description=u'Selected NUTS:', layout=Layout(width=u'450px'), placeholder=u'Comma separated list of NUTS to create...', style=DescriptionStyle(description_width=u'150px')), Text(value=u'', description=u'Local level sizes:', layout=Layout(width=u'450px'), placeholder=u'Comma seprated list of local levels size...', style=DescriptionStyle(description_width=u'150px')))), VBox(children=(FloatSlider(value=0.1, description=u'Population scale:', layout=Layout(width=u'450px'), max=1.0, step=0.01, style=SliderStyle(description_width=u'150px')), Text(value=u'', description=u'Reference name:', layout=Layout(width=u'450px'), placeholder=u'Type the mnemonic name of your pop...', style=DescriptionStyle(description_width=u'150px')), Text(value=u'resources/Italy/', description=u'Population output name:', layout=Layout(width=u'450px'), placeholder=u'Output file for the population...', style=DescriptionStyle(description_width=u'150px')))))), HBox(children=(VBox(children=(HTML(value=u'<h3>Select boundaries:</h3>'), Button(description=u'Germany', layout=Layout(width=u'400px'), style=ButtonStyle()), Button(description=u'England', layout=Layout(width=u'400px'), style=ButtonStyle()), Button(description=u'Italy', layout=Layout(width=u'400px'), style=ButtonStyle()), Button(description=u'United-Kingdom', layout=Layout(width=u'400px'), style=ButtonStyle()), Button(description=u'NorthernIreland', layout=Layout(width=u'400px'), style=ButtonStyle()), Button(description=u'Wales', layout=Layout(width=u'400px'), style=ButtonStyle()), Button(description=u'Scotland', layout=Layout(width=u'400px'), style=ButtonStyle()), Button(description=u'rastersEngland', layout=Layout(width=u'400px'), style=ButtonStyle()), Button(description=u'USA', layout=Layout(width=u'400px'), style=ButtonStyle()), Button(description=u'geoJsons', layout=Layout(width=u'400px'), style=ButtonStyle()), Button(description=u'UK', layout=Layout(width=u'400px'), style=ButtonStyle()), Button(description=u'Europe', layout=Layout(width=u'400px'), style=ButtonStyle()), Button(description=u'readme', layout=Layout(width=u'400px'), style=ButtonStyle()), Button(description=u'Ireland', layout=Layout(width=u'400px'), style=ButtonStyle()), Button(description=u'Global', layout=Layout(width=u'400px'), style=ButtonStyle()))),)), HBox(children=(Button(description=u'Create', style=ButtonStyle()),))))"
      ]
     },
     "metadata": {},
     "output_type": "display_data"
    }
   ],
   "source": [
    "display(inputBox)"
   ]
  },
  {
   "cell_type": "markdown",
   "metadata": {
    "slideshow": {
     "slide_type": "notes"
    }
   },
   "source": [
    "## Check the generated population"
   ]
  },
  {
   "cell_type": "code",
   "execution_count": 6,
   "metadata": {
    "scrolled": false,
    "slideshow": {
     "slide_type": "notes"
    }
   },
   "outputs": [
    {
     "data": {
      "application/vnd.jupyter.widget-view+json": {
       "model_id": "4389d9d574524dcea9c771d13d783ecb",
       "version_major": 2,
       "version_minor": 0
      },
      "text/html": [
       "<p>Failed to display Jupyter Widget of type <code>HBox</code>.</p>\n",
       "<p>\n",
       "  If you're reading this message in the Jupyter Notebook or JupyterLab Notebook, it may mean\n",
       "  that the widgets JavaScript is still loading. If this message persists, it\n",
       "  likely means that the widgets JavaScript library is either not installed or\n",
       "  not enabled. See the <a href=\"https://ipywidgets.readthedocs.io/en/stable/user_install.html\">Jupyter\n",
       "  Widgets Documentation</a> for setup instructions.\n",
       "</p>\n",
       "<p>\n",
       "  If you're reading this message in another frontend (for example, a static\n",
       "  rendering on GitHub or <a href=\"https://nbviewer.jupyter.org/\">NBViewer</a>),\n",
       "  it may mean that your frontend doesn't currently support widgets.\n",
       "</p>\n"
      ],
      "text/plain": [
       "HBox(children=(Dropdown(description=u'Configuration file:', layout=Layout(width=u'450px'), options={'synpopGenerator_config_verbania_demo.py': 'synpopGenerator_config_verbania_demo.py', 'synpopGenerator_config_IT.py': 'synpopGenerator_config_IT.py', 'synpopGenerator_config_ITC.py': 'synpopGenerator_config_ITC.py', 'synpopGenerator_config_UK.py': 'synpopGenerator_config_UK.py', 'synpopGenerator_config_ITC1_trials.py': 'synpopGenerator_config_ITC1_trials.py', 'synpopGenerator_config_ITC1.py': 'synpopGenerator_config_ITC1.py', 'synpopGenerator_config.py': 'synpopGenerator_config.py', 'synpopGenerator_config_ITC1_3_4.py': 'synpopGenerator_config_ITC1_3_4.py', 'synpopGenerator_config_ITC_100pc.py': 'synpopGenerator_config_ITC_100pc.py', 'synpopGenerator_config_DE.py': 'synpopGenerator_config_DE.py'}, style=DescriptionStyle(description_width=u'initial'), value='synpopGenerator_config_verbania_demo.py'), Button(description=u'Check', style=ButtonStyle())))"
      ]
     },
     "metadata": {},
     "output_type": "display_data"
    }
   ],
   "source": [
    "display(checkBox)"
   ]
  },
  {
   "cell_type": "code",
   "execution_count": null,
   "metadata": {},
   "outputs": [],
   "source": []
  },
  {
   "cell_type": "markdown",
   "metadata": {
    "slideshow": {
     "slide_type": "slide"
    }
   },
   "source": [
    "# Synthetic network construction"
   ]
  },
  {
   "cell_type": "code",
   "execution_count": null,
   "metadata": {
    "scrolled": false,
    "slideshow": {
     "slide_type": "slide"
    }
   },
   "outputs": [],
   "source": []
  },
  {
   "cell_type": "code",
   "execution_count": null,
   "metadata": {
    "collapsed": true
   },
   "outputs": [],
   "source": []
  },
  {
   "cell_type": "code",
   "execution_count": null,
   "metadata": {},
   "outputs": [],
   "source": []
  },
  {
   "cell_type": "code",
   "execution_count": null,
   "metadata": {},
   "outputs": [],
   "source": []
  },
  {
   "cell_type": "markdown",
   "metadata": {
    "slideshow": {
     "slide_type": "slide"
    }
   },
   "source": [
    "## Data pre-processing and synthetic population creation\n",
    "\n",
    "\n",
    "**Enrico Ubaldi** \n",
    "\n",
    "*Health habits pilot* - ISI Foundation "
   ]
  },
  {
   "cell_type": "markdown",
   "metadata": {
    "slideshow": {
     "slide_type": "slide"
    }
   },
   "source": [
    "# Motivations and goal\n",
    "\n",
    "ABMs need a detailed description of population:\n",
    "\n",
    "<div style=\"float: left; width: 50%;\">\n",
    "<ul>\n",
    "<li> demographic traits (age, sex, health status...)\n",
    "<li> spatial information (households and workplaces location)\n",
    "<li> interaction patterns between agents (network of contacts)\n",
    "</ul>\n",
    "</div>\n",
    "<div style=\"float: right; width: 50%;\">\n",
    "<font size=23 color=\"#ff2222\"> X</font>\n",
    "<img align=\"right\" src=\"figures/synpop.jpg\">\n",
    "</div>\n",
    "\n",
    "$\\to$ key ingredient: **synthetic population**\n",
    "\n"
   ]
  },
  {
   "cell_type": "markdown",
   "metadata": {
    "slideshow": {
     "slide_type": "slide"
    }
   },
   "source": [
    "# Motivations and goal\n",
    "\n",
    "We aim at a *synthetic population*:\n",
    "\n",
    "<div style=\"float: left; width: 50%;\">\n",
    "<ul>\n",
    "<li> <b>realistic</b>:\n",
    "    <ul>\n",
    "        <li> reproducing real world data\n",
    "        <li>  encoding real traits of agents\n",
    "    </ul>\n",
    "</ul>\n",
    "</div>\n",
    "<div style=\"float: right; width: 50%;\">\n",
    "<img align=\"right\" src=\"figures/synPop_2011_DE1_agePerRole.png\">\n",
    "</div>"
   ]
  },
  {
   "cell_type": "markdown",
   "metadata": {
    "slideshow": {
     "slide_type": "slide"
    }
   },
   "source": [
    "# Motivations and goal\n",
    "\n",
    "We aim at a *synthetic population*:\n",
    "\n",
    "<div style=\"float: left; width: 50%;\">\n",
    "<ul>\n",
    "<li> <b>realistic</b>:\n",
    "    <ul>\n",
    "        <li> reproducing real world data\n",
    "        <li>  encoding real traits of agents\n",
    "    </ul>\n",
    "<li> <b>general</b>:\n",
    "    <ul>\n",
    "        <li> relies on globally available data\n",
    "        <li> quick and easy generation of any area\n",
    "    </ul>\n",
    "</ul>\n",
    "</div>\n",
    "<div style=\"float: right; width: 50%;\">\n",
    "    <img align=\"right\" src=\"figures/synpop_hhSpatialDistribution.png?id=2334\">\n",
    "</div>"
   ]
  },
  {
   "cell_type": "markdown",
   "metadata": {
    "slideshow": {
     "slide_type": "slide"
    }
   },
   "source": [
    "# Motivations and goal\n",
    "\n",
    "We aim at a *synthetic population*:\n",
    "\n",
    "<div style=\"float: left; width: 50%;\">\n",
    "<ul>\n",
    "<li> <b>realistic</b>:\n",
    "    <ul>\n",
    "        <li> reproducing real world data\n",
    "        <li>  encoding real traits of agents\n",
    "    </ul>\n",
    "<li> <b>general</b>:\n",
    "    <ul>\n",
    "        <li> relies on globally available data\n",
    "        <li> quick and easy generation of any area\n",
    "    </ul>\n",
    "<li> <b>HPC-compliant</b>:\n",
    "    <ul>\n",
    "        <li> suitable for multi-node computing\n",
    "        <li> appropriate file format for parallel I/O\n",
    "    </ul>\n",
    "</ul>\n",
    "</div>\n",
    "<div style=\"float: right; width: 50%;\">\n",
    "<img align=\"right\" src=\"figures/synpop_hierarchy.png\">\n",
    "</div>"
   ]
  },
  {
   "cell_type": "markdown",
   "metadata": {
    "slideshow": {
     "slide_type": "slide"
    }
   },
   "source": [
    "# Design: data sources\n",
    "\n",
    "Make use of open data from:\n",
    "\n",
    "<div style=\"float: left; width: 35%;\">\n",
    "<ul>\n",
    "<li> <b>Eurostat</b>:\n",
    "    <ul>\n",
    "        <li> population/household structure, demography\n",
    "        <li> employment and education levels\n",
    "    </ul>\n",
    "<li> <b>National statistics offices</b>:\n",
    "    <ul>\n",
    "        <li> commuting data\n",
    "        <li> number and size of schools/workplaces\n",
    "        <li> health stats\n",
    "    </ul>\n",
    "<li> <b>Online resources</b>:\n",
    "    <ul>\n",
    "        <li> <em>PISA</em> and <em>PIRLS</em> surveys (schools and classes size distribution)\n",
    "        <li> <b>O</b>pen <b>S</b>treet <b>M</b>aps API (local boundaries)\n",
    "        <li> <em>SEDAC</em> rasters (population density)\n",
    "    </ul>\n",
    "</ul>\n",
    "</div>\n",
    "<div style=\"float: right; width: 65%;\">\n",
    "<img align=\"right\" src=\"figures/slides_figures.png\" width=\"400%\">\n",
    "</div>"
   ]
  },
  {
   "cell_type": "markdown",
   "metadata": {
    "slideshow": {
     "slide_type": "slide"
    }
   },
   "source": [
    "# Design: data pre-processing and geoDB\n",
    "\n",
    "Organized the data in a *geographical database*:\n",
    "\n",
    "<div style=\"float: left; width: 40%;\">\n",
    "<ul>\n",
    "<li> <b>provides</b>:\n",
    "    <ul>\n",
    "        <li> fast and easy access to data\n",
    "        <li> homogeneous representation of statistics\n",
    "        <li> hierarchical representation of the population (more later)\n",
    "    </ul>\n",
    "<li> <b>unlocks</b>:\n",
    "    <ul>\n",
    "        <li> general generation procedure\n",
    "        <li> easy check of generated population\n",
    "    </ul>\n",
    "</ul>\n",
    "</div>\n",
    "<div style=\"float: right; width: 60%;\">\n",
    "<img align=\"right\" src=\"figures/db_query.png?id=12\">\n",
    "</div>"
   ]
  },
  {
   "cell_type": "markdown",
   "metadata": {
    "slideshow": {
     "slide_type": "slide"
    }
   },
   "source": [
    "# Design: population structure\n",
    "\n",
    "Agents (people) are arranged in:\n",
    "\n",
    "<div style=\"float: left; width: 50%;\">\n",
    "<ul>\n",
    "<li> households\n",
    "<li> workplaces/schools\n",
    "</ul>\n",
    "\n",
    "These locations are spatially located and organized:\n",
    "<ul>\n",
    "<li> <b>NUTS</b> codes (country, region, province)\n",
    "<li> <b>LAU</b> codes (local administrative units, e.g., city, district)\n",
    "<li> <b>LE</b> codes (local entities, user defined):\n",
    "    <ul>\n",
    "        <li> neighborhood (groups of ~5000 people)\n",
    "        <li> communities (~800 people)\n",
    "        <li> household cluster (~90 people)\n",
    "    </ul>\n",
    "</ul>\n",
    "$\\to$ Enables a natural multi-node representation of the population\n",
    "</div>\n",
    "<div style=\"float: right; width: 50%;\">\n",
    "<img align=\"right\" src=\"figures/synpop_hierarchy.png\">\n",
    "</div>"
   ]
  },
  {
   "cell_type": "markdown",
   "metadata": {
    "slideshow": {
     "slide_type": "slide"
    }
   },
   "source": [
    "# Results: generation procedure\n",
    "\n",
    "<div style=\"float: left; width: 40%;\">\n",
    "<ul>\n",
    "<li> Select <b>NUTS</b> codes\n",
    "<li> Retrieve statistics on    \n",
    "    <ul>\n",
    "        <li> sex, age, households structure\n",
    "        <li> school/employment rates per age\n",
    "        <li> commuting\n",
    "    </ul>\n",
    "<li> For each subcode\n",
    "    <ul>\n",
    "        <li> generate households\n",
    "        <li> compute number of workers/students (local + commuters)\n",
    "        <li> assign worker/student to workplace/school\n",
    "    </ul>\n",
    "<li> Cluster households and workplaces in <b>LE</b>\n",
    "</ul>\n",
    "</div>\n",
    "<div style=\"float: right; width: 60%;\">\n",
    "<font size=22 color=\"#ff2222\"> X</font>\n",
    "Image with the algorithm of the creation process\n",
    "<img align=\"right\" src=\"figures/synpop_diagram.jpg\">\n",
    "</div>"
   ]
  },
  {
   "cell_type": "markdown",
   "metadata": {
    "slideshow": {
     "slide_type": "slide"
    }
   },
   "source": [
    "# Results: population structure\n",
    "\n",
    "\n",
    "The generated population:\n",
    "<div style=\"float: left; width: 40%;\">\n",
    "<ul>\n",
    "<li> <b>reproduces</b>\n",
    "    <ul>\n",
    "        <li> overall population age structure\n",
    "        <li> in-household sex and age structure\n",
    "        <li> workplaces size \n",
    "        <li> distribution of commuting distance\n",
    "    </ul>\n",
    "<li> <b>features</b>\n",
    "    <ul>\n",
    "        <li> fine-grained spatial representation\n",
    "        <li> local clustering of agents groups\n",
    "        <li> hierarchical structure\n",
    "    </ul>\n",
    "</ul>\n",
    "</div>\n",
    "<div style=\"float: right; width: 60%;\">\n",
    "<img align=\"right\" src=\"figures/synPop_ITC11_agePopulationPerSex.png\">\n",
    "</div>"
   ]
  },
  {
   "cell_type": "markdown",
   "metadata": {
    "slideshow": {
     "slide_type": "slide"
    }
   },
   "source": [
    "# Results: HPC-compliance and model implementation\n",
    "\n",
    "The generated file is a standard *hdf5* file that provides:\n",
    "\n",
    "<div style=\"float: left; width: 40%;\">\n",
    "<ul>\n",
    "<li> fast and performant I/O operation on the synthetic population\n",
    "<li> provides suitable input for the parallel version of the developed model\n",
    "</ul>\n",
    "</div>\n",
    "<div style=\"float: right; width: 60%;\">\n",
    "<img align=\"right\" src=\"figures/ag_hh_wp_tables.png\">\n",
    "</div>"
   ]
  },
  {
   "cell_type": "code",
   "execution_count": null,
   "metadata": {
    "collapsed": true
   },
   "outputs": [],
   "source": []
  },
  {
   "cell_type": "code",
   "execution_count": null,
   "metadata": {
    "collapsed": true
   },
   "outputs": [],
   "source": []
  },
  {
   "cell_type": "code",
   "execution_count": null,
   "metadata": {
    "collapsed": true
   },
   "outputs": [],
   "source": []
  },
  {
   "cell_type": "code",
   "execution_count": null,
   "metadata": {
    "collapsed": true
   },
   "outputs": [],
   "source": []
  },
  {
   "cell_type": "code",
   "execution_count": null,
   "metadata": {
    "collapsed": true
   },
   "outputs": [],
   "source": []
  },
  {
   "cell_type": "code",
   "execution_count": null,
   "metadata": {
    "collapsed": true
   },
   "outputs": [],
   "source": []
  },
  {
   "cell_type": "code",
   "execution_count": null,
   "metadata": {
    "collapsed": true
   },
   "outputs": [],
   "source": []
  },
  {
   "cell_type": "code",
   "execution_count": null,
   "metadata": {
    "collapsed": true
   },
   "outputs": [],
   "source": []
  },
  {
   "cell_type": "code",
   "execution_count": null,
   "metadata": {
    "collapsed": true
   },
   "outputs": [],
   "source": []
  },
  {
   "cell_type": "code",
   "execution_count": null,
   "metadata": {
    "collapsed": true
   },
   "outputs": [],
   "source": []
  }
 ],
 "metadata": {
  "kernelspec": {
   "display_name": "Python 2",
   "language": "python",
   "name": "python2"
  },
  "language_info": {
   "codemirror_mode": {
    "name": "ipython",
    "version": 2
   },
   "file_extension": ".py",
   "mimetype": "text/x-python",
   "name": "python",
   "nbconvert_exporter": "python",
   "pygments_lexer": "ipython2",
   "version": "2.7.12"
  },
  "toc": {
   "colors": {
    "hover_highlight": "#DAA520",
    "running_highlight": "#FF0000",
    "selected_highlight": "#FFD700"
   },
   "moveMenuLeft": true,
   "nav_menu": {
    "height": "512px",
    "width": "252px"
   },
   "navigate_menu": true,
   "number_sections": true,
   "sideBar": true,
   "threshold": 4,
   "toc_cell": false,
   "toc_section_display": "block",
   "toc_window_display": false,
   "widenNotebook": false
  }
 },
 "nbformat": 4,
 "nbformat_minor": 2
}
