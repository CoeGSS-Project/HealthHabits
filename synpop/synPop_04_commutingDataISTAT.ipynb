{
 "cells": [
  {
   "cell_type": "markdown",
   "metadata": {
    "toc": "true"
   },
   "source": [
    "# Table of Contents\n",
    " <p><div class=\"lev1 toc-item\"><a href=\"#Overview\" data-toc-modified-id=\"Overview-1\"><span class=\"toc-item-num\">1&nbsp;&nbsp;</span>Overview</a></div><div class=\"lev2 toc-item\"><a href=\"#Input\" data-toc-modified-id=\"Input-11\"><span class=\"toc-item-num\">1.1&nbsp;&nbsp;</span>Input</a></div><div class=\"lev2 toc-item\"><a href=\"#Save-the-df\" data-toc-modified-id=\"Save-the-df-12\"><span class=\"toc-item-num\">1.2&nbsp;&nbsp;</span>Save the df</a></div>"
   ]
  },
  {
   "cell_type": "code",
   "execution_count": 1,
   "metadata": {},
   "outputs": [
    {
     "name": "stdout",
     "output_type": "stream",
     "text": [
      "Populating the interactive namespace from numpy and matplotlib\n"
     ]
    }
   ],
   "source": [
    "%pylab inline\n",
    "import pandas as pd"
   ]
  },
  {
   "cell_type": "markdown",
   "metadata": {},
   "source": [
    "# Overview\n",
    "\n",
    "In this notebook we show how to import the ISTAT commuting data to provide information on commuting to the synthetic population generator.\n",
    "\n",
    "We are going to load the tables containing the information about the number of students/workers commuting to:\n",
    "- same municipality of residence;\n",
    "- different municipality in same province of residence;\n",
    "- different province in same region of residence;\n",
    "- different region in same nation.\n",
    "- by now we will ignore the inter-state commuting as it is marginal.\n",
    "- also, we assume that all the people working and/or studying do commute to a workplace/school thus ignoring people working at home (even thoughdata are available).\n",
    "\n",
    "We will then convert these absolute counts to commuting probabilities and project them to all the eurostat codes to create a fake commuting matrix for teh whole Europe.\n",
    "\n",
    "## Input\n",
    "\n",
    "Here we import the input files (excel tables) downloaded from the [ISTAT](http://dati-censimentopopolazione.istat.it/index.aspx?queryid=3432) website."
   ]
  },
  {
   "cell_type": "code",
   "execution_count": 3,
   "metadata": {},
   "outputs": [],
   "source": [
    "columnCodes = [\"NUTS\", \"sCty\", \"sMun\", \"sMun_CT\",\n",
    "               \"dMun_sPrv\", \"dMun_sPrv_CT\",\n",
    "               \"dPrv_sReg\", \"dPrv_sReg_CT\",\n",
    "               \"dReg\", \"dReg_CT\", \"sCty_CT\",\n",
    "               \"dCty\", \"TOTAL\"\n",
    "              ]\n",
    "\n",
    "studentsCommuting_df = pd.read_excel(\"resources/Italy/population/commuting_studentsCommuters_ISTAT_2011_NUTS3.xlsx\",\n",
    "                                    na_values=\"..\", skiprows=3, names=columnCodes)\n",
    "\n",
    "workersCommuting_df = pd.read_excel(\"resources/Italy/population/commuting_workersCommuters_ISTAT_2011_NUTS3.xlsx\",\n",
    "                                    na_values=\"..\", skiprows=3, names=columnCodes)\n",
    "\n",
    "nonCommuting_df = pd.read_excel(\"resources/Italy/population/commuting_nonCommuters_ISTAT_2011_NUTS3.xlsx\",\n",
    "                                    na_values=\"..\", skiprows=1,\n",
    "                                    names=[\"NUTS\", \"studyHome\", \"workHome\", \"workNoPlace\", \"NEET\", \"TOTAL\"])\n",
    "\n",
    "# Replace holes with no commuters...\n",
    "workersCommuting_df.replace(to_replace=np.NaN, value=0., inplace=True)\n",
    "studentsCommuting_df.replace(to_replace=np.NaN, value=0., inplace=True)\n",
    "nonCommuting_df.replace(to_replace=np.NaN, value=0., inplace=True)\n",
    "\n",
    "# Drop columns about the destination in capitals (we do not care at\n",
    "# this stage to distinguish between commuting to capital or other\n",
    "# municipalities)...\n",
    "for capitalColumn in [c for c in columnCodes if \"_CT\" in c]:\n",
    "    del workersCommuting_df[capitalColumn]\n",
    "    del studentsCommuting_df[capitalColumn]\n",
    "\n",
    "# Remove spaces in nuts codes and keep only up to NUTS3 (no LAU1).\n",
    "workersCommuting_df[\"NUTS\"] = workersCommuting_df[\"NUTS\"].apply(lambda v: v.replace(\" \", \"\"))\n",
    "studentsCommuting_df[\"NUTS\"] = studentsCommuting_df[\"NUTS\"].apply(lambda v: v.replace(\" \", \"\"))\n",
    "\n",
    "workersCommuting_df = workersCommuting_df[workersCommuting_df[\"NUTS\"].str.len() <= 5]\n",
    "studentsCommuting_df = studentsCommuting_df[studentsCommuting_df[\"NUTS\"].str.len() <= 5]\n",
    "\n",
    "# Set the index\n",
    "workersCommuting_df.set_index(\"NUTS\", inplace=True)\n",
    "studentsCommuting_df.set_index(\"NUTS\", inplace=True)\n",
    "nonCommuting_df.set_index(\"NUTS\", inplace=True)"
   ]
  },
  {
   "cell_type": "code",
   "execution_count": 4,
   "metadata": {},
   "outputs": [
    {
     "data": {
      "text/html": [
       "<div>\n",
       "<style scoped>\n",
       "    .dataframe tbody tr th:only-of-type {\n",
       "        vertical-align: middle;\n",
       "    }\n",
       "\n",
       "    .dataframe tbody tr th {\n",
       "        vertical-align: top;\n",
       "    }\n",
       "\n",
       "    .dataframe thead th {\n",
       "        text-align: right;\n",
       "    }\n",
       "</style>\n",
       "<table border=\"1\" class=\"dataframe\">\n",
       "  <thead>\n",
       "    <tr style=\"text-align: right;\">\n",
       "      <th></th>\n",
       "      <th>sCty</th>\n",
       "      <th>sMun</th>\n",
       "      <th>dMun_sPrv</th>\n",
       "      <th>dPrv_sReg</th>\n",
       "      <th>dReg</th>\n",
       "      <th>dCty</th>\n",
       "      <th>TOTAL</th>\n",
       "    </tr>\n",
       "    <tr>\n",
       "      <th>NUTS</th>\n",
       "      <th></th>\n",
       "      <th></th>\n",
       "      <th></th>\n",
       "      <th></th>\n",
       "      <th></th>\n",
       "      <th></th>\n",
       "      <th></th>\n",
       "    </tr>\n",
       "  </thead>\n",
       "  <tbody>\n",
       "    <tr>\n",
       "      <th>IT</th>\n",
       "      <td>19094609</td>\n",
       "      <td>10311208</td>\n",
       "      <td>7039991</td>\n",
       "      <td>1463557.0</td>\n",
       "      <td>279853.0</td>\n",
       "      <td>63938.0</td>\n",
       "      <td>19158547</td>\n",
       "    </tr>\n",
       "    <tr>\n",
       "      <th>ITC</th>\n",
       "      <td>5709067</td>\n",
       "      <td>2454305</td>\n",
       "      <td>2537972</td>\n",
       "      <td>616197.0</td>\n",
       "      <td>100593.0</td>\n",
       "      <td>54813.0</td>\n",
       "      <td>5763880</td>\n",
       "    </tr>\n",
       "  </tbody>\n",
       "</table>\n",
       "</div>"
      ],
      "text/plain": [
       "          sCty      sMun  dMun_sPrv  dPrv_sReg      dReg     dCty     TOTAL\n",
       "NUTS                                                                       \n",
       "IT    19094609  10311208    7039991  1463557.0  279853.0  63938.0  19158547\n",
       "ITC    5709067   2454305    2537972   616197.0  100593.0  54813.0   5763880"
      ]
     },
     "execution_count": 4,
     "metadata": {},
     "output_type": "execute_result"
    }
   ],
   "source": [
    "workersCommuting_df.head(2)"
   ]
  },
  {
   "cell_type": "code",
   "execution_count": 5,
   "metadata": {},
   "outputs": [
    {
     "data": {
      "text/html": [
       "<div>\n",
       "<style scoped>\n",
       "    .dataframe tbody tr th:only-of-type {\n",
       "        vertical-align: middle;\n",
       "    }\n",
       "\n",
       "    .dataframe tbody tr th {\n",
       "        vertical-align: top;\n",
       "    }\n",
       "\n",
       "    .dataframe thead th {\n",
       "        text-align: right;\n",
       "    }\n",
       "</style>\n",
       "<table border=\"1\" class=\"dataframe\">\n",
       "  <thead>\n",
       "    <tr style=\"text-align: right;\">\n",
       "      <th></th>\n",
       "      <th>sCty</th>\n",
       "      <th>sMun</th>\n",
       "      <th>dMun_sPrv</th>\n",
       "      <th>dPrv_sReg</th>\n",
       "      <th>dReg</th>\n",
       "      <th>dCty</th>\n",
       "      <th>TOTAL</th>\n",
       "    </tr>\n",
       "    <tr>\n",
       "      <th>NUTS</th>\n",
       "      <th></th>\n",
       "      <th></th>\n",
       "      <th></th>\n",
       "      <th></th>\n",
       "      <th></th>\n",
       "      <th></th>\n",
       "      <th></th>\n",
       "    </tr>\n",
       "  </thead>\n",
       "  <tbody>\n",
       "    <tr>\n",
       "      <th>IT</th>\n",
       "      <td>9692150</td>\n",
       "      <td>7171072</td>\n",
       "      <td>2050686</td>\n",
       "      <td>393469.0</td>\n",
       "      <td>76923.0</td>\n",
       "      <td>2024.0</td>\n",
       "      <td>9694174</td>\n",
       "    </tr>\n",
       "    <tr>\n",
       "      <th>ITC</th>\n",
       "      <td>2468391</td>\n",
       "      <td>1688017</td>\n",
       "      <td>623733</td>\n",
       "      <td>132194.0</td>\n",
       "      <td>24447.0</td>\n",
       "      <td>1371.0</td>\n",
       "      <td>2469762</td>\n",
       "    </tr>\n",
       "  </tbody>\n",
       "</table>\n",
       "</div>"
      ],
      "text/plain": [
       "         sCty     sMun  dMun_sPrv  dPrv_sReg     dReg    dCty    TOTAL\n",
       "NUTS                                                                  \n",
       "IT    9692150  7171072    2050686   393469.0  76923.0  2024.0  9694174\n",
       "ITC   2468391  1688017     623733   132194.0  24447.0  1371.0  2469762"
      ]
     },
     "execution_count": 5,
     "metadata": {},
     "output_type": "execute_result"
    }
   ],
   "source": [
    "studentsCommuting_df.head(2)"
   ]
  },
  {
   "cell_type": "code",
   "execution_count": 6,
   "metadata": {},
   "outputs": [
    {
     "data": {
      "text/html": [
       "<div>\n",
       "<style scoped>\n",
       "    .dataframe tbody tr th:only-of-type {\n",
       "        vertical-align: middle;\n",
       "    }\n",
       "\n",
       "    .dataframe tbody tr th {\n",
       "        vertical-align: top;\n",
       "    }\n",
       "\n",
       "    .dataframe thead th {\n",
       "        text-align: right;\n",
       "    }\n",
       "</style>\n",
       "<table border=\"1\" class=\"dataframe\">\n",
       "  <thead>\n",
       "    <tr style=\"text-align: right;\">\n",
       "      <th></th>\n",
       "      <th>studyHome</th>\n",
       "      <th>workHome</th>\n",
       "      <th>workNoPlace</th>\n",
       "      <th>NEET</th>\n",
       "      <th>TOTAL</th>\n",
       "    </tr>\n",
       "    <tr>\n",
       "      <th>NUTS</th>\n",
       "      <th></th>\n",
       "      <th></th>\n",
       "      <th></th>\n",
       "      <th></th>\n",
       "      <th></th>\n",
       "    </tr>\n",
       "  </thead>\n",
       "  <tbody>\n",
       "    <tr>\n",
       "      <th>IT</th>\n",
       "      <td>651992</td>\n",
       "      <td>968741</td>\n",
       "      <td>1643512</td>\n",
       "      <td>24458090</td>\n",
       "      <td>27722335</td>\n",
       "    </tr>\n",
       "    <tr>\n",
       "      <th>ITC</th>\n",
       "      <td>106752</td>\n",
       "      <td>272654</td>\n",
       "      <td>445230</td>\n",
       "      <td>6071110</td>\n",
       "      <td>6895746</td>\n",
       "    </tr>\n",
       "  </tbody>\n",
       "</table>\n",
       "</div>"
      ],
      "text/plain": [
       "        studyHome  workHome  workNoPlace      NEET     TOTAL\n",
       "NUTS                                                        \n",
       "IT         651992    968741      1643512  24458090  27722335\n",
       "   ITC     106752    272654       445230   6071110   6895746"
      ]
     },
     "execution_count": 6,
     "metadata": {},
     "output_type": "execute_result"
    }
   ],
   "source": [
    "nonCommuting_df.head(2)"
   ]
  },
  {
   "cell_type": "code",
   "execution_count": 7,
   "metadata": {},
   "outputs": [
    {
     "name": "stdout",
     "output_type": "stream",
     "text": [
      "work\n",
      "\tTOTAL\n",
      "\tsCty\n",
      "NUTS\n",
      "ITF     1.0\n",
      "ITF3    1.0\n",
      "dtype: float64\n",
      "stud\n",
      "\tTOTAL\n",
      "\tsCty\n"
     ]
    }
   ],
   "source": [
    "# Check that I have the right number of commuters (or a number not too much wrong)\n",
    "aggregationsToCheck = {\n",
    "                \"sCty\": [\"sMun\", \"dMun_sPrv\", \"dPrv_sReg\", \"dReg\"],\n",
    "                \"TOTAL\": [\"sCty\", \"dCty\"],\n",
    "                      }\n",
    "\n",
    "for dfName, df in zip([\"work\", \"stud\"], [workersCommuting_df, studentsCommuting_df]):\n",
    "    print dfName\n",
    "    for tot, cols in aggregationsToCheck.iteritems():\n",
    "        print \"\\t\", tot\n",
    "        problematic = df[(df[cols].sum(axis=1) != df[tot])]\n",
    "        if problematic.shape[0] > 0:\n",
    "            print (problematic[cols].sum(axis=1) - problematic[tot])"
   ]
  },
  {
   "cell_type": "code",
   "execution_count": 8,
   "metadata": {},
   "outputs": [
    {
     "data": {
      "text/html": [
       "<div>\n",
       "<style scoped>\n",
       "    .dataframe tbody tr th:only-of-type {\n",
       "        vertical-align: middle;\n",
       "    }\n",
       "\n",
       "    .dataframe tbody tr th {\n",
       "        vertical-align: top;\n",
       "    }\n",
       "\n",
       "    .dataframe thead th {\n",
       "        text-align: right;\n",
       "    }\n",
       "</style>\n",
       "<table border=\"1\" class=\"dataframe\">\n",
       "  <thead>\n",
       "    <tr style=\"text-align: right;\">\n",
       "      <th></th>\n",
       "      <th>studyHome</th>\n",
       "      <th>workHome</th>\n",
       "      <th>workNoPlace</th>\n",
       "      <th>NEET</th>\n",
       "      <th>TOTAL</th>\n",
       "    </tr>\n",
       "    <tr>\n",
       "      <th>NUTS</th>\n",
       "      <th></th>\n",
       "      <th></th>\n",
       "      <th></th>\n",
       "      <th></th>\n",
       "      <th></th>\n",
       "    </tr>\n",
       "  </thead>\n",
       "  <tbody>\n",
       "  </tbody>\n",
       "</table>\n",
       "</div>"
      ],
      "text/plain": [
       "Empty DataFrame\n",
       "Columns: [studyHome, workHome, workNoPlace, NEET, TOTAL]\n",
       "Index: []"
      ]
     },
     "execution_count": 8,
     "metadata": {},
     "output_type": "execute_result"
    }
   ],
   "source": [
    "nonCommuting_df[nonCommuting_df[nonCommuting_df.columns[:-1]].sum(axis=1) != nonCommuting_df[\"TOTAL\"]]"
   ]
  },
  {
   "cell_type": "code",
   "execution_count": null,
   "metadata": {},
   "outputs": [],
   "source": []
  },
  {
   "cell_type": "code",
   "execution_count": 9,
   "metadata": {},
   "outputs": [
    {
     "name": "stdout",
     "output_type": "stream",
     "text": [
      "Index([], dtype='object', name=u'NUTS')\n"
     ]
    }
   ],
   "source": [
    "# Check that we have the same indexes\n",
    "print studentsCommuting_df.index.symmetric_difference(workersCommuting_df.index)"
   ]
  },
  {
   "cell_type": "code",
   "execution_count": 10,
   "metadata": {},
   "outputs": [],
   "source": [
    "# Create fake tables for all the europe NUTS3 sampling from this dataframe...\n",
    "\n",
    "# Load the reference df\n",
    "referenceDF = pd.read_pickle(\"resources/Europe/population/structure/dataframes/1990-2016_broadAgeBySexNUTS3.pkl\")\n",
    "\n",
    "missingNUTS3codes = referenceDF.index.difference(studentsCommuting_df.index)\n",
    "NmissingNUTS3codes = missingNUTS3codes.shape[0]"
   ]
  },
  {
   "cell_type": "code",
   "execution_count": 11,
   "metadata": {},
   "outputs": [
    {
     "data": {
      "text/html": [
       "<div>\n",
       "<style scoped>\n",
       "    .dataframe tbody tr th:only-of-type {\n",
       "        vertical-align: middle;\n",
       "    }\n",
       "\n",
       "    .dataframe tbody tr th {\n",
       "        vertical-align: top;\n",
       "    }\n",
       "\n",
       "    .dataframe thead th {\n",
       "        text-align: right;\n",
       "    }\n",
       "</style>\n",
       "<table border=\"1\" class=\"dataframe\">\n",
       "  <thead>\n",
       "    <tr style=\"text-align: right;\">\n",
       "      <th></th>\n",
       "      <th>sCty</th>\n",
       "      <th>sMun</th>\n",
       "      <th>dMun_sPrv</th>\n",
       "      <th>dPrv_sReg</th>\n",
       "      <th>dReg</th>\n",
       "      <th>dCty</th>\n",
       "      <th>TOTAL</th>\n",
       "    </tr>\n",
       "  </thead>\n",
       "  <tbody>\n",
       "    <tr>\n",
       "      <th>IT</th>\n",
       "      <td>9692150</td>\n",
       "      <td>7171072</td>\n",
       "      <td>2050686</td>\n",
       "      <td>393469.0</td>\n",
       "      <td>76923.0</td>\n",
       "      <td>2024.0</td>\n",
       "      <td>9694174</td>\n",
       "    </tr>\n",
       "    <tr>\n",
       "      <th>ITC</th>\n",
       "      <td>2468391</td>\n",
       "      <td>1688017</td>\n",
       "      <td>623733</td>\n",
       "      <td>132194.0</td>\n",
       "      <td>24447.0</td>\n",
       "      <td>1371.0</td>\n",
       "      <td>2469762</td>\n",
       "    </tr>\n",
       "    <tr>\n",
       "      <th>ITC1</th>\n",
       "      <td>649789</td>\n",
       "      <td>450189</td>\n",
       "      <td>171848</td>\n",
       "      <td>19675.0</td>\n",
       "      <td>8077.0</td>\n",
       "      <td>54.0</td>\n",
       "      <td>649843</td>\n",
       "    </tr>\n",
       "    <tr>\n",
       "      <th>ITC11</th>\n",
       "      <td>346128</td>\n",
       "      <td>252448</td>\n",
       "      <td>90865</td>\n",
       "      <td>2395.0</td>\n",
       "      <td>420.0</td>\n",
       "      <td>14.0</td>\n",
       "      <td>346142</td>\n",
       "    </tr>\n",
       "    <tr>\n",
       "      <th>ITC12</th>\n",
       "      <td>24112</td>\n",
       "      <td>15525</td>\n",
       "      <td>5423</td>\n",
       "      <td>2840.0</td>\n",
       "      <td>324.0</td>\n",
       "      <td>0.0</td>\n",
       "      <td>24112</td>\n",
       "    </tr>\n",
       "  </tbody>\n",
       "</table>\n",
       "</div>"
      ],
      "text/plain": [
       "          sCty     sMun  dMun_sPrv  dPrv_sReg     dReg    dCty    TOTAL\n",
       "IT     9692150  7171072    2050686   393469.0  76923.0  2024.0  9694174\n",
       "ITC    2468391  1688017     623733   132194.0  24447.0  1371.0  2469762\n",
       "ITC1    649789   450189     171848    19675.0   8077.0    54.0   649843\n",
       "ITC11   346128   252448      90865     2395.0    420.0    14.0   346142\n",
       "ITC12    24112    15525       5423     2840.0    324.0     0.0    24112"
      ]
     },
     "execution_count": 11,
     "metadata": {},
     "output_type": "execute_result"
    }
   ],
   "source": [
    "missingStudentCommuting = studentsCommuting_df.sample(NmissingNUTS3codes, replace=True)\n",
    "missingStudentCommuting.index = missingNUTS3codes\n",
    "\n",
    "europeStudentsCommuting_df = studentsCommuting_df.append(missingStudentCommuting,\n",
    "                                                   ignore_index=False, verify_integrity=True)\n",
    "europeStudentsCommuting_df.head()"
   ]
  },
  {
   "cell_type": "code",
   "execution_count": 12,
   "metadata": {},
   "outputs": [
    {
     "data": {
      "text/html": [
       "<div>\n",
       "<style scoped>\n",
       "    .dataframe tbody tr th:only-of-type {\n",
       "        vertical-align: middle;\n",
       "    }\n",
       "\n",
       "    .dataframe tbody tr th {\n",
       "        vertical-align: top;\n",
       "    }\n",
       "\n",
       "    .dataframe thead th {\n",
       "        text-align: right;\n",
       "    }\n",
       "</style>\n",
       "<table border=\"1\" class=\"dataframe\">\n",
       "  <thead>\n",
       "    <tr style=\"text-align: right;\">\n",
       "      <th></th>\n",
       "      <th>sCty</th>\n",
       "      <th>sMun</th>\n",
       "      <th>dMun_sPrv</th>\n",
       "      <th>dPrv_sReg</th>\n",
       "      <th>dReg</th>\n",
       "      <th>dCty</th>\n",
       "      <th>TOTAL</th>\n",
       "    </tr>\n",
       "  </thead>\n",
       "  <tbody>\n",
       "    <tr>\n",
       "      <th>IT</th>\n",
       "      <td>19094609</td>\n",
       "      <td>10311208</td>\n",
       "      <td>7039991</td>\n",
       "      <td>1463557.0</td>\n",
       "      <td>279853.0</td>\n",
       "      <td>63938.0</td>\n",
       "      <td>19158547</td>\n",
       "    </tr>\n",
       "    <tr>\n",
       "      <th>ITC</th>\n",
       "      <td>5709067</td>\n",
       "      <td>2454305</td>\n",
       "      <td>2537972</td>\n",
       "      <td>616197.0</td>\n",
       "      <td>100593.0</td>\n",
       "      <td>54813.0</td>\n",
       "      <td>5763880</td>\n",
       "    </tr>\n",
       "    <tr>\n",
       "      <th>ITC1</th>\n",
       "      <td>1532970</td>\n",
       "      <td>715934</td>\n",
       "      <td>707481</td>\n",
       "      <td>71051.0</td>\n",
       "      <td>38504.0</td>\n",
       "      <td>5700.0</td>\n",
       "      <td>1538670</td>\n",
       "    </tr>\n",
       "    <tr>\n",
       "      <th>ITC11</th>\n",
       "      <td>787579</td>\n",
       "      <td>371270</td>\n",
       "      <td>394670</td>\n",
       "      <td>15496.0</td>\n",
       "      <td>6143.0</td>\n",
       "      <td>127.0</td>\n",
       "      <td>787706</td>\n",
       "    </tr>\n",
       "    <tr>\n",
       "      <th>ITC12</th>\n",
       "      <td>60985</td>\n",
       "      <td>28827</td>\n",
       "      <td>18534</td>\n",
       "      <td>11894.0</td>\n",
       "      <td>1730.0</td>\n",
       "      <td>13.0</td>\n",
       "      <td>60998</td>\n",
       "    </tr>\n",
       "  </tbody>\n",
       "</table>\n",
       "</div>"
      ],
      "text/plain": [
       "           sCty      sMun  dMun_sPrv  dPrv_sReg      dReg     dCty     TOTAL\n",
       "IT     19094609  10311208    7039991  1463557.0  279853.0  63938.0  19158547\n",
       "ITC     5709067   2454305    2537972   616197.0  100593.0  54813.0   5763880\n",
       "ITC1    1532970    715934     707481    71051.0   38504.0   5700.0   1538670\n",
       "ITC11    787579    371270     394670    15496.0    6143.0    127.0    787706\n",
       "ITC12     60985     28827      18534    11894.0    1730.0     13.0     60998"
      ]
     },
     "execution_count": 12,
     "metadata": {},
     "output_type": "execute_result"
    }
   ],
   "source": [
    "missingWorkerCommuting = workersCommuting_df.sample(NmissingNUTS3codes, replace=True)\n",
    "missingWorkerCommuting.index = missingNUTS3codes\n",
    "\n",
    "europeWorkersCommuting_df = workersCommuting_df.append(missingWorkerCommuting,\n",
    "                                                   ignore_index=False, verify_integrity=True)\n",
    "europeWorkersCommuting_df.head()"
   ]
  },
  {
   "cell_type": "code",
   "execution_count": null,
   "metadata": {},
   "outputs": [],
   "source": []
  },
  {
   "cell_type": "code",
   "execution_count": 13,
   "metadata": {},
   "outputs": [],
   "source": [
    "# Now delete columns on foreign commuting and compute the probabilities...\n",
    "# We will use the counter to the same country as the total value\n",
    "workersCommutingRAW_df = europeWorkersCommuting_df.copy(deep=True)\n",
    "studentsCommutingRAW_df = europeStudentsCommuting_df.copy(deep=True)\n",
    "\n",
    "del workersCommutingRAW_df[\"dCty\"], workersCommutingRAW_df[\"TOTAL\"]\n",
    "del studentsCommutingRAW_df[\"dCty\"], studentsCommutingRAW_df[\"TOTAL\"]\n",
    "\n",
    "# Compute probability and delete total...\n",
    "workersCommutingPDF_df = workersCommutingRAW_df.div(workersCommutingRAW_df[\"sCty\"], axis=0)\n",
    "studentsCommutingPDF_df = studentsCommutingRAW_df.div(studentsCommutingRAW_df[\"sCty\"], axis=0)\n",
    "\n",
    "del workersCommutingRAW_df[\"sCty\"], studentsCommutingRAW_df[\"sCty\"]\n",
    "del workersCommutingPDF_df[\"sCty\"], studentsCommutingPDF_df[\"sCty\"]\n",
    "\n",
    "# Compute the actual PDF now that we have the total (total may be different from sum of columns)\n",
    "workersCommutingPDF_df = workersCommutingPDF_df.div(workersCommutingPDF_df.sum(axis=1), axis=0)\n",
    "studentsCommutingPDF_df = studentsCommutingPDF_df.div(studentsCommutingPDF_df.sum(axis=1), axis=0)\n",
    "\n",
    "workersCommutingCDF_df = workersCommutingPDF_df.cumsum(axis=1)\n",
    "studentsCommutingCDF_df = studentsCommutingPDF_df.cumsum(axis=1)"
   ]
  },
  {
   "cell_type": "code",
   "execution_count": 14,
   "metadata": {},
   "outputs": [
    {
     "data": {
      "text/html": [
       "<div>\n",
       "<style scoped>\n",
       "    .dataframe tbody tr th:only-of-type {\n",
       "        vertical-align: middle;\n",
       "    }\n",
       "\n",
       "    .dataframe tbody tr th {\n",
       "        vertical-align: top;\n",
       "    }\n",
       "\n",
       "    .dataframe thead th {\n",
       "        text-align: right;\n",
       "    }\n",
       "</style>\n",
       "<table border=\"1\" class=\"dataframe\">\n",
       "  <thead>\n",
       "    <tr style=\"text-align: right;\">\n",
       "      <th></th>\n",
       "      <th>sMun</th>\n",
       "      <th>dMun_sPrv</th>\n",
       "      <th>dPrv_sReg</th>\n",
       "      <th>dReg</th>\n",
       "    </tr>\n",
       "  </thead>\n",
       "  <tbody>\n",
       "    <tr>\n",
       "      <th>IT</th>\n",
       "      <td>10311208</td>\n",
       "      <td>7039991</td>\n",
       "      <td>1463557.0</td>\n",
       "      <td>279853.0</td>\n",
       "    </tr>\n",
       "    <tr>\n",
       "      <th>ITC</th>\n",
       "      <td>2454305</td>\n",
       "      <td>2537972</td>\n",
       "      <td>616197.0</td>\n",
       "      <td>100593.0</td>\n",
       "    </tr>\n",
       "  </tbody>\n",
       "</table>\n",
       "</div>"
      ],
      "text/plain": [
       "         sMun  dMun_sPrv  dPrv_sReg      dReg\n",
       "IT   10311208    7039991  1463557.0  279853.0\n",
       "ITC   2454305    2537972   616197.0  100593.0"
      ]
     },
     "execution_count": 14,
     "metadata": {},
     "output_type": "execute_result"
    }
   ],
   "source": [
    "workersCommutingRAW_df.head(2)"
   ]
  },
  {
   "cell_type": "code",
   "execution_count": 15,
   "metadata": {},
   "outputs": [
    {
     "data": {
      "text/html": [
       "<div>\n",
       "<style scoped>\n",
       "    .dataframe tbody tr th:only-of-type {\n",
       "        vertical-align: middle;\n",
       "    }\n",
       "\n",
       "    .dataframe tbody tr th {\n",
       "        vertical-align: top;\n",
       "    }\n",
       "\n",
       "    .dataframe thead th {\n",
       "        text-align: right;\n",
       "    }\n",
       "</style>\n",
       "<table border=\"1\" class=\"dataframe\">\n",
       "  <thead>\n",
       "    <tr style=\"text-align: right;\">\n",
       "      <th></th>\n",
       "      <th>sMun</th>\n",
       "      <th>dMun_sPrv</th>\n",
       "      <th>dPrv_sReg</th>\n",
       "      <th>dReg</th>\n",
       "    </tr>\n",
       "  </thead>\n",
       "  <tbody>\n",
       "    <tr>\n",
       "      <th>IT</th>\n",
       "      <td>0.540006</td>\n",
       "      <td>0.368690</td>\n",
       "      <td>0.076648</td>\n",
       "      <td>0.014656</td>\n",
       "    </tr>\n",
       "    <tr>\n",
       "      <th>ITC</th>\n",
       "      <td>0.429896</td>\n",
       "      <td>0.444551</td>\n",
       "      <td>0.107933</td>\n",
       "      <td>0.017620</td>\n",
       "    </tr>\n",
       "  </tbody>\n",
       "</table>\n",
       "</div>"
      ],
      "text/plain": [
       "         sMun  dMun_sPrv  dPrv_sReg      dReg\n",
       "IT   0.540006   0.368690   0.076648  0.014656\n",
       "ITC  0.429896   0.444551   0.107933  0.017620"
      ]
     },
     "execution_count": 15,
     "metadata": {},
     "output_type": "execute_result"
    }
   ],
   "source": [
    "workersCommutingPDF_df.head(2)"
   ]
  },
  {
   "cell_type": "code",
   "execution_count": 16,
   "metadata": {},
   "outputs": [
    {
     "data": {
      "text/html": [
       "<div>\n",
       "<style scoped>\n",
       "    .dataframe tbody tr th:only-of-type {\n",
       "        vertical-align: middle;\n",
       "    }\n",
       "\n",
       "    .dataframe tbody tr th {\n",
       "        vertical-align: top;\n",
       "    }\n",
       "\n",
       "    .dataframe thead th {\n",
       "        text-align: right;\n",
       "    }\n",
       "</style>\n",
       "<table border=\"1\" class=\"dataframe\">\n",
       "  <thead>\n",
       "    <tr style=\"text-align: right;\">\n",
       "      <th></th>\n",
       "      <th>sMun</th>\n",
       "      <th>dMun_sPrv</th>\n",
       "      <th>dPrv_sReg</th>\n",
       "      <th>dReg</th>\n",
       "    </tr>\n",
       "  </thead>\n",
       "  <tbody>\n",
       "    <tr>\n",
       "      <th>IT</th>\n",
       "      <td>0.540006</td>\n",
       "      <td>0.908696</td>\n",
       "      <td>0.985344</td>\n",
       "      <td>1.0</td>\n",
       "    </tr>\n",
       "    <tr>\n",
       "      <th>ITC</th>\n",
       "      <td>0.429896</td>\n",
       "      <td>0.874447</td>\n",
       "      <td>0.982380</td>\n",
       "      <td>1.0</td>\n",
       "    </tr>\n",
       "  </tbody>\n",
       "</table>\n",
       "</div>"
      ],
      "text/plain": [
       "         sMun  dMun_sPrv  dPrv_sReg  dReg\n",
       "IT   0.540006   0.908696   0.985344   1.0\n",
       "ITC  0.429896   0.874447   0.982380   1.0"
      ]
     },
     "execution_count": 16,
     "metadata": {},
     "output_type": "execute_result"
    }
   ],
   "source": [
    "workersCommutingCDF_df.head(2)"
   ]
  },
  {
   "cell_type": "code",
   "execution_count": null,
   "metadata": {},
   "outputs": [],
   "source": []
  },
  {
   "cell_type": "code",
   "execution_count": 17,
   "metadata": {},
   "outputs": [],
   "source": [
    "# concat the three ones!\n",
    "studentCommutingDistribution = pd.concat({\n",
    "                                    \"RAW\": studentsCommutingRAW_df,\n",
    "                                    \"PDF\": studentsCommutingPDF_df,\n",
    "                                    \"CDF\": studentsCommutingCDF_df,\n",
    "                                        }).unstack(0)\n",
    "studentCommutingDistribution.columns = studentCommutingDistribution.columns.swaplevel(1, 0)\n",
    "studentCommutingDistribution.sort_index(axis=1, level=-2, inplace=True)"
   ]
  },
  {
   "cell_type": "code",
   "execution_count": 18,
   "metadata": {},
   "outputs": [
    {
     "data": {
      "text/html": [
       "<div>\n",
       "<style scoped>\n",
       "    .dataframe tbody tr th:only-of-type {\n",
       "        vertical-align: middle;\n",
       "    }\n",
       "\n",
       "    .dataframe tbody tr th {\n",
       "        vertical-align: top;\n",
       "    }\n",
       "\n",
       "    .dataframe thead tr th {\n",
       "        text-align: left;\n",
       "    }\n",
       "</style>\n",
       "<table border=\"1\" class=\"dataframe\">\n",
       "  <thead>\n",
       "    <tr>\n",
       "      <th></th>\n",
       "      <th colspan=\"4\" halign=\"left\">CDF</th>\n",
       "      <th colspan=\"4\" halign=\"left\">PDF</th>\n",
       "      <th colspan=\"4\" halign=\"left\">RAW</th>\n",
       "    </tr>\n",
       "    <tr>\n",
       "      <th></th>\n",
       "      <th>sMun</th>\n",
       "      <th>dMun_sPrv</th>\n",
       "      <th>dPrv_sReg</th>\n",
       "      <th>dReg</th>\n",
       "      <th>sMun</th>\n",
       "      <th>dMun_sPrv</th>\n",
       "      <th>dPrv_sReg</th>\n",
       "      <th>dReg</th>\n",
       "      <th>sMun</th>\n",
       "      <th>dMun_sPrv</th>\n",
       "      <th>dPrv_sReg</th>\n",
       "      <th>dReg</th>\n",
       "    </tr>\n",
       "  </thead>\n",
       "  <tbody>\n",
       "    <tr>\n",
       "      <th>IT</th>\n",
       "      <td>0.739885</td>\n",
       "      <td>0.951467</td>\n",
       "      <td>0.992063</td>\n",
       "      <td>1.0</td>\n",
       "      <td>0.739885</td>\n",
       "      <td>0.211582</td>\n",
       "      <td>0.040597</td>\n",
       "      <td>0.007937</td>\n",
       "      <td>7171072.0</td>\n",
       "      <td>2050686.0</td>\n",
       "      <td>393469.0</td>\n",
       "      <td>76923.0</td>\n",
       "    </tr>\n",
       "    <tr>\n",
       "      <th>ITC</th>\n",
       "      <td>0.683853</td>\n",
       "      <td>0.936541</td>\n",
       "      <td>0.990096</td>\n",
       "      <td>1.0</td>\n",
       "      <td>0.683853</td>\n",
       "      <td>0.252688</td>\n",
       "      <td>0.053555</td>\n",
       "      <td>0.009904</td>\n",
       "      <td>1688017.0</td>\n",
       "      <td>623733.0</td>\n",
       "      <td>132194.0</td>\n",
       "      <td>24447.0</td>\n",
       "    </tr>\n",
       "  </tbody>\n",
       "</table>\n",
       "</div>"
      ],
      "text/plain": [
       "          CDF                                PDF                      \\\n",
       "         sMun dMun_sPrv dPrv_sReg dReg      sMun dMun_sPrv dPrv_sReg   \n",
       "IT   0.739885  0.951467  0.992063  1.0  0.739885  0.211582  0.040597   \n",
       "ITC  0.683853  0.936541  0.990096  1.0  0.683853  0.252688  0.053555   \n",
       "\n",
       "                     RAW                                \n",
       "         dReg       sMun  dMun_sPrv dPrv_sReg     dReg  \n",
       "IT   0.007937  7171072.0  2050686.0  393469.0  76923.0  \n",
       "ITC  0.009904  1688017.0   623733.0  132194.0  24447.0  "
      ]
     },
     "execution_count": 18,
     "metadata": {},
     "output_type": "execute_result"
    }
   ],
   "source": [
    "studentCommutingDistribution.head(2)"
   ]
  },
  {
   "cell_type": "code",
   "execution_count": 19,
   "metadata": {},
   "outputs": [],
   "source": [
    "# concat the three ones!\n",
    "workerCommutingDistribution = pd.concat({\n",
    "                                    \"RAW\": workersCommutingRAW_df,\n",
    "                                    \"PDF\": workersCommutingPDF_df,\n",
    "                                    \"CDF\": workersCommutingCDF_df,\n",
    "                                        }).unstack(0)\n",
    "workerCommutingDistribution.columns = workerCommutingDistribution.columns.swaplevel(0, 1)\n",
    "workerCommutingDistribution.sort_index(axis=1, level=-2, inplace=True)"
   ]
  },
  {
   "cell_type": "code",
   "execution_count": 20,
   "metadata": {},
   "outputs": [
    {
     "data": {
      "text/html": [
       "<div>\n",
       "<style scoped>\n",
       "    .dataframe tbody tr th:only-of-type {\n",
       "        vertical-align: middle;\n",
       "    }\n",
       "\n",
       "    .dataframe tbody tr th {\n",
       "        vertical-align: top;\n",
       "    }\n",
       "\n",
       "    .dataframe thead tr th {\n",
       "        text-align: left;\n",
       "    }\n",
       "</style>\n",
       "<table border=\"1\" class=\"dataframe\">\n",
       "  <thead>\n",
       "    <tr>\n",
       "      <th></th>\n",
       "      <th colspan=\"4\" halign=\"left\">CDF</th>\n",
       "      <th colspan=\"4\" halign=\"left\">PDF</th>\n",
       "      <th colspan=\"4\" halign=\"left\">RAW</th>\n",
       "    </tr>\n",
       "    <tr>\n",
       "      <th></th>\n",
       "      <th>sMun</th>\n",
       "      <th>dMun_sPrv</th>\n",
       "      <th>dPrv_sReg</th>\n",
       "      <th>dReg</th>\n",
       "      <th>sMun</th>\n",
       "      <th>dMun_sPrv</th>\n",
       "      <th>dPrv_sReg</th>\n",
       "      <th>dReg</th>\n",
       "      <th>sMun</th>\n",
       "      <th>dMun_sPrv</th>\n",
       "      <th>dPrv_sReg</th>\n",
       "      <th>dReg</th>\n",
       "    </tr>\n",
       "  </thead>\n",
       "  <tbody>\n",
       "    <tr>\n",
       "      <th>IT</th>\n",
       "      <td>0.540006</td>\n",
       "      <td>0.908696</td>\n",
       "      <td>0.985344</td>\n",
       "      <td>1.0</td>\n",
       "      <td>0.540006</td>\n",
       "      <td>0.368690</td>\n",
       "      <td>0.076648</td>\n",
       "      <td>0.014656</td>\n",
       "      <td>10311208.0</td>\n",
       "      <td>7039991.0</td>\n",
       "      <td>1463557.0</td>\n",
       "      <td>279853.0</td>\n",
       "    </tr>\n",
       "    <tr>\n",
       "      <th>ITC</th>\n",
       "      <td>0.429896</td>\n",
       "      <td>0.874447</td>\n",
       "      <td>0.982380</td>\n",
       "      <td>1.0</td>\n",
       "      <td>0.429896</td>\n",
       "      <td>0.444551</td>\n",
       "      <td>0.107933</td>\n",
       "      <td>0.017620</td>\n",
       "      <td>2454305.0</td>\n",
       "      <td>2537972.0</td>\n",
       "      <td>616197.0</td>\n",
       "      <td>100593.0</td>\n",
       "    </tr>\n",
       "  </tbody>\n",
       "</table>\n",
       "</div>"
      ],
      "text/plain": [
       "          CDF                                PDF                      \\\n",
       "         sMun dMun_sPrv dPrv_sReg dReg      sMun dMun_sPrv dPrv_sReg   \n",
       "IT   0.540006  0.908696  0.985344  1.0  0.540006  0.368690  0.076648   \n",
       "ITC  0.429896  0.874447  0.982380  1.0  0.429896  0.444551  0.107933   \n",
       "\n",
       "                      RAW                                  \n",
       "         dReg        sMun  dMun_sPrv  dPrv_sReg      dReg  \n",
       "IT   0.014656  10311208.0  7039991.0  1463557.0  279853.0  \n",
       "ITC  0.017620   2454305.0  2537972.0   616197.0  100593.0  "
      ]
     },
     "execution_count": 20,
     "metadata": {},
     "output_type": "execute_result"
    }
   ],
   "source": [
    "workerCommutingDistribution.head(2)"
   ]
  },
  {
   "cell_type": "code",
   "execution_count": null,
   "metadata": {},
   "outputs": [],
   "source": []
  },
  {
   "cell_type": "markdown",
   "metadata": {},
   "source": [
    "## Save the df"
   ]
  },
  {
   "cell_type": "code",
   "execution_count": 26,
   "metadata": {},
   "outputs": [],
   "source": [
    "workerCommutingDistribution.to_pickle(\"resources/Europe/population/structure/dataframes/2011_workCommuting_ISTAT_NUTS3.pkl\")\n",
    "studentCommutingDistribution.to_pickle(\"resources/Europe/population/structure/dataframes/2011_studyCommuting_ISTAT_NUTS3.pkl\")"
   ]
  },
  {
   "cell_type": "code",
   "execution_count": null,
   "metadata": {
    "collapsed": true
   },
   "outputs": [],
   "source": []
  },
  {
   "cell_type": "code",
   "execution_count": null,
   "metadata": {
    "collapsed": true
   },
   "outputs": [],
   "source": []
  },
  {
   "cell_type": "code",
   "execution_count": null,
   "metadata": {
    "collapsed": true
   },
   "outputs": [],
   "source": []
  }
 ],
 "metadata": {
  "kernelspec": {
   "display_name": "Python 2",
   "language": "python",
   "name": "python2"
  },
  "language_info": {
   "codemirror_mode": {
    "name": "ipython",
    "version": 2
   },
   "file_extension": ".py",
   "mimetype": "text/x-python",
   "name": "python",
   "nbconvert_exporter": "python",
   "pygments_lexer": "ipython2",
   "version": "2.7.12"
  },
  "toc": {
   "colors": {
    "hover_highlight": "#DAA520",
    "navigate_num": "#000000",
    "navigate_text": "#333333",
    "running_highlight": "#FF0000",
    "selected_highlight": "#FFD700",
    "sidebar_border": "#EEEEEE",
    "wrapper_background": "#FFFFFF"
   },
   "moveMenuLeft": true,
   "nav_menu": {
    "height": "120px",
    "width": "252px"
   },
   "navigate_menu": true,
   "number_sections": true,
   "sideBar": true,
   "threshold": 4,
   "toc_cell": true,
   "toc_position": {
    "height": "847px",
    "left": "0px",
    "right": "1468px",
    "top": "107px",
    "width": "212px"
   },
   "toc_section_display": "block",
   "toc_window_display": true,
   "widenNotebook": false
  }
 },
 "nbformat": 4,
 "nbformat_minor": 2
}
